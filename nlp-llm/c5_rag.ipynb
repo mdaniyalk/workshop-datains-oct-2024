{
  "cells": [
    {
      "cell_type": "markdown",
      "id": "d67a4729-cd2f-47e7-a4f6-f84a5677414f",
      "metadata": {
        "id": "d67a4729-cd2f-47e7-a4f6-f84a5677414f"
      },
      "source": [
        "# Basic RAG\n",
        "\n",
        "Retrieval-augmented generation (RAG) is an AI framework that synergizes the capabilities of LLMs and information retrieval systems. It’s useful to answer questions or generate content leveraging external knowledge. \n",
        "\n",
        "There are two main steps in RAG: \n",
        "1. retrieval: retrieve relevant information from a knowledge base with text embeddings stored in a vector store; \n",
        "2. generation: insert the relevant information to the prompt for the LLM to generate information. \n",
        "\n",
        "In this guide, we will walk through a very basic example of RAG with four implementations:\n",
        "\n",
        "- RAG from scratch with Llama 3.2 (using free Groq API),  and Faiss\n",
        "- RAG with Llama 3.2 and LangChain\n"
      ]
    },
    {
      "cell_type": "markdown",
      "id": "68443907",
      "metadata": {},
      "source": [
        "## RAG from scratch\n",
        "\n",
        "This section aims to guide you through the process of building a basic RAG from scratch."
      ]
    },
    {
      "cell_type": "markdown",
      "id": "5b62f4c3",
      "metadata": {},
      "source": [
        "### Setup and Installation"
      ]
    },
    {
      "cell_type": "markdown",
      "id": "c8a6e28e",
      "metadata": {},
      "source": [
        "Install the required libraries"
      ]
    },
    {
      "cell_type": "code",
      "execution_count": 1,
      "id": "b880d1ed-3db0-45a1-807e-1b47e9ce1320",
      "metadata": {
        "colab": {
          "base_uri": "https://localhost:8080/"
        },
        "id": "b880d1ed-3db0-45a1-807e-1b47e9ce1320",
        "outputId": "28d63132-6f3b-4c87-efeb-ecb384d9ce71"
      },
      "outputs": [
        {
          "name": "stdout",
          "output_type": "stream",
          "text": [
            "Requirement already satisfied: numpy==1.26.4 in /Users/mdaniyalk/miniforge3/envs/workshop/lib/python3.9/site-packages (1.26.4)\n",
            "Requirement already satisfied: faiss-cpu==1.8.0 in /Users/mdaniyalk/miniforge3/envs/workshop/lib/python3.9/site-packages (1.8.0)\n",
            "Requirement already satisfied: openai==1.14.3 in /Users/mdaniyalk/miniforge3/envs/workshop/lib/python3.9/site-packages (1.14.3)\n",
            "Requirement already satisfied: sentence-transformers in /Users/mdaniyalk/miniforge3/envs/workshop/lib/python3.9/site-packages (3.2.0)\n",
            "Requirement already satisfied: pandas==1.5.3 in /Users/mdaniyalk/miniforge3/envs/workshop/lib/python3.9/site-packages (1.5.3)\n",
            "Requirement already satisfied: anyio<5,>=3.5.0 in /Users/mdaniyalk/miniforge3/envs/workshop/lib/python3.9/site-packages (from openai==1.14.3) (4.6.2.post1)\n",
            "Requirement already satisfied: distro<2,>=1.7.0 in /Users/mdaniyalk/miniforge3/envs/workshop/lib/python3.9/site-packages (from openai==1.14.3) (1.9.0)\n",
            "Requirement already satisfied: httpx<1,>=0.23.0 in /Users/mdaniyalk/miniforge3/envs/workshop/lib/python3.9/site-packages (from openai==1.14.3) (0.27.2)\n",
            "Requirement already satisfied: pydantic<3,>=1.9.0 in /Users/mdaniyalk/miniforge3/envs/workshop/lib/python3.9/site-packages (from openai==1.14.3) (2.9.2)\n",
            "Requirement already satisfied: sniffio in /Users/mdaniyalk/miniforge3/envs/workshop/lib/python3.9/site-packages (from openai==1.14.3) (1.3.1)\n",
            "Requirement already satisfied: tqdm>4 in /Users/mdaniyalk/miniforge3/envs/workshop/lib/python3.9/site-packages (from openai==1.14.3) (4.66.5)\n",
            "Requirement already satisfied: typing-extensions<5,>=4.7 in /Users/mdaniyalk/miniforge3/envs/workshop/lib/python3.9/site-packages (from openai==1.14.3) (4.12.2)\n",
            "Requirement already satisfied: python-dateutil>=2.8.1 in /Users/mdaniyalk/miniforge3/envs/workshop/lib/python3.9/site-packages (from pandas==1.5.3) (2.9.0)\n",
            "Requirement already satisfied: pytz>=2020.1 in /Users/mdaniyalk/miniforge3/envs/workshop/lib/python3.9/site-packages (from pandas==1.5.3) (2024.2)\n",
            "Requirement already satisfied: transformers<5.0.0,>=4.41.0 in /Users/mdaniyalk/miniforge3/envs/workshop/lib/python3.9/site-packages (from sentence-transformers) (4.45.2)\n",
            "Requirement already satisfied: torch>=1.11.0 in /Users/mdaniyalk/miniforge3/envs/workshop/lib/python3.9/site-packages (from sentence-transformers) (2.2.2)\n",
            "Requirement already satisfied: scikit-learn in /Users/mdaniyalk/miniforge3/envs/workshop/lib/python3.9/site-packages (from sentence-transformers) (1.5.2)\n",
            "Requirement already satisfied: scipy in /Users/mdaniyalk/miniforge3/envs/workshop/lib/python3.9/site-packages (from sentence-transformers) (1.13.1)\n",
            "Requirement already satisfied: huggingface-hub>=0.20.0 in /Users/mdaniyalk/miniforge3/envs/workshop/lib/python3.9/site-packages (from sentence-transformers) (0.25.2)\n",
            "Requirement already satisfied: Pillow in /Users/mdaniyalk/miniforge3/envs/workshop/lib/python3.9/site-packages (from sentence-transformers) (11.0.0)\n",
            "Requirement already satisfied: idna>=2.8 in /Users/mdaniyalk/miniforge3/envs/workshop/lib/python3.9/site-packages (from anyio<5,>=3.5.0->openai==1.14.3) (3.10)\n",
            "Requirement already satisfied: exceptiongroup>=1.0.2 in /Users/mdaniyalk/miniforge3/envs/workshop/lib/python3.9/site-packages (from anyio<5,>=3.5.0->openai==1.14.3) (1.2.2)\n",
            "Requirement already satisfied: certifi in /Users/mdaniyalk/miniforge3/envs/workshop/lib/python3.9/site-packages (from httpx<1,>=0.23.0->openai==1.14.3) (2024.8.30)\n",
            "Requirement already satisfied: httpcore==1.* in /Users/mdaniyalk/miniforge3/envs/workshop/lib/python3.9/site-packages (from httpx<1,>=0.23.0->openai==1.14.3) (1.0.6)\n",
            "Requirement already satisfied: h11<0.15,>=0.13 in /Users/mdaniyalk/miniforge3/envs/workshop/lib/python3.9/site-packages (from httpcore==1.*->httpx<1,>=0.23.0->openai==1.14.3) (0.14.0)\n",
            "Requirement already satisfied: filelock in /Users/mdaniyalk/miniforge3/envs/workshop/lib/python3.9/site-packages (from huggingface-hub>=0.20.0->sentence-transformers) (3.16.1)\n",
            "Requirement already satisfied: fsspec>=2023.5.0 in /Users/mdaniyalk/miniforge3/envs/workshop/lib/python3.9/site-packages (from huggingface-hub>=0.20.0->sentence-transformers) (2024.9.0)\n",
            "Requirement already satisfied: packaging>=20.9 in /Users/mdaniyalk/miniforge3/envs/workshop/lib/python3.9/site-packages (from huggingface-hub>=0.20.0->sentence-transformers) (23.2)\n",
            "Requirement already satisfied: pyyaml>=5.1 in /Users/mdaniyalk/miniforge3/envs/workshop/lib/python3.9/site-packages (from huggingface-hub>=0.20.0->sentence-transformers) (6.0.2)\n",
            "Requirement already satisfied: requests in /Users/mdaniyalk/miniforge3/envs/workshop/lib/python3.9/site-packages (from huggingface-hub>=0.20.0->sentence-transformers) (2.32.3)\n",
            "Requirement already satisfied: annotated-types>=0.6.0 in /Users/mdaniyalk/miniforge3/envs/workshop/lib/python3.9/site-packages (from pydantic<3,>=1.9.0->openai==1.14.3) (0.7.0)\n",
            "Requirement already satisfied: pydantic-core==2.23.4 in /Users/mdaniyalk/miniforge3/envs/workshop/lib/python3.9/site-packages (from pydantic<3,>=1.9.0->openai==1.14.3) (2.23.4)\n",
            "Requirement already satisfied: six>=1.5 in /Users/mdaniyalk/miniforge3/envs/workshop/lib/python3.9/site-packages (from python-dateutil>=2.8.1->pandas==1.5.3) (1.16.0)\n",
            "Requirement already satisfied: sympy in /Users/mdaniyalk/miniforge3/envs/workshop/lib/python3.9/site-packages (from torch>=1.11.0->sentence-transformers) (1.13.3)\n",
            "Requirement already satisfied: networkx in /Users/mdaniyalk/miniforge3/envs/workshop/lib/python3.9/site-packages (from torch>=1.11.0->sentence-transformers) (3.2.1)\n",
            "Requirement already satisfied: jinja2 in /Users/mdaniyalk/miniforge3/envs/workshop/lib/python3.9/site-packages (from torch>=1.11.0->sentence-transformers) (3.1.4)\n",
            "Requirement already satisfied: regex!=2019.12.17 in /Users/mdaniyalk/miniforge3/envs/workshop/lib/python3.9/site-packages (from transformers<5.0.0,>=4.41.0->sentence-transformers) (2024.9.11)\n",
            "Requirement already satisfied: safetensors>=0.4.1 in /Users/mdaniyalk/miniforge3/envs/workshop/lib/python3.9/site-packages (from transformers<5.0.0,>=4.41.0->sentence-transformers) (0.4.5)\n",
            "Requirement already satisfied: tokenizers<0.21,>=0.20 in /Users/mdaniyalk/miniforge3/envs/workshop/lib/python3.9/site-packages (from transformers<5.0.0,>=4.41.0->sentence-transformers) (0.20.1)\n",
            "Requirement already satisfied: joblib>=1.2.0 in /Users/mdaniyalk/miniforge3/envs/workshop/lib/python3.9/site-packages (from scikit-learn->sentence-transformers) (1.4.2)\n",
            "Requirement already satisfied: threadpoolctl>=3.1.0 in /Users/mdaniyalk/miniforge3/envs/workshop/lib/python3.9/site-packages (from scikit-learn->sentence-transformers) (3.5.0)\n",
            "Requirement already satisfied: MarkupSafe>=2.0 in /Users/mdaniyalk/miniforge3/envs/workshop/lib/python3.9/site-packages (from jinja2->torch>=1.11.0->sentence-transformers) (3.0.1)\n",
            "Requirement already satisfied: charset-normalizer<4,>=2 in /Users/mdaniyalk/miniforge3/envs/workshop/lib/python3.9/site-packages (from requests->huggingface-hub>=0.20.0->sentence-transformers) (3.4.0)\n",
            "Requirement already satisfied: urllib3<3,>=1.21.1 in /Users/mdaniyalk/miniforge3/envs/workshop/lib/python3.9/site-packages (from requests->huggingface-hub>=0.20.0->sentence-transformers) (2.2.3)\n",
            "Requirement already satisfied: mpmath<1.4,>=1.1.0 in /Users/mdaniyalk/miniforge3/envs/workshop/lib/python3.9/site-packages (from sympy->torch>=1.11.0->sentence-transformers) (1.3.0)\n"
          ]
        }
      ],
      "source": [
        "!pip install numpy==1.26.4 faiss-cpu==1.8.0 openai==1.14.3 sentence-transformers pandas==1.5.3"
      ]
    },
    {
      "cell_type": "markdown",
      "id": "597c0b01",
      "metadata": {},
      "source": [
        "Download the PubMedQA Labeled for demonstration purposes."
      ]
    },
    {
      "cell_type": "code",
      "execution_count": 2,
      "id": "6322c1dc",
      "metadata": {},
      "outputs": [
        {
          "name": "stdout",
          "output_type": "stream",
          "text": [
            "--2024-10-17 01:28:28--  https://raw.githubusercontent.com/pubmedqa/pubmedqa/refs/heads/master/data/ori_pqal.json\n",
            "Resolving raw.githubusercontent.com (raw.githubusercontent.com)... 185.199.110.133, 185.199.111.133, 185.199.109.133, ...\n",
            "Connecting to raw.githubusercontent.com (raw.githubusercontent.com)|185.199.110.133|:443... connected.\n",
            "HTTP request sent, awaiting response... 200 OK\n",
            "Length: 2584787 (2.5M) [text/plain]\n",
            "Saving to: ‘pqa_labelled.json’\n",
            "\n",
            "pqa_labelled.json   100%[===================>]   2.46M  4.96MB/s    in 0.5s    \n",
            "\n",
            "2024-10-17 01:28:30 (4.96 MB/s) - ‘pqa_labelled.json’ saved [2584787/2584787]\n",
            "\n"
          ]
        }
      ],
      "source": [
        "!wget https://raw.githubusercontent.com/pubmedqa/pubmedqa/refs/heads/master/data/ori_pqal.json -O pqa_labelled.json"
      ]
    },
    {
      "cell_type": "markdown",
      "id": "6a516bbd",
      "metadata": {},
      "source": [
        "### Import Libraries"
      ]
    },
    {
      "cell_type": "code",
      "execution_count": 3,
      "id": "851612c3-ee93-42e3-a1fb-481f89c9410f",
      "metadata": {
        "colab": {
          "base_uri": "https://localhost:8080/"
        },
        "id": "851612c3-ee93-42e3-a1fb-481f89c9410f",
        "outputId": "7b992903-0ddf-4a1b-c879-3193847364c8"
      },
      "outputs": [
        {
          "name": "stderr",
          "output_type": "stream",
          "text": [
            "/Users/mdaniyalk/miniforge3/envs/workshop/lib/python3.9/site-packages/sentence_transformers/cross_encoder/CrossEncoder.py:13: TqdmWarning: IProgress not found. Please update jupyter and ipywidgets. See https://ipywidgets.readthedocs.io/en/stable/user_install.html\n",
            "  from tqdm.autonotebook import tqdm, trange\n"
          ]
        }
      ],
      "source": [
        "import numpy as np\n",
        "import faiss\n",
        "import json\n",
        "import pandas as pd\n",
        "\n",
        "from sentence_transformers import SentenceTransformer\n",
        "from openai import OpenAI\n",
        "\n",
        "client = OpenAI(\n",
        "    api_key=\"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\", \n",
        "    base_url='https://api.groq.com/openai/v1',\n",
        ")"
      ]
    },
    {
      "cell_type": "markdown",
      "id": "fe8609d5-9f27-4202-b0be-36db34412998",
      "metadata": {
        "id": "fe8609d5-9f27-4202-b0be-36db34412998"
      },
      "source": [
        "### Load and view the dataset"
      ]
    },
    {
      "cell_type": "code",
      "execution_count": 4,
      "id": "c4c01740-72b4-482c-b61e-e272a734f01f",
      "metadata": {
        "id": "c4c01740-72b4-482c-b61e-e272a734f01f"
      },
      "outputs": [
        {
          "data": {
            "text/html": [
              "<div>\n",
              "<style scoped>\n",
              "    .dataframe tbody tr th:only-of-type {\n",
              "        vertical-align: middle;\n",
              "    }\n",
              "\n",
              "    .dataframe tbody tr th {\n",
              "        vertical-align: top;\n",
              "    }\n",
              "\n",
              "    .dataframe thead th {\n",
              "        text-align: right;\n",
              "    }\n",
              "</style>\n",
              "<table border=\"1\" class=\"dataframe\">\n",
              "  <thead>\n",
              "    <tr style=\"text-align: right;\">\n",
              "      <th></th>\n",
              "      <th>questions</th>\n",
              "      <th>contexts</th>\n",
              "      <th>answers</th>\n",
              "    </tr>\n",
              "  </thead>\n",
              "  <tbody>\n",
              "    <tr>\n",
              "      <th>0</th>\n",
              "      <td>Do mitochondria play a role in remodelling lac...</td>\n",
              "      <td>[Programmed cell death (PCD) is the regulated ...</td>\n",
              "      <td>Results depicted mitochondrial dynamics in viv...</td>\n",
              "    </tr>\n",
              "    <tr>\n",
              "      <th>1</th>\n",
              "      <td>Landolt C and snellen e acuity: differences in...</td>\n",
              "      <td>[Assessment of visual acuity depends on the op...</td>\n",
              "      <td>Using the charts described, there was only a s...</td>\n",
              "    </tr>\n",
              "    <tr>\n",
              "      <th>2</th>\n",
              "      <td>Syncope during bathing in infants, a pediatric...</td>\n",
              "      <td>[Apparent life-threatening events in infants a...</td>\n",
              "      <td>\"Aquagenic maladies\" could be a pediatric form...</td>\n",
              "    </tr>\n",
              "    <tr>\n",
              "      <th>3</th>\n",
              "      <td>Are the long-term results of the transanal pul...</td>\n",
              "      <td>[The transanal endorectal pull-through (TERPT)...</td>\n",
              "      <td>Our long-term study showed significantly bette...</td>\n",
              "    </tr>\n",
              "    <tr>\n",
              "      <th>4</th>\n",
              "      <td>Can tailored interventions increase mammograph...</td>\n",
              "      <td>[Telephone counseling and tailored print commu...</td>\n",
              "      <td>The effects of the intervention were most pron...</td>\n",
              "    </tr>\n",
              "  </tbody>\n",
              "</table>\n",
              "</div>"
            ],
            "text/plain": [
              "                                           questions  \\\n",
              "0  Do mitochondria play a role in remodelling lac...   \n",
              "1  Landolt C and snellen e acuity: differences in...   \n",
              "2  Syncope during bathing in infants, a pediatric...   \n",
              "3  Are the long-term results of the transanal pul...   \n",
              "4  Can tailored interventions increase mammograph...   \n",
              "\n",
              "                                            contexts  \\\n",
              "0  [Programmed cell death (PCD) is the regulated ...   \n",
              "1  [Assessment of visual acuity depends on the op...   \n",
              "2  [Apparent life-threatening events in infants a...   \n",
              "3  [The transanal endorectal pull-through (TERPT)...   \n",
              "4  [Telephone counseling and tailored print commu...   \n",
              "\n",
              "                                             answers  \n",
              "0  Results depicted mitochondrial dynamics in viv...  \n",
              "1  Using the charts described, there was only a s...  \n",
              "2  \"Aquagenic maladies\" could be a pediatric form...  \n",
              "3  Our long-term study showed significantly bette...  \n",
              "4  The effects of the intervention were most pron...  "
            ]
          },
          "execution_count": 4,
          "metadata": {},
          "output_type": "execute_result"
        }
      ],
      "source": [
        "with open('pqa_labelled.json', 'r') as f:\n",
        "    data = json.load(f)\n",
        "\n",
        "transformed_data = {\n",
        "    \"questions\": [],\n",
        "    \"contexts\": [],\n",
        "    \"answers\": []\n",
        "}\n",
        "\n",
        "for item in data.values():\n",
        "    transformed_data['questions'].append(item['QUESTION'])\n",
        "    transformed_data['contexts'].append(item['CONTEXTS'])\n",
        "    transformed_data['answers'].append(item['LONG_ANSWER'])\n",
        "\n",
        "df = pd.DataFrame(transformed_data)\n",
        "df.head()"
      ]
    },
    {
      "cell_type": "markdown",
      "id": "aad1aa61-9e1c-46c8-ae5e-61855df440f9",
      "metadata": {
        "id": "aad1aa61-9e1c-46c8-ae5e-61855df440f9"
      },
      "source": [
        "## Split document into chunks\n",
        "\n",
        "In a RAG system, it is crucial to split the document into smaller chunks so that it’s more effective to identify and retrieve the most relevant information in the retrieval process later. In this example, we simply split our text by character, combine 2048 characters into each chunk."
      ]
    },
    {
      "cell_type": "code",
      "execution_count": 5,
      "id": "8494655e-bd87-49de-8f1d-69ffbc1c256e",
      "metadata": {
        "id": "8494655e-bd87-49de-8f1d-69ffbc1c256e"
      },
      "outputs": [
        {
          "name": "stdout",
          "output_type": "stream",
          "text": [
            "Total chunks: 1033\n",
            "For testing, we will use only 200 chunks\n"
          ]
        }
      ],
      "source": [
        "chunk_size = 2048\n",
        "chunks = []\n",
        "\n",
        "for text in df['contexts']:\n",
        "    text = \"\\n\".join(text)\n",
        "    chunks += [text[i:i + chunk_size] for i in range(0, len(text), chunk_size) if len(text[i:i + chunk_size]) > 0]\n",
        "\n",
        "print(f\"Total chunks: {len(chunks)}\")\n",
        "\n",
        "chunks = chunks[:200]\n",
        "print(f\"For testing, we will use only {len(chunks)} chunks\")"
      ]
    },
    {
      "cell_type": "code",
      "execution_count": 6,
      "id": "5b8a302f",
      "metadata": {},
      "outputs": [],
      "source": [
        "def get_text_embedding(sentences):\n",
        "    model = SentenceTransformer('BAAI/bge-large-en-v1.5')\n",
        "    embeddings = model.encode(sentences)\n",
        "    return embeddings"
      ]
    },
    {
      "cell_type": "code",
      "execution_count": 7,
      "id": "46503830-6ad5-493e-a629-152721e2d88e",
      "metadata": {
        "id": "46503830-6ad5-493e-a629-152721e2d88e"
      },
      "outputs": [],
      "source": [
        "text_embeddings = get_text_embedding(chunks)"
      ]
    },
    {
      "cell_type": "code",
      "execution_count": 8,
      "id": "ca875993-fe6d-42df-811e-a43891cd0350",
      "metadata": {
        "colab": {
          "base_uri": "https://localhost:8080/"
        },
        "id": "ca875993-fe6d-42df-811e-a43891cd0350",
        "outputId": "850bbbad-33ca-45e5-f882-14d4a8e55a80"
      },
      "outputs": [
        {
          "data": {
            "text/plain": [
              "(200, 1024)"
            ]
          },
          "execution_count": 8,
          "metadata": {},
          "output_type": "execute_result"
        }
      ],
      "source": [
        "text_embeddings.shape"
      ]
    },
    {
      "cell_type": "code",
      "execution_count": 9,
      "id": "55396758-c3f3-45b3-b6e7-d4912c0899f2",
      "metadata": {
        "colab": {
          "base_uri": "https://localhost:8080/"
        },
        "id": "55396758-c3f3-45b3-b6e7-d4912c0899f2",
        "outputId": "e054688d-d432-4ae1-bd12-a1a3da2d3b77"
      },
      "outputs": [
        {
          "data": {
            "text/plain": [
              "array([[-0.02067855, -0.0206868 , -0.00386641, ..., -0.0246049 ,\n",
              "        -0.01016385, -0.01389029],\n",
              "       [ 0.02316776,  0.00813704,  0.01444905, ...,  0.00461098,\n",
              "        -0.00860879, -0.0261598 ],\n",
              "       [-0.01896981,  0.03469644,  0.01957831, ..., -0.03605654,\n",
              "         0.01847292, -0.03471107],\n",
              "       ...,\n",
              "       [ 0.01794667,  0.00674211, -0.01692702, ..., -0.00258185,\n",
              "        -0.05088462, -0.01757879],\n",
              "       [ 0.01564134,  0.02095531,  0.02021172, ..., -0.02712115,\n",
              "         0.00242129, -0.0316244 ],\n",
              "       [ 0.00582405, -0.00561285,  0.00256976, ..., -0.00079749,\n",
              "        -0.00475963,  0.02209369]], dtype=float32)"
            ]
          },
          "execution_count": 9,
          "metadata": {},
          "output_type": "execute_result"
        }
      ],
      "source": [
        "text_embeddings"
      ]
    },
    {
      "cell_type": "markdown",
      "id": "1cba33c7-9d1d-44d8-a01e-e30f16be1aac",
      "metadata": {
        "id": "1cba33c7-9d1d-44d8-a01e-e30f16be1aac"
      },
      "source": [
        "### Load into a vector database\n",
        "Once we get the text embeddings, a common practice is to store them in a vector database for efficient processing and retrieval. There are several vector database to choose from. In our simple example, we are using an open-source vector database Faiss, which allows for efficient similarity search.  \n",
        "\n",
        "With Faiss, we instantiate an instance of the Index class, which defines the indexing structure of the vector database. We then add the text embeddings to this indexing structure.\n"
      ]
    },
    {
      "cell_type": "code",
      "execution_count": 10,
      "id": "6a5b1877-b113-4527-9055-cae9049fef08",
      "metadata": {
        "id": "6a5b1877-b113-4527-9055-cae9049fef08"
      },
      "outputs": [],
      "source": [
        "d = text_embeddings.shape[1]\n",
        "index = faiss.IndexFlatL2(d)\n",
        "index.add(text_embeddings)"
      ]
    },
    {
      "cell_type": "markdown",
      "id": "5ee023ab-b26c-4df5-8a7b-7dd660bfad86",
      "metadata": {
        "id": "5ee023ab-b26c-4df5-8a7b-7dd660bfad86"
      },
      "source": [
        "### Create embeddings for a question\n",
        "Whenever users ask a question, we also need to create embeddings for this question using the same embedding models as before.\n"
      ]
    },
    {
      "cell_type": "code",
      "execution_count": 11,
      "id": "894d9764-9da9-4629-8f2a-c9dcaf6ceb8d",
      "metadata": {
        "colab": {
          "base_uri": "https://localhost:8080/"
        },
        "id": "894d9764-9da9-4629-8f2a-c9dcaf6ceb8d",
        "outputId": "53e8c850-bd0b-4e2f-c773-1f9cdc55e85d"
      },
      "outputs": [
        {
          "data": {
            "text/plain": [
              "(1, 1024)"
            ]
          },
          "execution_count": 11,
          "metadata": {},
          "output_type": "execute_result"
        }
      ],
      "source": [
        "question = \"Explain what is Amblyopia?\"\n",
        "question_embeddings = get_text_embedding([question])\n",
        "question_embeddings.shape"
      ]
    },
    {
      "cell_type": "code",
      "execution_count": 12,
      "id": "9c4948cc-6d8b-449f-bc00-abb3591c7222",
      "metadata": {
        "colab": {
          "base_uri": "https://localhost:8080/"
        },
        "id": "9c4948cc-6d8b-449f-bc00-abb3591c7222",
        "outputId": "bcc80d00-483e-4372-88c0-5a53acb225c5"
      },
      "outputs": [
        {
          "data": {
            "text/plain": [
              "array([[ 0.02755282, -0.02487555, -0.04647454, ...,  0.00898436,\n",
              "        -0.00786413, -0.02185952]], dtype=float32)"
            ]
          },
          "execution_count": 12,
          "metadata": {},
          "output_type": "execute_result"
        }
      ],
      "source": [
        "question_embeddings"
      ]
    },
    {
      "cell_type": "markdown",
      "id": "15989e10-d0ec-41be-b6be-fa317565a926",
      "metadata": {
        "id": "15989e10-d0ec-41be-b6be-fa317565a926"
      },
      "source": [
        "### Retrieve similar chunks from the vector database\n",
        "We can perform a search on the vector database with `index.search`, which takes two arguments: the first is the vector of the question embeddings, and the second is the number of similar vectors to retrieve. This function returns the distances and the indices of the most similar vectors to the question vector in the vector database. Then based on the returned indices, we can retrieve the actual relevant text chunks that correspond to those indices.\n"
      ]
    },
    {
      "cell_type": "code",
      "execution_count": 13,
      "id": "c930b378-7aac-434c-881b-ab69d3edb93d",
      "metadata": {
        "colab": {
          "base_uri": "https://localhost:8080/"
        },
        "id": "c930b378-7aac-434c-881b-ab69d3edb93d",
        "outputId": "3e4cdee4-de22-40bb-e489-5682a16d428d"
      },
      "outputs": [
        {
          "name": "stdout",
          "output_type": "stream",
          "text": [
            "[[ 26   1 106]]\n"
          ]
        }
      ],
      "source": [
        "D, I = index.search(question_embeddings, k=3)\n",
        "print(I)"
      ]
    },
    {
      "cell_type": "code",
      "execution_count": 14,
      "id": "73aab584-1dbf-4532-b41e-0403eeeeb567",
      "metadata": {
        "colab": {
          "base_uri": "https://localhost:8080/"
        },
        "id": "73aab584-1dbf-4532-b41e-0403eeeeb567",
        "outputId": "544780f2-6dd4-48ee-ed70-c9783ec60e92"
      },
      "outputs": [
        {
          "name": "stdout",
          "output_type": "stream",
          "text": [
            "['The records of 465 patients with an established diagnosis of age related macular degeneration who had attended a specialist macular clinic between 1990 and 1998 were scrutinised. A full clinical examination and standardised refraction had been carried out in 189 of these cases on a minimum of two occasions. Cases were looked for where an improvement of one or more lines of either distance or near acuity was recorded in the eye unaffected by macular disease. In each one of these cases the improvement in visual acuity could not be attributed to treatment of other existing pathology.\\n12 such cases were detected. In nine of these the eye showing improvement of acuity had a history of amblyopia. The mean improvement in distance and near acuity in amblyopic eyes by 12 months was 3.3 and 1.9 lines logMAR respectively. The improvement in acuity generally occurred between 1 and 12 months from baseline and remained stable over the period of follow up.', 'Assessment of visual acuity depends on the optotypes used for measurement. The ability to recognize different optotypes differs even if their critical details appear under the same visual angle. Since optotypes are evaluated on individuals with good visual acuity and without eye disorders, differences in the lower visual acuity range cannot be excluded. In this study, visual acuity measured with the Snellen E was compared to the Landolt C acuity.\\n100 patients (age 8 - 90 years, median 60.5 years) with various eye disorders, among them 39 with amblyopia due to strabismus, and 13 healthy volunteers were tested. Charts with the Snellen E and the Landolt C (Precision Vision) which mimic the ETDRS charts were used to assess visual acuity. Three out of 5 optotypes per line had to be correctly identified, while wrong answers were monitored. In the group of patients, the eyes with the lower visual acuity, and the right eyes of the healthy subjects, were evaluated.\\nDifferences between Landolt C acuity (LR) and Snellen E acuity (SE) were small. The mean decimal values for LR and SE were 0.25 and 0.29 in the entire group and 0.14 and 0.16 for the eyes with strabismus amblyopia. The mean difference between LR and SE was 0.55 lines in the entire group and 0.55 lines for the eyes with strabismus amblyopia, with higher values of SE in both groups. The results of the other groups were similar with only small differences between LR and SE.', 'The precise correction of refractive error is especially important in young adults. It is unclear whether cycloplegic refraction is necessary in this age group. The purpose of this study was to compare the non-cycloplegic and cycloplegic spherical equivalent (SE) refractive error measured in young adults.\\nThis was a prospective study of 1400 eyes (n\\u2009=\\u2009700) of enlisted soldiers aged 18 to 21\\xa0years who were consecutively evaluated in an outpatient army ophthalmology clinic. One drop of cyclopentolate 1\\xa0% was installed twice 10\\xa0min apart, and cycloplegic refraction was performed in both eyes 40\\xa0min later using an auto-refractor. The difference between non-cycloplegic and cycloplegic refractive measurements was analyzed.\\nThe mean difference in SE between non-cycloplegic and cycloplegic measurements was 0.68\\u2009±\\u20090.83\\xa0D (95\\xa0% CI, 0.64-0.72). Significantly greater differences were observed in hypermetropes than myopes (1.30\\u2009±\\u20090.90\\xa0D versus 0.46\\u2009±\\u20090.68\\xa0D, p\\u2009<\\u20090.001). Moderate hypermetropes (2 to 5\\xa0D) demonstrated significantly greater refractive error than mild (0.5 to 2\\xa0D) or severe (>5\\xa0D) hypermetropes (1.71\\u2009±\\u20091.18\\xa0D versus 1.19\\u2009±\\u20090.74\\xa0D and 1.16\\u2009±\\u20091.08\\xa0D respectively, p\\u2009<\\u20090.001).']\n"
          ]
        }
      ],
      "source": [
        "retrieved_chunk = [chunks[i] for i in I.tolist()[0]]\n",
        "print(retrieved_chunk)"
      ]
    },
    {
      "cell_type": "markdown",
      "id": "4b417a59-021a-411d-a491-cb31815192cd",
      "metadata": {
        "id": "4b417a59-021a-411d-a491-cb31815192cd"
      },
      "source": [
        "### Combine context and question in a prompt and generate response\n",
        "\n",
        "Finally, we can offer the retrieved text chunks as the context information within the prompt. Here is a prompt template where we can include both the retrieved text and user question in the prompt.\n",
        "\n"
      ]
    },
    {
      "cell_type": "code",
      "execution_count": 15,
      "id": "da042a53-4564-4057-9a60-9b57dffff6a1",
      "metadata": {
        "id": "da042a53-4564-4057-9a60-9b57dffff6a1"
      },
      "outputs": [],
      "source": [
        "def prompt_template(question, retrieved_chunk):\n",
        "    prompt = f\"\"\"\n",
        "    Answer the following question based only on the provided context.\n",
        "\n",
        "    <context>\n",
        "    {retrieved_chunk}\n",
        "    </context>\n",
        "\n",
        "    Question: {question}\n",
        "    \"\"\"\n",
        "    return prompt"
      ]
    },
    {
      "cell_type": "code",
      "execution_count": 16,
      "id": "e77d975b-5f69-4e9c-8b94-97214517eac7",
      "metadata": {
        "id": "e77d975b-5f69-4e9c-8b94-97214517eac7"
      },
      "outputs": [],
      "source": [
        "def run_llm(user_message, model=\"llama-3.2-3b-preview\"):\n",
        "    system_message = \"You are a helpful assistant. You are given a question and a context. You need to answer the question based on the context.\"\n",
        "    messages = [{\"role\": \"system\", \"content\": system_message}]\n",
        "    messages += [{\"role\": \"user\", \"content\": user_message}]\n",
        "    completion = client.chat.completions.create(\n",
        "        model=model,\n",
        "        messages=messages,\n",
        "    )\n",
        "    return completion.choices[0].message.content"
      ]
    },
    {
      "cell_type": "code",
      "execution_count": 17,
      "id": "1c5c20aa-6673-4105-9c10-886a1e18da8a",
      "metadata": {
        "colab": {
          "base_uri": "https://localhost:8080/",
          "height": 105
        },
        "id": "1c5c20aa-6673-4105-9c10-886a1e18da8a",
        "outputId": "e9d5e8e5-b123-4717-818a-442a53b2d1d9"
      },
      "outputs": [
        {
          "name": "stderr",
          "output_type": "stream",
          "text": [
            "huggingface/tokenizers: The current process just got forked, after parallelism has already been used. Disabling parallelism to avoid deadlocks...\n",
            "To disable this warning, you can either:\n",
            "\t- Avoid using `tokenizers` before the fork if possible\n",
            "\t- Explicitly set the environment variable TOKENIZERS_PARALLELISM=(true | false)\n"
          ]
        },
        {
          "data": {
            "text/plain": [
              "\"Based on the provided context, Amblyopia is a condition where there is a reduced visual acuity due to an early disturbance in the brain's use of visual information, usually occurring before the age of 7. In the context of the study, amblyopia was detected in 39 patients with strabismus and 13 healthy volunteers.\""
            ]
          },
          "execution_count": 17,
          "metadata": {},
          "output_type": "execute_result"
        }
      ],
      "source": [
        "prompt = prompt_template(question, retrieved_chunk)\n",
        "\n",
        "run_llm(prompt)"
      ]
    },
    {
      "cell_type": "markdown",
      "id": "ea3646b6",
      "metadata": {},
      "source": [
        "### Test the dataset"
      ]
    },
    {
      "cell_type": "code",
      "execution_count": 18,
      "id": "5e827098",
      "metadata": {},
      "outputs": [
        {
          "name": "stdout",
          "output_type": "stream",
          "text": [
            "Question: Landolt C and snellen e acuity: differences in strabismus amblyopia?\n",
            "RAG Response: According to the provided context, in the study regarding strabismus amblyopia (39 patients with various eye disorders), the mean decimal values for Landolt C (LR) and Snellen E (SE) acuity were 0.14 and 0.16 respectively. The mean difference between LR and SE was 0.55 lines for the eyes with strabismus amblyopia.\n",
            "Ground Truth: Using the charts described, there was only a slight overestimation of visual acuity by the Snellen E compared to the Landolt C, even in strabismus amblyopia. Small differences in the lower visual acuity range have to be considered.\n"
          ]
        }
      ],
      "source": [
        "data_id = 1\n",
        "\n",
        "question, answers = df['questions'][data_id], df['answers'][data_id]\n",
        "\n",
        "question_embeddings = get_text_embedding([question])\n",
        "D, I = index.search(question_embeddings, k=3)\n",
        "retrieved_chunk = [chunks[i] for i in I.tolist()[0]]\n",
        "prompt = prompt_template(question, retrieved_chunk)\n",
        "\n",
        "response = run_llm(prompt)\n",
        "print(\"Question:\", question)\n",
        "print(\"RAG Response:\", response)\n",
        "print(\"Ground Truth:\", answers)"
      ]
    },
    {
      "cell_type": "markdown",
      "id": "e676c9be-12ea-4cc8-8e66-bd96c0a0ceea",
      "metadata": {
        "id": "e676c9be-12ea-4cc8-8e66-bd96c0a0ceea"
      },
      "source": [
        "## LangChain"
      ]
    },
    {
      "cell_type": "code",
      "execution_count": 19,
      "id": "b83adf94-9059-4779-afcb-2d273a66c695",
      "metadata": {
        "colab": {
          "base_uri": "https://localhost:8080/"
        },
        "id": "b83adf94-9059-4779-afcb-2d273a66c695",
        "outputId": "98781381-fca6-4e45-8c22-8d25d5093550"
      },
      "outputs": [
        {
          "name": "stderr",
          "output_type": "stream",
          "text": [
            "huggingface/tokenizers: The current process just got forked, after parallelism has already been used. Disabling parallelism to avoid deadlocks...\n",
            "To disable this warning, you can either:\n",
            "\t- Avoid using `tokenizers` before the fork if possible\n",
            "\t- Explicitly set the environment variable TOKENIZERS_PARALLELISM=(true | false)\n"
          ]
        },
        {
          "name": "stdout",
          "output_type": "stream",
          "text": [
            "Requirement already satisfied: langchain==0.1.13 in /Users/mdaniyalk/miniforge3/envs/workshop/lib/python3.9/site-packages (0.1.13)\n",
            "Requirement already satisfied: langchain-community==0.0.29 in /Users/mdaniyalk/miniforge3/envs/workshop/lib/python3.9/site-packages (0.0.29)\n",
            "Requirement already satisfied: langchain-openai==0.1.1 in /Users/mdaniyalk/miniforge3/envs/workshop/lib/python3.9/site-packages (0.1.1)\n",
            "Requirement already satisfied: langchain-huggingface==0.0.3 in /Users/mdaniyalk/miniforge3/envs/workshop/lib/python3.9/site-packages (0.0.3)\n",
            "Requirement already satisfied: PyYAML>=5.3 in /Users/mdaniyalk/miniforge3/envs/workshop/lib/python3.9/site-packages (from langchain==0.1.13) (6.0.2)\n",
            "Requirement already satisfied: SQLAlchemy<3,>=1.4 in /Users/mdaniyalk/miniforge3/envs/workshop/lib/python3.9/site-packages (from langchain==0.1.13) (2.0.36)\n",
            "Requirement already satisfied: aiohttp<4.0.0,>=3.8.3 in /Users/mdaniyalk/miniforge3/envs/workshop/lib/python3.9/site-packages (from langchain==0.1.13) (3.10.10)\n",
            "Requirement already satisfied: async-timeout<5.0.0,>=4.0.0 in /Users/mdaniyalk/miniforge3/envs/workshop/lib/python3.9/site-packages (from langchain==0.1.13) (4.0.3)\n",
            "Requirement already satisfied: dataclasses-json<0.7,>=0.5.7 in /Users/mdaniyalk/miniforge3/envs/workshop/lib/python3.9/site-packages (from langchain==0.1.13) (0.6.7)\n",
            "Requirement already satisfied: jsonpatch<2.0,>=1.33 in /Users/mdaniyalk/miniforge3/envs/workshop/lib/python3.9/site-packages (from langchain==0.1.13) (1.33)\n",
            "Requirement already satisfied: langchain-core<0.2.0,>=0.1.33 in /Users/mdaniyalk/miniforge3/envs/workshop/lib/python3.9/site-packages (from langchain==0.1.13) (0.1.52)\n",
            "Requirement already satisfied: langchain-text-splitters<0.1,>=0.0.1 in /Users/mdaniyalk/miniforge3/envs/workshop/lib/python3.9/site-packages (from langchain==0.1.13) (0.0.2)\n",
            "Requirement already satisfied: langsmith<0.2.0,>=0.1.17 in /Users/mdaniyalk/miniforge3/envs/workshop/lib/python3.9/site-packages (from langchain==0.1.13) (0.1.135)\n",
            "Requirement already satisfied: numpy<2,>=1 in /Users/mdaniyalk/miniforge3/envs/workshop/lib/python3.9/site-packages (from langchain==0.1.13) (1.26.4)\n",
            "Requirement already satisfied: pydantic<3,>=1 in /Users/mdaniyalk/miniforge3/envs/workshop/lib/python3.9/site-packages (from langchain==0.1.13) (2.9.2)\n",
            "Requirement already satisfied: requests<3,>=2 in /Users/mdaniyalk/miniforge3/envs/workshop/lib/python3.9/site-packages (from langchain==0.1.13) (2.32.3)\n",
            "Requirement already satisfied: tenacity<9.0.0,>=8.1.0 in /Users/mdaniyalk/miniforge3/envs/workshop/lib/python3.9/site-packages (from langchain==0.1.13) (8.5.0)\n",
            "Requirement already satisfied: openai<2.0.0,>=1.10.0 in /Users/mdaniyalk/miniforge3/envs/workshop/lib/python3.9/site-packages (from langchain-openai==0.1.1) (1.14.3)\n",
            "Requirement already satisfied: tiktoken<1,>=0.5.2 in /Users/mdaniyalk/miniforge3/envs/workshop/lib/python3.9/site-packages (from langchain-openai==0.1.1) (0.8.0)\n",
            "Requirement already satisfied: huggingface-hub>=0.23.0 in /Users/mdaniyalk/miniforge3/envs/workshop/lib/python3.9/site-packages (from langchain-huggingface==0.0.3) (0.25.2)\n",
            "Requirement already satisfied: sentence-transformers>=2.6.0 in /Users/mdaniyalk/miniforge3/envs/workshop/lib/python3.9/site-packages (from langchain-huggingface==0.0.3) (3.2.0)\n",
            "Requirement already satisfied: tokenizers>=0.19.1 in /Users/mdaniyalk/miniforge3/envs/workshop/lib/python3.9/site-packages (from langchain-huggingface==0.0.3) (0.20.1)\n",
            "Requirement already satisfied: transformers>=4.39.0 in /Users/mdaniyalk/miniforge3/envs/workshop/lib/python3.9/site-packages (from langchain-huggingface==0.0.3) (4.45.2)\n",
            "Requirement already satisfied: aiohappyeyeballs>=2.3.0 in /Users/mdaniyalk/miniforge3/envs/workshop/lib/python3.9/site-packages (from aiohttp<4.0.0,>=3.8.3->langchain==0.1.13) (2.4.3)\n",
            "Requirement already satisfied: aiosignal>=1.1.2 in /Users/mdaniyalk/miniforge3/envs/workshop/lib/python3.9/site-packages (from aiohttp<4.0.0,>=3.8.3->langchain==0.1.13) (1.3.1)\n",
            "Requirement already satisfied: attrs>=17.3.0 in /Users/mdaniyalk/miniforge3/envs/workshop/lib/python3.9/site-packages (from aiohttp<4.0.0,>=3.8.3->langchain==0.1.13) (24.2.0)\n",
            "Requirement already satisfied: frozenlist>=1.1.1 in /Users/mdaniyalk/miniforge3/envs/workshop/lib/python3.9/site-packages (from aiohttp<4.0.0,>=3.8.3->langchain==0.1.13) (1.4.1)\n",
            "Requirement already satisfied: multidict<7.0,>=4.5 in /Users/mdaniyalk/miniforge3/envs/workshop/lib/python3.9/site-packages (from aiohttp<4.0.0,>=3.8.3->langchain==0.1.13) (6.1.0)\n",
            "Requirement already satisfied: yarl<2.0,>=1.12.0 in /Users/mdaniyalk/miniforge3/envs/workshop/lib/python3.9/site-packages (from aiohttp<4.0.0,>=3.8.3->langchain==0.1.13) (1.15.3)\n",
            "Requirement already satisfied: marshmallow<4.0.0,>=3.18.0 in /Users/mdaniyalk/miniforge3/envs/workshop/lib/python3.9/site-packages (from dataclasses-json<0.7,>=0.5.7->langchain==0.1.13) (3.22.0)\n",
            "Requirement already satisfied: typing-inspect<1,>=0.4.0 in /Users/mdaniyalk/miniforge3/envs/workshop/lib/python3.9/site-packages (from dataclasses-json<0.7,>=0.5.7->langchain==0.1.13) (0.9.0)\n",
            "Requirement already satisfied: filelock in /Users/mdaniyalk/miniforge3/envs/workshop/lib/python3.9/site-packages (from huggingface-hub>=0.23.0->langchain-huggingface==0.0.3) (3.16.1)\n",
            "Requirement already satisfied: fsspec>=2023.5.0 in /Users/mdaniyalk/miniforge3/envs/workshop/lib/python3.9/site-packages (from huggingface-hub>=0.23.0->langchain-huggingface==0.0.3) (2024.9.0)\n",
            "Requirement already satisfied: packaging>=20.9 in /Users/mdaniyalk/miniforge3/envs/workshop/lib/python3.9/site-packages (from huggingface-hub>=0.23.0->langchain-huggingface==0.0.3) (23.2)\n",
            "Requirement already satisfied: tqdm>=4.42.1 in /Users/mdaniyalk/miniforge3/envs/workshop/lib/python3.9/site-packages (from huggingface-hub>=0.23.0->langchain-huggingface==0.0.3) (4.66.5)\n",
            "Requirement already satisfied: typing-extensions>=3.7.4.3 in /Users/mdaniyalk/miniforge3/envs/workshop/lib/python3.9/site-packages (from huggingface-hub>=0.23.0->langchain-huggingface==0.0.3) (4.12.2)\n",
            "Requirement already satisfied: jsonpointer>=1.9 in /Users/mdaniyalk/miniforge3/envs/workshop/lib/python3.9/site-packages (from jsonpatch<2.0,>=1.33->langchain==0.1.13) (3.0.0)\n",
            "Requirement already satisfied: httpx<1,>=0.23.0 in /Users/mdaniyalk/miniforge3/envs/workshop/lib/python3.9/site-packages (from langsmith<0.2.0,>=0.1.17->langchain==0.1.13) (0.27.2)\n",
            "Requirement already satisfied: orjson<4.0.0,>=3.9.14 in /Users/mdaniyalk/miniforge3/envs/workshop/lib/python3.9/site-packages (from langsmith<0.2.0,>=0.1.17->langchain==0.1.13) (3.10.7)\n",
            "Requirement already satisfied: requests-toolbelt<2.0.0,>=1.0.0 in /Users/mdaniyalk/miniforge3/envs/workshop/lib/python3.9/site-packages (from langsmith<0.2.0,>=0.1.17->langchain==0.1.13) (1.0.0)\n",
            "Requirement already satisfied: anyio<5,>=3.5.0 in /Users/mdaniyalk/miniforge3/envs/workshop/lib/python3.9/site-packages (from openai<2.0.0,>=1.10.0->langchain-openai==0.1.1) (4.6.2.post1)\n",
            "Requirement already satisfied: distro<2,>=1.7.0 in /Users/mdaniyalk/miniforge3/envs/workshop/lib/python3.9/site-packages (from openai<2.0.0,>=1.10.0->langchain-openai==0.1.1) (1.9.0)\n",
            "Requirement already satisfied: sniffio in /Users/mdaniyalk/miniforge3/envs/workshop/lib/python3.9/site-packages (from openai<2.0.0,>=1.10.0->langchain-openai==0.1.1) (1.3.1)\n",
            "Requirement already satisfied: annotated-types>=0.6.0 in /Users/mdaniyalk/miniforge3/envs/workshop/lib/python3.9/site-packages (from pydantic<3,>=1->langchain==0.1.13) (0.7.0)\n",
            "Requirement already satisfied: pydantic-core==2.23.4 in /Users/mdaniyalk/miniforge3/envs/workshop/lib/python3.9/site-packages (from pydantic<3,>=1->langchain==0.1.13) (2.23.4)\n",
            "Requirement already satisfied: charset-normalizer<4,>=2 in /Users/mdaniyalk/miniforge3/envs/workshop/lib/python3.9/site-packages (from requests<3,>=2->langchain==0.1.13) (3.4.0)\n",
            "Requirement already satisfied: idna<4,>=2.5 in /Users/mdaniyalk/miniforge3/envs/workshop/lib/python3.9/site-packages (from requests<3,>=2->langchain==0.1.13) (3.10)\n",
            "Requirement already satisfied: urllib3<3,>=1.21.1 in /Users/mdaniyalk/miniforge3/envs/workshop/lib/python3.9/site-packages (from requests<3,>=2->langchain==0.1.13) (2.2.3)\n",
            "Requirement already satisfied: certifi>=2017.4.17 in /Users/mdaniyalk/miniforge3/envs/workshop/lib/python3.9/site-packages (from requests<3,>=2->langchain==0.1.13) (2024.8.30)\n",
            "Requirement already satisfied: torch>=1.11.0 in /Users/mdaniyalk/miniforge3/envs/workshop/lib/python3.9/site-packages (from sentence-transformers>=2.6.0->langchain-huggingface==0.0.3) (2.2.2)\n",
            "Requirement already satisfied: scikit-learn in /Users/mdaniyalk/miniforge3/envs/workshop/lib/python3.9/site-packages (from sentence-transformers>=2.6.0->langchain-huggingface==0.0.3) (1.5.2)\n",
            "Requirement already satisfied: scipy in /Users/mdaniyalk/miniforge3/envs/workshop/lib/python3.9/site-packages (from sentence-transformers>=2.6.0->langchain-huggingface==0.0.3) (1.13.1)\n",
            "Requirement already satisfied: Pillow in /Users/mdaniyalk/miniforge3/envs/workshop/lib/python3.9/site-packages (from sentence-transformers>=2.6.0->langchain-huggingface==0.0.3) (11.0.0)\n",
            "Requirement already satisfied: greenlet!=0.4.17 in /Users/mdaniyalk/miniforge3/envs/workshop/lib/python3.9/site-packages (from SQLAlchemy<3,>=1.4->langchain==0.1.13) (3.1.1)\n",
            "Requirement already satisfied: regex>=2022.1.18 in /Users/mdaniyalk/miniforge3/envs/workshop/lib/python3.9/site-packages (from tiktoken<1,>=0.5.2->langchain-openai==0.1.1) (2024.9.11)\n",
            "Requirement already satisfied: safetensors>=0.4.1 in /Users/mdaniyalk/miniforge3/envs/workshop/lib/python3.9/site-packages (from transformers>=4.39.0->langchain-huggingface==0.0.3) (0.4.5)\n",
            "Requirement already satisfied: exceptiongroup>=1.0.2 in /Users/mdaniyalk/miniforge3/envs/workshop/lib/python3.9/site-packages (from anyio<5,>=3.5.0->openai<2.0.0,>=1.10.0->langchain-openai==0.1.1) (1.2.2)\n",
            "Requirement already satisfied: httpcore==1.* in /Users/mdaniyalk/miniforge3/envs/workshop/lib/python3.9/site-packages (from httpx<1,>=0.23.0->langsmith<0.2.0,>=0.1.17->langchain==0.1.13) (1.0.6)\n",
            "Requirement already satisfied: h11<0.15,>=0.13 in /Users/mdaniyalk/miniforge3/envs/workshop/lib/python3.9/site-packages (from httpcore==1.*->httpx<1,>=0.23.0->langsmith<0.2.0,>=0.1.17->langchain==0.1.13) (0.14.0)\n",
            "Requirement already satisfied: sympy in /Users/mdaniyalk/miniforge3/envs/workshop/lib/python3.9/site-packages (from torch>=1.11.0->sentence-transformers>=2.6.0->langchain-huggingface==0.0.3) (1.13.3)\n",
            "Requirement already satisfied: networkx in /Users/mdaniyalk/miniforge3/envs/workshop/lib/python3.9/site-packages (from torch>=1.11.0->sentence-transformers>=2.6.0->langchain-huggingface==0.0.3) (3.2.1)\n",
            "Requirement already satisfied: jinja2 in /Users/mdaniyalk/miniforge3/envs/workshop/lib/python3.9/site-packages (from torch>=1.11.0->sentence-transformers>=2.6.0->langchain-huggingface==0.0.3) (3.1.4)\n",
            "Requirement already satisfied: mypy-extensions>=0.3.0 in /Users/mdaniyalk/miniforge3/envs/workshop/lib/python3.9/site-packages (from typing-inspect<1,>=0.4.0->dataclasses-json<0.7,>=0.5.7->langchain==0.1.13) (1.0.0)\n",
            "Requirement already satisfied: propcache>=0.2.0 in /Users/mdaniyalk/miniforge3/envs/workshop/lib/python3.9/site-packages (from yarl<2.0,>=1.12.0->aiohttp<4.0.0,>=3.8.3->langchain==0.1.13) (0.2.0)\n",
            "Requirement already satisfied: joblib>=1.2.0 in /Users/mdaniyalk/miniforge3/envs/workshop/lib/python3.9/site-packages (from scikit-learn->sentence-transformers>=2.6.0->langchain-huggingface==0.0.3) (1.4.2)\n",
            "Requirement already satisfied: threadpoolctl>=3.1.0 in /Users/mdaniyalk/miniforge3/envs/workshop/lib/python3.9/site-packages (from scikit-learn->sentence-transformers>=2.6.0->langchain-huggingface==0.0.3) (3.5.0)\n",
            "Requirement already satisfied: MarkupSafe>=2.0 in /Users/mdaniyalk/miniforge3/envs/workshop/lib/python3.9/site-packages (from jinja2->torch>=1.11.0->sentence-transformers>=2.6.0->langchain-huggingface==0.0.3) (3.0.1)\n",
            "Requirement already satisfied: mpmath<1.4,>=1.1.0 in /Users/mdaniyalk/miniforge3/envs/workshop/lib/python3.9/site-packages (from sympy->torch>=1.11.0->sentence-transformers>=2.6.0->langchain-huggingface==0.0.3) (1.3.0)\n"
          ]
        }
      ],
      "source": [
        "!pip install langchain==0.1.13 langchain-community==0.0.29 langchain-openai==0.1.1 langchain-huggingface==0.0.3"
      ]
    },
    {
      "cell_type": "code",
      "execution_count": 22,
      "id": "fd31ffbc-9e0c-40b0-a21f-68ffac8fabea",
      "metadata": {
        "colab": {
          "base_uri": "https://localhost:8080/",
          "height": 86,
          "referenced_widgets": [
            "fe8ec8fb7ff3408a8458ec5a5eed4ffa",
            "d44ed3c7ea1b408889f218d8facc56f7",
            "fad49b304f934b90ae0c0ded1a9a4672",
            "8b82848164ce454f9c703470455a2c0b",
            "9021399af3ff484fb21018a87f37f68f",
            "3ec0e8e74069495ba3a4c2c6c9232294",
            "95fe2f18cd5946eeab5a4cad3430dd39",
            "cd178e782aef418dab43871ef29d94b4",
            "c6c54d521f8141a0855aad11654f2255",
            "72b4a66b397142ae8e59dc2a02ba223c",
            "e49ab07a01df4c7e8e695aa5734438e5"
          ]
        },
        "id": "fd31ffbc-9e0c-40b0-a21f-68ffac8fabea",
        "outputId": "e15b5592-8da8-4ff6-86d8-7c81b3f24252",
        "scrolled": true
      },
      "outputs": [],
      "source": [
        "from langchain_core.documents import Document\n",
        "from langchain_community.chat_models.openai import ChatOpenAI\n",
        "from langchain_community.embeddings.sentence_transformer import SentenceTransformerEmbeddings\n",
        "from langchain_community.vectorstores import FAISS\n",
        "from langchain.text_splitter import RecursiveCharacterTextSplitter\n",
        "from langchain.chains.combine_documents import create_stuff_documents_chain\n",
        "from langchain_core.prompts import ChatPromptTemplate\n",
        "from langchain.chains import create_retrieval_chain\n"
      ]
    },
    {
      "cell_type": "code",
      "execution_count": 23,
      "id": "57bd72e9",
      "metadata": {},
      "outputs": [],
      "source": [
        "# Load data\n",
        "docs = [Document(page_content=\"\\n\".join(doc)) for doc in df['contexts']]\n",
        "docs = docs[:200]\n"
      ]
    },
    {
      "cell_type": "code",
      "execution_count": 24,
      "id": "5945eb91",
      "metadata": {},
      "outputs": [],
      "source": [
        "# Split text into chunks\n",
        "text_splitter = RecursiveCharacterTextSplitter()\n",
        "documents = text_splitter.split_documents(docs)\n"
      ]
    },
    {
      "cell_type": "code",
      "execution_count": 25,
      "id": "b71f72dc",
      "metadata": {},
      "outputs": [],
      "source": [
        "# Define the embedding model\n",
        "embeddings = SentenceTransformerEmbeddings(model_name=\"BAAI/bge-large-en-v1.5\")\n",
        "# Create the vector store\n",
        "vector = FAISS.from_documents(documents, embeddings)\n",
        "# Define a retriever interface\n",
        "retriever = vector.as_retriever()\n"
      ]
    },
    {
      "cell_type": "code",
      "execution_count": 26,
      "id": "4bb77494",
      "metadata": {},
      "outputs": [
        {
          "name": "stderr",
          "output_type": "stream",
          "text": [
            "/Users/mdaniyalk/miniforge3/envs/workshop/lib/python3.9/site-packages/langchain_core/_api/deprecation.py:119: LangChainDeprecationWarning: The class `ChatOpenAI` was deprecated in LangChain 0.0.10 and will be removed in 0.2.0. An updated version of the class exists in the langchain-openai package and should be used instead. To use it run `pip install -U langchain-openai` and import as `from langchain_openai import ChatOpenAI`.\n",
            "  warn_deprecated(\n"
          ]
        }
      ],
      "source": [
        "# Define LLM\n",
        "model = ChatOpenAI(\n",
        "    model_name='llama-3.2-3b-preview',\n",
        "    openai_api_key=\"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\", \n",
        "    openai_api_base=\"https://api.groq.com/openai/v1\"\n",
        ")\n",
        "\n"
      ]
    },
    {
      "cell_type": "code",
      "execution_count": 27,
      "id": "8bb1addc",
      "metadata": {},
      "outputs": [],
      "source": [
        "# Define prompt template\n",
        "prompt = ChatPromptTemplate.from_template(\"\"\"\n",
        "Answer the following question based only on the provided context:\n",
        "\n",
        "<context>\n",
        "{context}\n",
        "</context>\n",
        "\n",
        "Question: {input}\n",
        "\"\"\")"
      ]
    },
    {
      "cell_type": "code",
      "execution_count": 28,
      "id": "3086a682",
      "metadata": {},
      "outputs": [],
      "source": [
        "# Create a retrieval chain to answer questions\n",
        "document_chain = create_stuff_documents_chain(model, prompt)\n",
        "retrieval_chain = create_retrieval_chain(retriever, document_chain)"
      ]
    },
    {
      "cell_type": "code",
      "execution_count": 29,
      "id": "507f1eed",
      "metadata": {},
      "outputs": [
        {
          "name": "stdout",
          "output_type": "stream",
          "text": [
            "Amblyopia is a condition where there is a reduced visual acuity in one or both eyes, often caused by a lack of clear vision during childhood, usually before the age of 7. This can occur due to strabismus (crossed eyes), nearsightedness, farsightedness, or other eye problems that prevent the brain from developing proper vision in one or both eyes. As a result, the brain favors the eye(s) with normal vision, leaving the affected eye(s) with weaker vision.\n"
          ]
        }
      ],
      "source": [
        "response = retrieval_chain.invoke({\"input\": \"Explain what is Amblyopia?\"})\n",
        "print(response[\"answer\"])"
      ]
    },
    {
      "cell_type": "code",
      "execution_count": 31,
      "id": "1a587103",
      "metadata": {},
      "outputs": [
        {
          "name": "stdout",
          "output_type": "stream",
          "text": [
            "Question: Landolt C and snellen e acuity: differences in strabismus amblyopia?\n",
            "RAG Response: The mean difference between Landolt C acuity (LR) and Snellen E acuity (SE) for eyes with strabismus amblyopia was 0.55 lines.\n",
            "Ground Truth: Using the charts described, there was only a slight overestimation of visual acuity by the Snellen E compared to the Landolt C, even in strabismus amblyopia. Small differences in the lower visual acuity range have to be considered.\n"
          ]
        }
      ],
      "source": [
        "data_id = 1\n",
        "\n",
        "question, answers = df['questions'][data_id], df['answers'][data_id]\n",
        "\n",
        "\n",
        "response = retrieval_chain.invoke({\"input\": question})\n",
        "print(\"Question:\", question)\n",
        "print(\"RAG Response:\", response[\"answer\"])\n",
        "print(\"Ground Truth:\", answers)"
      ]
    }
  ],
  "metadata": {
    "colab": {
      "provenance": []
    },
    "jupytext": {
      "formats": "ipynb,py:light"
    },
    "kernelspec": {
      "display_name": "Python 3 (ipykernel)",
      "language": "python",
      "name": "python3"
    },
    "language_info": {
      "codemirror_mode": {
        "name": "ipython",
        "version": 3
      },
      "file_extension": ".py",
      "mimetype": "text/x-python",
      "name": "python",
      "nbconvert_exporter": "python",
      "pygments_lexer": "ipython3",
      "version": "3.10.0"
    },
    "widgets": {
      "application/vnd.jupyter.widget-state+json": {
        "3ec0e8e74069495ba3a4c2c6c9232294": {
          "model_module": "@jupyter-widgets/base",
          "model_module_version": "1.2.0",
          "model_name": "LayoutModel",
          "state": {
            "_model_module": "@jupyter-widgets/base",
            "_model_module_version": "1.2.0",
            "_model_name": "LayoutModel",
            "_view_count": null,
            "_view_module": "@jupyter-widgets/base",
            "_view_module_version": "1.2.0",
            "_view_name": "LayoutView",
            "align_content": null,
            "align_items": null,
            "align_self": null,
            "border": null,
            "bottom": null,
            "display": null,
            "flex": null,
            "flex_flow": null,
            "grid_area": null,
            "grid_auto_columns": null,
            "grid_auto_flow": null,
            "grid_auto_rows": null,
            "grid_column": null,
            "grid_gap": null,
            "grid_row": null,
            "grid_template_areas": null,
            "grid_template_columns": null,
            "grid_template_rows": null,
            "height": null,
            "justify_content": null,
            "justify_items": null,
            "left": null,
            "margin": null,
            "max_height": null,
            "max_width": null,
            "min_height": null,
            "min_width": null,
            "object_fit": null,
            "object_position": null,
            "order": null,
            "overflow": null,
            "overflow_x": null,
            "overflow_y": null,
            "padding": null,
            "right": null,
            "top": null,
            "visibility": null,
            "width": null
          }
        },
        "72b4a66b397142ae8e59dc2a02ba223c": {
          "model_module": "@jupyter-widgets/base",
          "model_module_version": "1.2.0",
          "model_name": "LayoutModel",
          "state": {
            "_model_module": "@jupyter-widgets/base",
            "_model_module_version": "1.2.0",
            "_model_name": "LayoutModel",
            "_view_count": null,
            "_view_module": "@jupyter-widgets/base",
            "_view_module_version": "1.2.0",
            "_view_name": "LayoutView",
            "align_content": null,
            "align_items": null,
            "align_self": null,
            "border": null,
            "bottom": null,
            "display": null,
            "flex": null,
            "flex_flow": null,
            "grid_area": null,
            "grid_auto_columns": null,
            "grid_auto_flow": null,
            "grid_auto_rows": null,
            "grid_column": null,
            "grid_gap": null,
            "grid_row": null,
            "grid_template_areas": null,
            "grid_template_columns": null,
            "grid_template_rows": null,
            "height": null,
            "justify_content": null,
            "justify_items": null,
            "left": null,
            "margin": null,
            "max_height": null,
            "max_width": null,
            "min_height": null,
            "min_width": null,
            "object_fit": null,
            "object_position": null,
            "order": null,
            "overflow": null,
            "overflow_x": null,
            "overflow_y": null,
            "padding": null,
            "right": null,
            "top": null,
            "visibility": null,
            "width": null
          }
        },
        "8b82848164ce454f9c703470455a2c0b": {
          "model_module": "@jupyter-widgets/controls",
          "model_module_version": "1.5.0",
          "model_name": "HTMLModel",
          "state": {
            "_dom_classes": [],
            "_model_module": "@jupyter-widgets/controls",
            "_model_module_version": "1.5.0",
            "_model_name": "HTMLModel",
            "_view_count": null,
            "_view_module": "@jupyter-widgets/controls",
            "_view_module_version": "1.5.0",
            "_view_name": "HTMLView",
            "description": "",
            "description_tooltip": null,
            "layout": "IPY_MODEL_72b4a66b397142ae8e59dc2a02ba223c",
            "placeholder": "​",
            "style": "IPY_MODEL_e49ab07a01df4c7e8e695aa5734438e5",
            "value": " 1.80M/1.80M [00:04&lt;00:00, 414kB/s]"
          }
        },
        "9021399af3ff484fb21018a87f37f68f": {
          "model_module": "@jupyter-widgets/base",
          "model_module_version": "1.2.0",
          "model_name": "LayoutModel",
          "state": {
            "_model_module": "@jupyter-widgets/base",
            "_model_module_version": "1.2.0",
            "_model_name": "LayoutModel",
            "_view_count": null,
            "_view_module": "@jupyter-widgets/base",
            "_view_module_version": "1.2.0",
            "_view_name": "LayoutView",
            "align_content": null,
            "align_items": null,
            "align_self": null,
            "border": null,
            "bottom": null,
            "display": null,
            "flex": null,
            "flex_flow": null,
            "grid_area": null,
            "grid_auto_columns": null,
            "grid_auto_flow": null,
            "grid_auto_rows": null,
            "grid_column": null,
            "grid_gap": null,
            "grid_row": null,
            "grid_template_areas": null,
            "grid_template_columns": null,
            "grid_template_rows": null,
            "height": null,
            "justify_content": null,
            "justify_items": null,
            "left": null,
            "margin": null,
            "max_height": null,
            "max_width": null,
            "min_height": null,
            "min_width": null,
            "object_fit": null,
            "object_position": null,
            "order": null,
            "overflow": null,
            "overflow_x": null,
            "overflow_y": null,
            "padding": null,
            "right": null,
            "top": null,
            "visibility": null,
            "width": null
          }
        },
        "95fe2f18cd5946eeab5a4cad3430dd39": {
          "model_module": "@jupyter-widgets/controls",
          "model_module_version": "1.5.0",
          "model_name": "DescriptionStyleModel",
          "state": {
            "_model_module": "@jupyter-widgets/controls",
            "_model_module_version": "1.5.0",
            "_model_name": "DescriptionStyleModel",
            "_view_count": null,
            "_view_module": "@jupyter-widgets/base",
            "_view_module_version": "1.2.0",
            "_view_name": "StyleView",
            "description_width": ""
          }
        },
        "c6c54d521f8141a0855aad11654f2255": {
          "model_module": "@jupyter-widgets/controls",
          "model_module_version": "1.5.0",
          "model_name": "ProgressStyleModel",
          "state": {
            "_model_module": "@jupyter-widgets/controls",
            "_model_module_version": "1.5.0",
            "_model_name": "ProgressStyleModel",
            "_view_count": null,
            "_view_module": "@jupyter-widgets/base",
            "_view_module_version": "1.2.0",
            "_view_name": "StyleView",
            "bar_color": null,
            "description_width": ""
          }
        },
        "cd178e782aef418dab43871ef29d94b4": {
          "model_module": "@jupyter-widgets/base",
          "model_module_version": "1.2.0",
          "model_name": "LayoutModel",
          "state": {
            "_model_module": "@jupyter-widgets/base",
            "_model_module_version": "1.2.0",
            "_model_name": "LayoutModel",
            "_view_count": null,
            "_view_module": "@jupyter-widgets/base",
            "_view_module_version": "1.2.0",
            "_view_name": "LayoutView",
            "align_content": null,
            "align_items": null,
            "align_self": null,
            "border": null,
            "bottom": null,
            "display": null,
            "flex": null,
            "flex_flow": null,
            "grid_area": null,
            "grid_auto_columns": null,
            "grid_auto_flow": null,
            "grid_auto_rows": null,
            "grid_column": null,
            "grid_gap": null,
            "grid_row": null,
            "grid_template_areas": null,
            "grid_template_columns": null,
            "grid_template_rows": null,
            "height": null,
            "justify_content": null,
            "justify_items": null,
            "left": null,
            "margin": null,
            "max_height": null,
            "max_width": null,
            "min_height": null,
            "min_width": null,
            "object_fit": null,
            "object_position": null,
            "order": null,
            "overflow": null,
            "overflow_x": null,
            "overflow_y": null,
            "padding": null,
            "right": null,
            "top": null,
            "visibility": null,
            "width": null
          }
        },
        "d44ed3c7ea1b408889f218d8facc56f7": {
          "model_module": "@jupyter-widgets/controls",
          "model_module_version": "1.5.0",
          "model_name": "HTMLModel",
          "state": {
            "_dom_classes": [],
            "_model_module": "@jupyter-widgets/controls",
            "_model_module_version": "1.5.0",
            "_model_name": "HTMLModel",
            "_view_count": null,
            "_view_module": "@jupyter-widgets/controls",
            "_view_module_version": "1.5.0",
            "_view_name": "HTMLView",
            "description": "",
            "description_tooltip": null,
            "layout": "IPY_MODEL_3ec0e8e74069495ba3a4c2c6c9232294",
            "placeholder": "​",
            "style": "IPY_MODEL_95fe2f18cd5946eeab5a4cad3430dd39",
            "value": "tokenizer.json: 100%"
          }
        },
        "e49ab07a01df4c7e8e695aa5734438e5": {
          "model_module": "@jupyter-widgets/controls",
          "model_module_version": "1.5.0",
          "model_name": "DescriptionStyleModel",
          "state": {
            "_model_module": "@jupyter-widgets/controls",
            "_model_module_version": "1.5.0",
            "_model_name": "DescriptionStyleModel",
            "_view_count": null,
            "_view_module": "@jupyter-widgets/base",
            "_view_module_version": "1.2.0",
            "_view_name": "StyleView",
            "description_width": ""
          }
        },
        "fad49b304f934b90ae0c0ded1a9a4672": {
          "model_module": "@jupyter-widgets/controls",
          "model_module_version": "1.5.0",
          "model_name": "FloatProgressModel",
          "state": {
            "_dom_classes": [],
            "_model_module": "@jupyter-widgets/controls",
            "_model_module_version": "1.5.0",
            "_model_name": "FloatProgressModel",
            "_view_count": null,
            "_view_module": "@jupyter-widgets/controls",
            "_view_module_version": "1.5.0",
            "_view_name": "ProgressView",
            "bar_style": "success",
            "description": "",
            "description_tooltip": null,
            "layout": "IPY_MODEL_cd178e782aef418dab43871ef29d94b4",
            "max": 1795303,
            "min": 0,
            "orientation": "horizontal",
            "style": "IPY_MODEL_c6c54d521f8141a0855aad11654f2255",
            "value": 1795303
          }
        },
        "fe8ec8fb7ff3408a8458ec5a5eed4ffa": {
          "model_module": "@jupyter-widgets/controls",
          "model_module_version": "1.5.0",
          "model_name": "HBoxModel",
          "state": {
            "_dom_classes": [],
            "_model_module": "@jupyter-widgets/controls",
            "_model_module_version": "1.5.0",
            "_model_name": "HBoxModel",
            "_view_count": null,
            "_view_module": "@jupyter-widgets/controls",
            "_view_module_version": "1.5.0",
            "_view_name": "HBoxView",
            "box_style": "",
            "children": [
              "IPY_MODEL_d44ed3c7ea1b408889f218d8facc56f7",
              "IPY_MODEL_fad49b304f934b90ae0c0ded1a9a4672",
              "IPY_MODEL_8b82848164ce454f9c703470455a2c0b"
            ],
            "layout": "IPY_MODEL_9021399af3ff484fb21018a87f37f68f"
          }
        }
      }
    }
  },
  "nbformat": 4,
  "nbformat_minor": 5
}
