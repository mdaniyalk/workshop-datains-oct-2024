{
 "cells": [
  {
   "cell_type": "markdown",
   "metadata": {
    "papermill": {
     "duration": 0.012696,
     "end_time": "2023-02-09T06:31:13.517309",
     "exception": false,
     "start_time": "2023-02-09T06:31:13.504613",
     "status": "completed"
    },
    "tags": []
   },
   "source": [
    "# Named Entity Recognition using BERT"
   ]
  },
  {
   "cell_type": "markdown",
   "metadata": {
    "papermill": {
     "duration": 0.010561,
     "end_time": "2023-02-09T06:31:13.538909",
     "exception": false,
     "start_time": "2023-02-09T06:31:13.528348",
     "status": "completed"
    },
    "tags": []
   },
   "source": [
    "## Import everything important"
   ]
  },
  {
   "cell_type": "code",
   "execution_count": 1,
   "metadata": {
    "_cell_guid": "b1076dfc-b9ad-4769-8c92-a6c4dae69d19",
    "_uuid": "8f2839f25d086af736a60e9eeb907d3b93b6e0e5",
    "execution": {
     "iopub.execute_input": "2023-02-09T06:31:13.567206Z",
     "iopub.status.busy": "2023-02-09T06:31:13.566468Z",
     "iopub.status.idle": "2023-02-09T06:31:16.121303Z",
     "shell.execute_reply": "2023-02-09T06:31:16.121742Z",
     "shell.execute_reply.started": "2023-02-09T03:09:48.943813Z"
    },
    "papermill": {
     "duration": 2.572244,
     "end_time": "2023-02-09T06:31:16.121940",
     "exception": false,
     "start_time": "2023-02-09T06:31:13.549696",
     "status": "completed"
    },
    "tags": []
   },
   "outputs": [
    {
     "name": "stderr",
     "output_type": "stream",
     "text": [
      "/Users/mdaniyalk/miniforge3/envs/workshop/lib/python3.9/site-packages/tqdm/auto.py:21: TqdmWarning: IProgress not found. Please update jupyter and ipywidgets. See https://ipywidgets.readthedocs.io/en/stable/user_install.html\n",
      "  from .autonotebook import tqdm as notebook_tqdm\n"
     ]
    }
   ],
   "source": [
    "import joblib\n",
    "import torch\n",
    "import torch.nn as nn\n",
    "from torch.utils import data\n",
    "\n",
    "import numpy as np\n",
    "import pandas as pd\n",
    "\n",
    "from sklearn import preprocessing\n",
    "from sklearn import model_selection\n",
    "\n",
    "from tqdm import tqdm\n",
    "from transformers import BertTokenizer, BertModel, AdamW, get_linear_schedule_with_warmup"
   ]
  },
  {
   "cell_type": "markdown",
   "metadata": {
    "papermill": {
     "duration": 0.010643,
     "end_time": "2023-02-09T06:31:16.144389",
     "exception": false,
     "start_time": "2023-02-09T06:31:16.133746",
     "status": "completed"
    },
    "tags": []
   },
   "source": [
    "## Some config"
   ]
  },
  {
   "cell_type": "code",
   "execution_count": 2,
   "metadata": {
    "_cell_guid": "79c7e3d0-c299-4dcb-8224-4455121ee9b0",
    "_uuid": "d629ff2d2480ee46fbb7e2d37f6b5fab8052498a",
    "execution": {
     "iopub.execute_input": "2023-02-09T06:31:16.171993Z",
     "iopub.status.busy": "2023-02-09T06:31:16.171394Z",
     "iopub.status.idle": "2023-02-09T06:31:16.222398Z",
     "shell.execute_reply": "2023-02-09T06:31:16.221921Z",
     "shell.execute_reply.started": "2023-02-09T03:09:48.953897Z"
    },
    "papermill": {
     "duration": 0.067035,
     "end_time": "2023-02-09T06:31:16.222493",
     "exception": false,
     "start_time": "2023-02-09T06:31:16.155458",
     "status": "completed"
    },
    "tags": []
   },
   "outputs": [],
   "source": [
    "MAX_LEN = 128\n",
    "TRAIN_BATCH_SIZE = 32\n",
    "VALID_BATCH_SIZE = 8\n",
    "EPOCHS = 1\n",
    "BASE_MODEL_PATH = \"bert-base-uncased\"\n",
    "MODEL_PATH = \"model.bin\"\n",
    "TRAINING_FILE = \"ner_dataset.csv\"\n",
    "TOKENIZER = BertTokenizer.from_pretrained(\n",
    "    BASE_MODEL_PATH,\n",
    "    do_lower_case=True\n",
    ")"
   ]
  },
  {
   "cell_type": "markdown",
   "metadata": {
    "papermill": {
     "duration": 0.010621,
     "end_time": "2023-02-09T06:31:16.244351",
     "exception": false,
     "start_time": "2023-02-09T06:31:16.233730",
     "status": "completed"
    },
    "tags": []
   },
   "source": [
    "## Dataset"
   ]
  },
  {
   "cell_type": "code",
   "execution_count": 3,
   "metadata": {
    "execution": {
     "iopub.execute_input": "2023-02-09T06:31:16.279242Z",
     "iopub.status.busy": "2023-02-09T06:31:16.278517Z",
     "iopub.status.idle": "2023-02-09T06:31:16.281119Z",
     "shell.execute_reply": "2023-02-09T06:31:16.281491Z",
     "shell.execute_reply.started": "2023-02-09T03:09:49.023095Z"
    },
    "papermill": {
     "duration": 0.026192,
     "end_time": "2023-02-09T06:31:16.281611",
     "exception": false,
     "start_time": "2023-02-09T06:31:16.255419",
     "status": "completed"
    },
    "tags": []
   },
   "outputs": [],
   "source": [
    "class EntityDataset(data.Dataset):\n",
    "    def __init__(self, texts, pos, tags):\n",
    "        self.texts = texts\n",
    "        self.pos = pos\n",
    "        self.tags = tags\n",
    "    \n",
    "    def __len__(self):\n",
    "        return len(self.texts)\n",
    "    \n",
    "    def __getitem__(self, item):\n",
    "        text = self.texts[item]\n",
    "        pos = self.pos[item]\n",
    "        tags = self.tags[item]\n",
    "\n",
    "        ids = []\n",
    "        target_pos = []\n",
    "        target_tag = []\n",
    "\n",
    "        for i, s in enumerate(text):\n",
    "            inputs = TOKENIZER.encode(\n",
    "                s,\n",
    "                add_special_tokens=False\n",
    "            )\n",
    "            input_len = len(inputs)\n",
    "            ids.extend(inputs)\n",
    "            target_pos.extend([pos[i]] * input_len)\n",
    "            target_tag.extend([tags[i]] * input_len)\n",
    "\n",
    "        ids = ids[:MAX_LEN - 2]\n",
    "        target_pos = target_pos[:MAX_LEN - 2]\n",
    "        target_tag = target_tag[:MAX_LEN - 2]\n",
    "\n",
    "        ids = [101] + ids + [102]\n",
    "        target_pos = [0] + target_pos + [0]\n",
    "        target_tag = [0] + target_tag + [0]\n",
    "\n",
    "        mask = [1] * len(ids)\n",
    "        token_type_ids = [0] * len(ids)\n",
    "\n",
    "        padding_len = MAX_LEN - len(ids)\n",
    "\n",
    "        ids += ([0] * padding_len)\n",
    "        mask += ([0] * padding_len)\n",
    "        token_type_ids += ([0] * padding_len)\n",
    "        target_pos += ([0] * padding_len)\n",
    "        target_tag += ([0] * padding_len)\n",
    "\n",
    "        return {\n",
    "            \"ids\": torch.tensor(ids, dtype=torch.long),\n",
    "            \"mask\": torch.tensor(mask, dtype=torch.long),\n",
    "            \"token_type_ids\": torch.tensor(token_type_ids, dtype=torch.long),\n",
    "            \"target_pos\": torch.tensor(target_pos, dtype=torch.long),\n",
    "            \"target_tag\": torch.tensor(target_tag, dtype=torch.long),\n",
    "        }"
   ]
  },
  {
   "cell_type": "markdown",
   "metadata": {
    "papermill": {
     "duration": 0.010519,
     "end_time": "2023-02-09T06:31:16.304389",
     "exception": false,
     "start_time": "2023-02-09T06:31:16.293870",
     "status": "completed"
    },
    "tags": []
   },
   "source": [
    "## Training and evaluation functions"
   ]
  },
  {
   "cell_type": "code",
   "execution_count": 4,
   "metadata": {
    "execution": {
     "iopub.execute_input": "2023-02-09T06:31:16.334625Z",
     "iopub.status.busy": "2023-02-09T06:31:16.333952Z",
     "iopub.status.idle": "2023-02-09T06:31:16.337131Z",
     "shell.execute_reply": "2023-02-09T06:31:16.336576Z",
     "shell.execute_reply.started": "2023-02-09T03:09:49.039599Z"
    },
    "papermill": {
     "duration": 0.021659,
     "end_time": "2023-02-09T06:31:16.337226",
     "exception": false,
     "start_time": "2023-02-09T06:31:16.315567",
     "status": "completed"
    },
    "tags": []
   },
   "outputs": [],
   "source": [
    "def train_fn(data_loader, model, optimizer, device, scheduler):\n",
    "    model.train()\n",
    "    final_loss = 0\n",
    "    for data in tqdm(data_loader, total=len(data_loader)):\n",
    "        for k, v in data.items():\n",
    "            data[k] = v.to(device)\n",
    "        optimizer.zero_grad()\n",
    "        outputs = model(**data)\n",
    "        loss = outputs[2] if len(outputs) > 2 else outputs[1]  # Ensure we get the correct loss\n",
    "        loss.backward()\n",
    "        optimizer.step()\n",
    "        scheduler.step()\n",
    "        final_loss += loss.item()\n",
    "    return final_loss / len(data_loader)\n",
    "\n",
    "\n",
    "def eval_fn(data_loader, model, device):\n",
    "    model.eval()\n",
    "    final_loss = 0\n",
    "    with torch.no_grad():  # Disable gradient calculation for evaluation\n",
    "        for data in tqdm(data_loader, total=len(data_loader)):\n",
    "            for k, v in data.items():\n",
    "                data[k] = v.to(device)\n",
    "            outputs = model(**data)\n",
    "            loss = outputs[2] if len(outputs) > 2 else outputs[1]  # Ensure we get the correct loss\n",
    "            final_loss += loss.item()\n",
    "    return final_loss / len(data_loader)"
   ]
  },
  {
   "cell_type": "markdown",
   "metadata": {
    "papermill": {
     "duration": 0.010941,
     "end_time": "2023-02-09T06:31:16.359326",
     "exception": false,
     "start_time": "2023-02-09T06:31:16.348385",
     "status": "completed"
    },
    "tags": []
   },
   "source": [
    "## Loss function and model"
   ]
  },
  {
   "cell_type": "code",
   "execution_count": 5,
   "metadata": {
    "execution": {
     "iopub.execute_input": "2023-02-09T06:31:16.391910Z",
     "iopub.status.busy": "2023-02-09T06:31:16.389610Z",
     "iopub.status.idle": "2023-02-09T06:31:16.394700Z",
     "shell.execute_reply": "2023-02-09T06:31:16.394201Z",
     "shell.execute_reply.started": "2023-02-09T03:09:49.054784Z"
    },
    "papermill": {
     "duration": 0.024418,
     "end_time": "2023-02-09T06:31:16.394786",
     "exception": false,
     "start_time": "2023-02-09T06:31:16.370368",
     "status": "completed"
    },
    "tags": []
   },
   "outputs": [],
   "source": [
    "def loss_fn(output, target, mask, num_labels):\n",
    "    lfn = nn.CrossEntropyLoss()\n",
    "    active_loss = mask.view(-1) == 1\n",
    "    active_logits = output.view(-1, num_labels)\n",
    "    active_labels = torch.where(\n",
    "        active_loss,\n",
    "        target.view(-1),\n",
    "        torch.tensor(lfn.ignore_index).type_as(target)\n",
    "    )\n",
    "    loss = lfn(active_logits, active_labels)\n",
    "    return loss\n",
    "\n",
    "\n",
    "class EntityModel(nn.Module):\n",
    "    def __init__(self, num_tag, num_pos):\n",
    "        super(EntityModel, self).__init__()\n",
    "        self.num_tag = num_tag\n",
    "        self.num_pos = num_pos\n",
    "        self.bert = BertModel.from_pretrained(\n",
    "            BASE_MODEL_PATH\n",
    "        )\n",
    "        self.bert_drop_1 = nn.Dropout(0.3)\n",
    "        self.bert_drop_2 = nn.Dropout(0.3)\n",
    "        self.out_tag = nn.Linear(768, self.num_tag)\n",
    "        self.out_pos = nn.Linear(768, self.num_pos)\n",
    "    \n",
    "    def forward(\n",
    "        self, \n",
    "        ids, \n",
    "        mask, \n",
    "        token_type_ids, \n",
    "        target_pos, \n",
    "        target_tag\n",
    "    ):\n",
    "        o1, _ = self.bert(\n",
    "            ids, \n",
    "            attention_mask=mask, \n",
    "            token_type_ids=token_type_ids\n",
    "        )\n",
    "\n",
    "        bo_tag = self.bert_drop_1(o1)\n",
    "        bo_pos = self.bert_drop_2(o1)\n",
    "\n",
    "        tag = self.out_tag(bo_tag)\n",
    "        pos = self.out_pos(bo_pos)\n",
    "\n",
    "        loss_tag = loss_fn(tag, target_tag, mask, self.num_tag)\n",
    "        loss_pos = loss_fn(pos, target_pos, mask, self.num_pos)\n",
    "\n",
    "        loss = (loss_tag + loss_pos) / 2\n",
    "\n",
    "        return tag, pos, loss"
   ]
  },
  {
   "cell_type": "markdown",
   "metadata": {
    "papermill": {
     "duration": 0.011261,
     "end_time": "2023-02-09T06:31:16.416874",
     "exception": false,
     "start_time": "2023-02-09T06:31:16.405613",
     "status": "completed"
    },
    "tags": []
   },
   "source": [
    "## Data processing"
   ]
  },
  {
   "cell_type": "code",
   "execution_count": 6,
   "metadata": {
    "execution": {
     "iopub.execute_input": "2023-02-09T06:31:16.446139Z",
     "iopub.status.busy": "2023-02-09T06:31:16.445295Z",
     "iopub.status.idle": "2023-02-09T06:31:16.448305Z",
     "shell.execute_reply": "2023-02-09T06:31:16.447716Z",
     "shell.execute_reply.started": "2023-02-09T03:09:49.068542Z"
    },
    "papermill": {
     "duration": 0.020261,
     "end_time": "2023-02-09T06:31:16.448404",
     "exception": false,
     "start_time": "2023-02-09T06:31:16.428143",
     "status": "completed"
    },
    "tags": []
   },
   "outputs": [],
   "source": [
    "def process_data(data_path):\n",
    "    df = pd.read_csv(data_path, encoding=\"latin-1\")\n",
    "    df.loc[:, \"Sentence #\"] = df[\"Sentence #\"].fillna(method=\"ffill\")\n",
    "\n",
    "    enc_pos = preprocessing.LabelEncoder()\n",
    "    enc_tag = preprocessing.LabelEncoder()\n",
    "\n",
    "    df.loc[:, \"POS\"] = enc_pos.fit_transform(df[\"POS\"])\n",
    "    df.loc[:, \"Tag\"] = enc_tag.fit_transform(df[\"Tag\"])\n",
    "\n",
    "    sentences = df.groupby(\"Sentence #\")[\"Word\"].apply(list).values\n",
    "    pos = df.groupby(\"Sentence #\")[\"POS\"].apply(list).values\n",
    "    tag = df.groupby(\"Sentence #\")[\"Tag\"].apply(list).values\n",
    "    return sentences, pos, tag, enc_pos, enc_tag"
   ]
  },
  {
   "cell_type": "markdown",
   "metadata": {
    "papermill": {
     "duration": 0.02342,
     "end_time": "2023-02-09T06:31:16.482550",
     "exception": false,
     "start_time": "2023-02-09T06:31:16.459130",
     "status": "completed"
    },
    "tags": []
   },
   "source": [
    "## Training"
   ]
  },
  {
   "cell_type": "code",
   "execution_count": 7,
   "metadata": {
    "execution": {
     "iopub.execute_input": "2023-02-09T06:31:16.549699Z",
     "iopub.status.busy": "2023-02-09T06:31:16.548690Z",
     "iopub.status.idle": "2023-02-09T06:40:36.153119Z",
     "shell.execute_reply": "2023-02-09T06:40:36.152078Z",
     "shell.execute_reply.started": "2023-02-09T03:09:49.081041Z"
    },
    "papermill": {
     "duration": 559.64896,
     "end_time": "2023-02-09T06:40:36.153251",
     "exception": false,
     "start_time": "2023-02-09T06:31:16.504291",
     "status": "completed"
    },
    "tags": []
   },
   "outputs": [
    {
     "name": "stderr",
     "output_type": "stream",
     "text": [
      "/var/folders/vt/q06w72ls4kz7lg_wsqqw2f0h0000gp/T/ipykernel_20230/1950391158.py:8: DeprecationWarning: In a future version, `df.iloc[:, i] = newvals` will attempt to set the values inplace instead of always setting a new array. To retain the old behavior, use either `df[df.columns[i]] = newvals` or, if columns are non-unique, `df.isetitem(i, newvals)`\n",
      "  df.loc[:, \"POS\"] = enc_pos.fit_transform(df[\"POS\"])\n",
      "/var/folders/vt/q06w72ls4kz7lg_wsqqw2f0h0000gp/T/ipykernel_20230/1950391158.py:9: DeprecationWarning: In a future version, `df.iloc[:, i] = newvals` will attempt to set the values inplace instead of always setting a new array. To retain the old behavior, use either `df[df.columns[i]] = newvals` or, if columns are non-unique, `df.isetitem(i, newvals)`\n",
      "  df.loc[:, \"Tag\"] = enc_tag.fit_transform(df[\"Tag\"])\n",
      "  0%|          | 0/1349 [00:00<?, ?it/s]Traceback (most recent call last):\n",
      "  File \"<string>\", line 1, in <module>\n",
      "  File \"/Users/mdaniyalk/miniforge3/envs/workshop/lib/python3.9/multiprocessing/spawn.py\", line 116, in spawn_main\n",
      "    exitcode = _main(fd, parent_sentinel)\n",
      "  File \"/Users/mdaniyalk/miniforge3/envs/workshop/lib/python3.9/multiprocessing/spawn.py\", line 126, in _main\n",
      "    self = reduction.pickle.load(from_parent)\n",
      "AttributeError: Can't get attribute 'EntityDataset' on <module '__main__' (built-in)>\n",
      "  0%|          | 0/1349 [00:03<?, ?it/s]\n"
     ]
    },
    {
     "ename": "KeyboardInterrupt",
     "evalue": "",
     "output_type": "error",
     "traceback": [
      "\u001b[0;31m---------------------------------------------------------------------------\u001b[0m",
      "\u001b[0;31mKeyboardInterrupt\u001b[0m                         Traceback (most recent call last)",
      "Cell \u001b[0;32mIn[7], line 81\u001b[0m\n\u001b[1;32m     79\u001b[0m best_loss \u001b[39m=\u001b[39m np\u001b[39m.\u001b[39minf\n\u001b[1;32m     80\u001b[0m \u001b[39mfor\u001b[39;00m epoch \u001b[39min\u001b[39;00m \u001b[39mrange\u001b[39m(EPOCHS):\n\u001b[0;32m---> 81\u001b[0m     train_loss \u001b[39m=\u001b[39m train_fn(\n\u001b[1;32m     82\u001b[0m         train_data_loader, \n\u001b[1;32m     83\u001b[0m         model, \n\u001b[1;32m     84\u001b[0m         optimizer, \n\u001b[1;32m     85\u001b[0m         device, \n\u001b[1;32m     86\u001b[0m         scheduler\n\u001b[1;32m     87\u001b[0m     )\n\u001b[1;32m     88\u001b[0m     test_loss \u001b[39m=\u001b[39m eval_fn(\n\u001b[1;32m     89\u001b[0m         valid_data_loader,\n\u001b[1;32m     90\u001b[0m         model,\n\u001b[1;32m     91\u001b[0m         device\n\u001b[1;32m     92\u001b[0m     )\n\u001b[1;32m     93\u001b[0m     \u001b[39mprint\u001b[39m(\u001b[39mf\u001b[39m\u001b[39m\"\u001b[39m\u001b[39mTrain Loss = \u001b[39m\u001b[39m{\u001b[39;00mtrain_loss\u001b[39m}\u001b[39;00m\u001b[39m Valid Loss = \u001b[39m\u001b[39m{\u001b[39;00mtest_loss\u001b[39m}\u001b[39;00m\u001b[39m\"\u001b[39m)\n",
      "Cell \u001b[0;32mIn[4], line 4\u001b[0m, in \u001b[0;36mtrain_fn\u001b[0;34m(data_loader, model, optimizer, device, scheduler)\u001b[0m\n\u001b[1;32m      2\u001b[0m model\u001b[39m.\u001b[39mtrain()\n\u001b[1;32m      3\u001b[0m final_loss \u001b[39m=\u001b[39m \u001b[39m0\u001b[39m\n\u001b[0;32m----> 4\u001b[0m \u001b[39mfor\u001b[39;00m data \u001b[39min\u001b[39;00m tqdm(data_loader, total\u001b[39m=\u001b[39m\u001b[39mlen\u001b[39m(data_loader)):\n\u001b[1;32m      5\u001b[0m     \u001b[39mfor\u001b[39;00m k, v \u001b[39min\u001b[39;00m data\u001b[39m.\u001b[39mitems():\n\u001b[1;32m      6\u001b[0m         data[k] \u001b[39m=\u001b[39m v\u001b[39m.\u001b[39mto(device)\n",
      "File \u001b[0;32m~/miniforge3/envs/workshop/lib/python3.9/site-packages/tqdm/std.py:1181\u001b[0m, in \u001b[0;36mtqdm.__iter__\u001b[0;34m(self)\u001b[0m\n\u001b[1;32m   1178\u001b[0m time \u001b[39m=\u001b[39m \u001b[39mself\u001b[39m\u001b[39m.\u001b[39m_time\n\u001b[1;32m   1180\u001b[0m \u001b[39mtry\u001b[39;00m:\n\u001b[0;32m-> 1181\u001b[0m     \u001b[39mfor\u001b[39;00m obj \u001b[39min\u001b[39;00m iterable:\n\u001b[1;32m   1182\u001b[0m         \u001b[39myield\u001b[39;00m obj\n\u001b[1;32m   1183\u001b[0m         \u001b[39m# Update and possibly print the progressbar.\u001b[39;00m\n\u001b[1;32m   1184\u001b[0m         \u001b[39m# Note: does not call self.update(1) for speed optimisation.\u001b[39;00m\n",
      "File \u001b[0;32m~/miniforge3/envs/workshop/lib/python3.9/site-packages/torch/utils/data/dataloader.py:439\u001b[0m, in \u001b[0;36mDataLoader.__iter__\u001b[0;34m(self)\u001b[0m\n\u001b[1;32m    437\u001b[0m     \u001b[39mreturn\u001b[39;00m \u001b[39mself\u001b[39m\u001b[39m.\u001b[39m_iterator\n\u001b[1;32m    438\u001b[0m \u001b[39melse\u001b[39;00m:\n\u001b[0;32m--> 439\u001b[0m     \u001b[39mreturn\u001b[39;00m \u001b[39mself\u001b[39;49m\u001b[39m.\u001b[39;49m_get_iterator()\n",
      "File \u001b[0;32m~/miniforge3/envs/workshop/lib/python3.9/site-packages/torch/utils/data/dataloader.py:387\u001b[0m, in \u001b[0;36mDataLoader._get_iterator\u001b[0;34m(self)\u001b[0m\n\u001b[1;32m    385\u001b[0m \u001b[39melse\u001b[39;00m:\n\u001b[1;32m    386\u001b[0m     \u001b[39mself\u001b[39m\u001b[39m.\u001b[39mcheck_worker_number_rationality()\n\u001b[0;32m--> 387\u001b[0m     \u001b[39mreturn\u001b[39;00m _MultiProcessingDataLoaderIter(\u001b[39mself\u001b[39;49m)\n",
      "File \u001b[0;32m~/miniforge3/envs/workshop/lib/python3.9/site-packages/torch/utils/data/dataloader.py:1040\u001b[0m, in \u001b[0;36m_MultiProcessingDataLoaderIter.__init__\u001b[0;34m(self, loader)\u001b[0m\n\u001b[1;32m   1033\u001b[0m w\u001b[39m.\u001b[39mdaemon \u001b[39m=\u001b[39m \u001b[39mTrue\u001b[39;00m\n\u001b[1;32m   1034\u001b[0m \u001b[39m# NB: Process.start() actually take some time as it needs to\u001b[39;00m\n\u001b[1;32m   1035\u001b[0m \u001b[39m#     start a process and pass the arguments over via a pipe.\u001b[39;00m\n\u001b[1;32m   1036\u001b[0m \u001b[39m#     Therefore, we only add a worker to self._workers list after\u001b[39;00m\n\u001b[1;32m   1037\u001b[0m \u001b[39m#     it started, so that we do not call .join() if program dies\u001b[39;00m\n\u001b[1;32m   1038\u001b[0m \u001b[39m#     before it starts, and __del__ tries to join but will get:\u001b[39;00m\n\u001b[1;32m   1039\u001b[0m \u001b[39m#     AssertionError: can only join a started process.\u001b[39;00m\n\u001b[0;32m-> 1040\u001b[0m w\u001b[39m.\u001b[39;49mstart()\n\u001b[1;32m   1041\u001b[0m \u001b[39mself\u001b[39m\u001b[39m.\u001b[39m_index_queues\u001b[39m.\u001b[39mappend(index_queue)\n\u001b[1;32m   1042\u001b[0m \u001b[39mself\u001b[39m\u001b[39m.\u001b[39m_workers\u001b[39m.\u001b[39mappend(w)\n",
      "File \u001b[0;32m~/miniforge3/envs/workshop/lib/python3.9/multiprocessing/process.py:121\u001b[0m, in \u001b[0;36mBaseProcess.start\u001b[0;34m(self)\u001b[0m\n\u001b[1;32m    118\u001b[0m \u001b[39massert\u001b[39;00m \u001b[39mnot\u001b[39;00m _current_process\u001b[39m.\u001b[39m_config\u001b[39m.\u001b[39mget(\u001b[39m'\u001b[39m\u001b[39mdaemon\u001b[39m\u001b[39m'\u001b[39m), \\\n\u001b[1;32m    119\u001b[0m        \u001b[39m'\u001b[39m\u001b[39mdaemonic processes are not allowed to have children\u001b[39m\u001b[39m'\u001b[39m\n\u001b[1;32m    120\u001b[0m _cleanup()\n\u001b[0;32m--> 121\u001b[0m \u001b[39mself\u001b[39m\u001b[39m.\u001b[39m_popen \u001b[39m=\u001b[39m \u001b[39mself\u001b[39;49m\u001b[39m.\u001b[39;49m_Popen(\u001b[39mself\u001b[39;49m)\n\u001b[1;32m    122\u001b[0m \u001b[39mself\u001b[39m\u001b[39m.\u001b[39m_sentinel \u001b[39m=\u001b[39m \u001b[39mself\u001b[39m\u001b[39m.\u001b[39m_popen\u001b[39m.\u001b[39msentinel\n\u001b[1;32m    123\u001b[0m \u001b[39m# Avoid a refcycle if the target function holds an indirect\u001b[39;00m\n\u001b[1;32m    124\u001b[0m \u001b[39m# reference to the process object (see bpo-30775)\u001b[39;00m\n",
      "File \u001b[0;32m~/miniforge3/envs/workshop/lib/python3.9/multiprocessing/context.py:224\u001b[0m, in \u001b[0;36mProcess._Popen\u001b[0;34m(process_obj)\u001b[0m\n\u001b[1;32m    222\u001b[0m \u001b[39m@staticmethod\u001b[39m\n\u001b[1;32m    223\u001b[0m \u001b[39mdef\u001b[39;00m \u001b[39m_Popen\u001b[39m(process_obj):\n\u001b[0;32m--> 224\u001b[0m     \u001b[39mreturn\u001b[39;00m _default_context\u001b[39m.\u001b[39;49mget_context()\u001b[39m.\u001b[39;49mProcess\u001b[39m.\u001b[39;49m_Popen(process_obj)\n",
      "File \u001b[0;32m~/miniforge3/envs/workshop/lib/python3.9/multiprocessing/context.py:284\u001b[0m, in \u001b[0;36mSpawnProcess._Popen\u001b[0;34m(process_obj)\u001b[0m\n\u001b[1;32m    281\u001b[0m \u001b[39m@staticmethod\u001b[39m\n\u001b[1;32m    282\u001b[0m \u001b[39mdef\u001b[39;00m \u001b[39m_Popen\u001b[39m(process_obj):\n\u001b[1;32m    283\u001b[0m     \u001b[39mfrom\u001b[39;00m \u001b[39m.\u001b[39;00m\u001b[39mpopen_spawn_posix\u001b[39;00m \u001b[39mimport\u001b[39;00m Popen\n\u001b[0;32m--> 284\u001b[0m     \u001b[39mreturn\u001b[39;00m Popen(process_obj)\n",
      "File \u001b[0;32m~/miniforge3/envs/workshop/lib/python3.9/multiprocessing/popen_spawn_posix.py:32\u001b[0m, in \u001b[0;36mPopen.__init__\u001b[0;34m(self, process_obj)\u001b[0m\n\u001b[1;32m     30\u001b[0m \u001b[39mdef\u001b[39;00m \u001b[39m__init__\u001b[39m(\u001b[39mself\u001b[39m, process_obj):\n\u001b[1;32m     31\u001b[0m     \u001b[39mself\u001b[39m\u001b[39m.\u001b[39m_fds \u001b[39m=\u001b[39m []\n\u001b[0;32m---> 32\u001b[0m     \u001b[39msuper\u001b[39;49m()\u001b[39m.\u001b[39;49m\u001b[39m__init__\u001b[39;49m(process_obj)\n",
      "File \u001b[0;32m~/miniforge3/envs/workshop/lib/python3.9/multiprocessing/popen_fork.py:19\u001b[0m, in \u001b[0;36mPopen.__init__\u001b[0;34m(self, process_obj)\u001b[0m\n\u001b[1;32m     17\u001b[0m \u001b[39mself\u001b[39m\u001b[39m.\u001b[39mreturncode \u001b[39m=\u001b[39m \u001b[39mNone\u001b[39;00m\n\u001b[1;32m     18\u001b[0m \u001b[39mself\u001b[39m\u001b[39m.\u001b[39mfinalizer \u001b[39m=\u001b[39m \u001b[39mNone\u001b[39;00m\n\u001b[0;32m---> 19\u001b[0m \u001b[39mself\u001b[39;49m\u001b[39m.\u001b[39;49m_launch(process_obj)\n",
      "File \u001b[0;32m~/miniforge3/envs/workshop/lib/python3.9/multiprocessing/popen_spawn_posix.py:62\u001b[0m, in \u001b[0;36mPopen._launch\u001b[0;34m(self, process_obj)\u001b[0m\n\u001b[1;32m     60\u001b[0m     \u001b[39mself\u001b[39m\u001b[39m.\u001b[39msentinel \u001b[39m=\u001b[39m parent_r\n\u001b[1;32m     61\u001b[0m     \u001b[39mwith\u001b[39;00m \u001b[39mopen\u001b[39m(parent_w, \u001b[39m'\u001b[39m\u001b[39mwb\u001b[39m\u001b[39m'\u001b[39m, closefd\u001b[39m=\u001b[39m\u001b[39mFalse\u001b[39;00m) \u001b[39mas\u001b[39;00m f:\n\u001b[0;32m---> 62\u001b[0m         f\u001b[39m.\u001b[39;49mwrite(fp\u001b[39m.\u001b[39;49mgetbuffer())\n\u001b[1;32m     63\u001b[0m \u001b[39mfinally\u001b[39;00m:\n\u001b[1;32m     64\u001b[0m     fds_to_close \u001b[39m=\u001b[39m []\n",
      "\u001b[0;31mKeyboardInterrupt\u001b[0m: "
     ]
    }
   ],
   "source": [
    "sentences, pos, tag, enc_pos, enc_tag = process_data(TRAINING_FILE)\n",
    "\n",
    "meta_data = {\n",
    "    \"enc_pos\": enc_pos,\n",
    "    \"enc_tag\": enc_tag\n",
    "}\n",
    "\n",
    "joblib.dump(meta_data, \"meta.bin\")\n",
    "\n",
    "num_pos = len(list(enc_pos.classes_))\n",
    "num_tag = len(list(enc_tag.classes_))\n",
    "\n",
    "(\n",
    "    train_sentences,\n",
    "    test_sentences,\n",
    "    train_pos,\n",
    "    test_pos,\n",
    "    train_tag,\n",
    "    test_tag\n",
    ") = model_selection.train_test_split(\n",
    "    sentences, \n",
    "    pos, \n",
    "    tag, \n",
    "    random_state=42, \n",
    "    test_size=0.1\n",
    ")\n",
    "\n",
    "train_dataset = EntityDataset(\n",
    "    texts=train_sentences, pos=train_pos, tags=train_tag\n",
    ")\n",
    "\n",
    "train_data_loader = torch.utils.data.DataLoader(\n",
    "    train_dataset, batch_size=TRAIN_BATCH_SIZE, num_workers=1\n",
    ")\n",
    "\n",
    "valid_dataset = EntityDataset(\n",
    "    texts=test_sentences, pos=test_pos, tags=test_tag\n",
    ")\n",
    "\n",
    "valid_data_loader = torch.utils.data.DataLoader(\n",
    "    valid_dataset, batch_size=VALID_BATCH_SIZE, num_workers=1\n",
    ")\n",
    "\n",
    "device = torch.device(\"cuda\") if torch.cuda.is_available() else torch.device(\"cpu\")\n",
    "model = EntityModel(num_tag=num_tag, num_pos=num_pos)\n",
    "model.to(device)\n",
    "\n",
    "param_optimizer = list(model.named_parameters())\n",
    "no_decay = [\"bias\", \"LayerNorm.bias\", \"LayerNorm.weight\"]\n",
    "optimizer_parameters = [\n",
    "    {\n",
    "        \"params\": [\n",
    "            p for n, p in param_optimizer if not any(\n",
    "                nd in n for nd in no_decay\n",
    "            )\n",
    "        ],\n",
    "        \"weight_decay\": 0.001,\n",
    "    },\n",
    "    {\n",
    "        \"params\": [\n",
    "            p for n, p in param_optimizer if any(\n",
    "                nd in n for nd in no_decay\n",
    "            )\n",
    "        ],\n",
    "        \"weight_decay\": 0.0,\n",
    "    },\n",
    "]\n",
    "\n",
    "num_train_steps = int(\n",
    "    len(train_sentences) / TRAIN_BATCH_SIZE * EPOCHS\n",
    ")\n",
    "optimizer = torch.optim.AdamW(optimizer_parameters, lr=3e-5) \n",
    "scheduler = get_linear_schedule_with_warmup(\n",
    "    optimizer, \n",
    "    num_warmup_steps=0, \n",
    "    num_training_steps=num_train_steps\n",
    ")\n",
    "\n",
    "best_loss = np.inf\n",
    "for epoch in range(EPOCHS):\n",
    "    train_loss = train_fn(\n",
    "        train_data_loader, \n",
    "        model, \n",
    "        optimizer, \n",
    "        device, \n",
    "        scheduler\n",
    "    )\n",
    "    test_loss = eval_fn(\n",
    "        valid_data_loader,\n",
    "        model,\n",
    "        device\n",
    "    )\n",
    "    print(f\"Train Loss = {train_loss} Valid Loss = {test_loss}\")\n",
    "    if test_loss < best_loss:\n",
    "        torch.save(model.state_dict(), MODEL_PATH)\n",
    "        best_loss = test_loss"
   ]
  },
  {
   "cell_type": "markdown",
   "metadata": {
    "papermill": {
     "duration": 0.379929,
     "end_time": "2023-02-09T06:40:36.907583",
     "exception": false,
     "start_time": "2023-02-09T06:40:36.527654",
     "status": "completed"
    },
    "tags": []
   },
   "source": [
    "## Inference"
   ]
  },
  {
   "cell_type": "code",
   "execution_count": 8,
   "metadata": {
    "execution": {
     "iopub.execute_input": "2023-02-09T06:40:37.730198Z",
     "iopub.status.busy": "2023-02-09T06:40:37.668396Z",
     "iopub.status.idle": "2023-02-09T06:40:41.000814Z",
     "shell.execute_reply": "2023-02-09T06:40:41.001556Z",
     "shell.execute_reply.started": "2023-02-09T06:28:49.316259Z"
    },
    "papermill": {
     "duration": 3.716915,
     "end_time": "2023-02-09T06:40:41.001706",
     "exception": false,
     "start_time": "2023-02-09T06:40:37.284791",
     "status": "completed"
    },
    "tags": []
   },
   "outputs": [
    {
     "name": "stdout",
     "output_type": "stream",
     "text": [
      "['Cigarettes', 'in', 'this', 'machine', 'cost', '65', 'cents.', 'Now', \"that's\", '55', 'cents', 'for', 'growing', 'the', 'tobacco,', 'manufacturing,', 'and', 'distributing', 'the', 'cigarettes.', '2', 'cents', 'state', 'tax,', 'and', '8', 'cents', 'federal', 'tax.', 'The', 'people', 'in', 'the', 'tobacco', 'fields', 'receive', 'about', 'a', 'nickel', 'a', 'pack.', 'Adding', 'another', '8', 'cents', 'tax', 'will', 'not', 'give', 'them', 'a', 'penny', 'more.', 'They', 'fear', 'they', 'will', 'end', 'up', 'losing', 'a', 'lot.', \"They'll\", 'lower', 'quotas', 'if', 'the', 'usage', 'cuts', 'down.', 'And', '8', 'cents', \"can't\", 'help', 'that', 'any.', 'Now', 'if', 'they', 'lower', 'a', 'quota,', \"what's\", 'that', 'do', 'to', 'you?', 'It', 'reduces', 'the', 'amount', 'of', 'tobacco', 'I', 'can', 'grow.', 'As', 'you', 'can', 'tell,', 'Tom', 'and', 'Alan', 'Broadwell', 'are', 'already', 'counting', 'their', 'losses.', 'Last', 'year', 'their', 'quota', 'was', '32', 'acres.', 'This', 'year', 'it', 'is', '30.', 'So', 'they', 'do', 'not', 'welcome', 'a', 'price', 'increase', 'that', 'could', 'bring', 'their', 'quota', 'down', 'even', 'more.', 'Well', \"it's\", 'been', 'going', 'up', 'pretty', 'steadily', 'the', 'last', '10', 'years', 'and', 'consumption', 'has', 'gone', 'down', 'every', 'year.', 'So', 'yeah,', \"I'm\", 'pretty', 'sure', 'it', 'will', 'have', 'a', 'direct', 'effect', 'on', 'our', 'market.', 'Even', 'though', 'it', 'would', 'cost', 'them', 'money,', 'Tom', 'and', 'Alan', 'were', 'happy', 'to', 'pick', 'up', 'the', 'tab', 'for', 'the', 'new', 'tobacco', 'price', 'support', 'system', 'because', 'it', 'got', 'the', 'government', 'out', 'of', 'the', 'tobacco', 'business.', 'They', \"didn't\", 'plan', 'on', 'this.', 'Another', '8', 'cents', 'in', 'federal', 'tax', 'will', 'probably', 'drive', 'the', 'price', 'of', 'cigarettes', 'in', 'this', 'machine', 'from', '65', 'to', '75', 'cents.', 'Now', 'experts', 'estimate', 'that', 'as', 'many', 'as', '7', 'percent', 'of', 'the', 'smokers', 'would', 'stop', 'smoking', 'as', 'a', 'result', 'of', 'that', 'price', 'increase.', 'So', 'the', 'farmers', 'probably', 'have', 'pretty', 'good', 'reason', 'to', 'be', 'worried.', 'Bill', 'Draper,', 'Action', 'News', '5.', 'Over', 'the', 'last', 'couple', 'of', 'months', 'parking', 'lots', 'like', 'this', 'one', 'have', 'sprung', 'up', 'less', 'than', 'a', 'mile', 'from', 'the', 'Raleigh', 'Dorm', 'Airport.', 'They', 'all', 'charge', 'about', '$2', 'per', 'day.', 'But', 'if', 'you', 'leave', 'your', 'car', 'in', \"RDU's\", 'parking', 'lot,', 'you', 'can', 'expect', 'to', 'pay', '$4.50', 'for', 'the', 'first', 'day', 'in', 'long', 'term', 'parking', 'and', 'as', 'much', 'as', '$8', 'per', 'day', 'for', 'short', 'term.', 'One', 'would', 'expect', 'business', 'to', 'move', 'on', 'down', 'the', 'road,', 'but', 'has', 'it?', 'April', 'and', 'May,', 'compared', 'with', 'April', 'and', 'May', 'of', 'the', 'previous', 'year,', 'our', 'receipts', 'are', 'up.', \"They're\", 'up', 'about', '7', 'percent', 'and', 'yet', 'our', 'passengers', 'for', 'the', 'same', 'period', 'are', 'up', 'a', 'little', 'under', '3', 'percent.', 'So', 'far,', 'so', 'good.', 'But', 'those', 'figures', \"don't\", 'take', 'into', 'account', 'new', 'parking', 'lots', 'that', 'have', 'set', 'up', 'shop', 'along', 'airport', 'roads', 'since', 'June.', 'One', 'of', 'those', 'new', 'lots,', 'Richard', 'Wernelie,', 'dropped', 'his', 'price', 'to', '$1', 'per', 'day', 'during', 'the', '4th', 'of', 'July', 'weekend', 'just', 'to', 'lower', 'business.', 'His', 'lot', 'accommodates', '275', 'cars,', 'but', 'on', 'the', 'average', 'he', 'parks', 'about', '40', 'cars', 'per', 'day.', 'The', 'only', 'problem', 'is', 'right', 'now', 'is', 'we', \"can't\", 'have', 'any', 'advertisement', 'advising', 'the', 'people', 'on', 'the', 'other', 'side', 'of', 'the', 'terminal', 'that', 'they', 'can', 'park', 'here', 'for', 'less', 'than', 'a', 'rate', 'at', 'the', 'terminal.', 'The', 'RDU', 'parking', 'lots', 'generate', 'more', 'than', 'a', 'million', 'dollars', 'of', 'the', \"airport's\", 'total', '$7', 'million', 'budget', 'and', 'officials', 'have', 'no', 'plans', 'of', 'dropping', 'the', 'price', 'to', 'compete', 'with', 'other', 'lots.', 'This', 'lot', 'and', 'others', 'like', 'it', 'along', 'airport', 'road', 'will', 'soon', 'have', 'to', 'close', 'up', 'shop', 'to', 'make', 'room', 'for', 'the', 'construction', 'of', 'a', 'new', 'runway.', 'But', 'once', 'that', 'runway', 'is', 'complete,', 'will', 'they', 'be', 'able', 'to', 'return?', 'This', 'company', 'says', 'they', 'plan', 'to', 'relocate,', 'but', 'all', 'of', 'them', \"won't\", 'be', 'as', 'fortunate.', 'Wernelie', 'probably', \"won't\", 'lose', 'his', 'lot', 'to', 'RDU', 'until', 'about', '1985', 'and', 'until', 'then', 'he', 'plans', 'to', 'keep', 'up', 'the', 'competition.', 'Renee', 'McCoy,', 'Action', 'News', '5.', 'Challenger', 'Wayne', 'Gay', 'is', 'running', 'a', 'well-financed', 'campaign', 'for', \"Wilson's\", 'Democratic', 'sheriff', 'nomination.', 'Incumbent', 'Lewis', 'Taylor', 'has', 'responded', 'with', 'advertising', 'that', 'questions', 'the', 'motives', 'behind', 'those', 'contributing', 'to', \"Gay's\", 'campaign.', 'The', 'challenger', 'says', \"that's\", 'dirty', 'pool', 'and', \"he'd\", 'like', 'to', 'talk', 'about', 'what', 'he', 'sees', 'as', 'the', 'issues.', 'Taylor', 'Taylor,', 'Chief', 'Executive', 'Officer,', \"Taylor's\", 'Office', 'of', 'Justice', 'I', 'certainly', 'feel', 'that', 'instability', 'within', 'the', 'department', 'has', 'to', 'be', 'one', 'of', 'the', 'biggest', 'issues.', 'Within', 'the', 'past', 'three', 'years', \"we've\", 'had', '20', 'people', 'to', 'resign', 'from', 'the', \"sheriff's\", 'department.', 'This', 'has', 'been', 'since', 'the', \"president's\", 'sheriff', 'was', 'appointed.', 'Taylor', 'Taylor,', 'Chief', 'Executive', 'Officer,', \"Taylor's\", 'Office', 'of', 'Justice', 'There', 'have', 'been', 'people', 'leaving', 'because', 'of', 'opportunities', 'for', 'better-paying', 'jobs,', 'because', 'they', 'moved', 'out', 'of', 'the', 'county.', 'Taylor', 'has', 'never', 'run', 'for', 'office', 'before.', 'He', 'was', 'appointed', 'three', 'years', 'ago', 'to', 'finish', 'the', 'term', 'of', 'a', 'sheriff', 'who', 'was', 'removed', 'from', 'office.', 'During', 'his', 'time', 'as', 'sheriff,', 'Taylor', 'promoted', 'Gay', 'from', 'detective', 'to', 'chief', 'detective.', 'Gay', 'resigned', 'last', 'November', 'to', 'challenge', 'his', 'boss.', 'Taylor', 'says', \"he's\", 'been', 'a', 'good', 'sheriff', 'for', 'Wilson', 'County,', 'but', 'Wayne', 'Gay', 'outpolled', 'him', 'in', 'the', 'recent', 'six-way', 'primary.', 'Despite', 'that,', 'Taylor', 'says', \"he'll\", 'do', 'better', 'in', 'the', 'upcoming', 'two-man', 'runoff.', 'Both', 'candidates', 'say', \"they've\", 'picked', 'up', 'added', 'support', 'for', 'next', \"Tuesday's\", 'balloting.', 'Harold', 'Williams,', 'Action', 'News', '5,', 'Wilson.', 'Artur', 'Jones', 'is', 'the', 'first', 'word', 'given', 'to', 'North', 'Carolinaville', 'Joe', 'Biden', 'clever,', 'ã‚„ã\\x81‘ã\\x81©', 'This', 'is', 'Lasseter', 'Street.', \"It's\", 'a', 'typical', 'unpaved', 'secondary', 'road', 'in', 'Wake', 'County.', \"It's\", 'not', 'as', 'wide', 'as', 'many', 'streets,', \"it's\", 'full', 'of', 'potholes', 'and', 'it', 'has', 'improper', 'drainage.', 'The', 'handful', 'of', 'residents', 'that', 'live', 'on', 'Lasseter', 'Street', 'have', 'been', 'maintaining', 'it', 'as', 'the', 'weather', 'and', 'traffic', 'has', 'taken', 'its', 'toll.', 'But', 'now', 'they', 'say', \"it's\", 'too', 'costly', 'for', 'them', 'to', 'pay', 'for', 'the', 'upkeep', 'on', 'the', 'street.', 'One', 'resident,', 'Lymus', 'Simmons,', 'says', 'he', 'asked', 'the', 'State', 'Department', 'of', 'Transportation', 'to', 'take', 'over', 'the', 'maintenance.', 'DOT', 'officials', 'came', 'out', 'and', 'looked', 'at', 'Lasseter', 'Street', 'but', 'never', 'told', 'the', 'residents', 'if', 'they', 'could', 'help', 'them', 'with', 'their', 'problem.', 'That', 'was', 'three', 'years', 'ago.', 'They', 'told', 'me', \"they'd\", 'get', 'back', 'with', 'me', 'in', 'six', 'to', 'two', 'thirty', 'days', 'and', \"it's\", 'been', 'about', 'thirty', 'months', 'and', 'they', \"hadn't\", 'got', 'back', 'yet.', 'DOT', 'secondary', 'roads', 'officer', 'Jack', 'Murdoch', 'says', 'his', 'office', 'made', 'a', 'mistake', 'by', 'not', 'answering', 'the', 'property', 'owners.', 'That', 'was', 'after', 'Action', 'News', 'brought', 'the', 'problem', 'to', 'his', 'attention.', 'Murdoch', 'says', 'he', 'will', 'go', 'back', 'out', 'and', 'look', 'at', 'the', 'road', 'again.', \"We've\", 'been', 'out', 'in', 'the', 'past.', 'You', 'know,', 'you', \"don't\", 'remember', 'to', 'check', 'back', 'and', 'I', 'remember', 'Mr.', 'Simmons', 'discussing', 'it', 'with', 'him', 'several', 'times', 'and', \"we'll\", 'go', 'back', 'out', 'and', 'look', 'at', 'it.', 'Since', '1931,', 'Murdoch', 'says', 'the', 'State', 'controls', 'and', 'maintains', 'secondary', 'roads', 'similar', 'to', 'Lasseter', 'Street', 'in', 'all', 'one', 'hundred', 'counties.', 'He', 'says', 'as', 'the', 'roads', 'are', 'brought', 'to', 'his', 'attention,', 'the', 'State', 'will', 'evaluate', 'each', 'one', 'for', 'need,', 'the', 'number', 'of', 'residents', 'affected', 'and', 'how', 'much', 'upgrading', 'it', 'will', 'take', 'to', 'bring', 'it', 'up', 'to', 'State', 'standards.', 'But', 'that', 'task', 'in', 'itself', 'could', 'take', 'decades.', 'There', 'are', 'sixty', 'thousand', 'miles', 'of', 'secondary', 'roads', 'in', 'North', 'Carolina.', 'Clarence', 'Scott,', 'Action', 'News', '5.', 'This', 'is', 'the', 'Halifax', 'County', 'town', 'of', 'Infield,', 'population', 'two', 'thousand', 'nine', 'hundred', 'eighty.', 'There', 'are', 'seven', 'police', 'officers', 'with', 'an', 'opening', 'for', 'one', 'more.', 'The', 'police', 'department', 'says', 'it', 'needs', 'a', 'new', 'car', 'but', \"it's\", 'been', 'turned', 'down', 'by', 'the', 'town', 'board', 'because', 'of', 'federal', 'budget', 'cuts', 'and', 'the', 'picture', \"isn't\", 'much', 'brighter', 'for', \"Infield's\", 'two', 'garbage', 'trucks.', \"They're\", 'gonna', 'probably', 'have', 'to', 'be', 'replaced', 'next', 'year', 'or', 'the', 'year', 'after.', 'Think', \"you'll\", 'be', 'able', 'to', 'do', 'it?', 'Hopefully.', 'Hopefully.', 'If', 'the', 'cuts', \"don't\", 'go', 'in', 'the', 'lower', 'now', 'or', 'now.', 'Infield', 'will', 'receive', 'forty', 'two', 'and', 'a', 'half', 'thousand', 'dollars', 'from', 'revenue', 'sharing', 'this', 'fiscal', 'year', \"that's\", 'down', 'almost', 'ten', 'thousand', 'dollars', 'from', 'two', 'years', 'ago.', 'It', 'may', 'reach', 'the', 'point', 'that', \"we'll\", 'have', 'to', 'go', 'back', 'to', 'where', 'we', 'were', 'prior', 'to', 'revenue', 'sharing', 'where', 'we', 'had', 'one', 'garbage', 'truck', 'and', 'one', 'crew', 'would', 'once', 'a', 'week', 'garbage', 'pickup.', 'We', 'now', 'have', 'two', 'trucks', 'and', 'two', 'crews', 'with', 'twice', 'a', 'week', 'household', 'picket.', 'Infield', 'only', 'uses', 'federal', 'dollars', 'for', 'capital', 'purchases', 'like', 'garbage', 'trucks', 'and', 'police', 'cars.', 'Salaries', 'and', 'ongoing', 'projects', 'are', 'funded', 'with', 'local', 'money.', 'Because', 'of', 'that', 'the', 'impact', 'of', 'federal', 'cuts', \"isn't\", 'being', 'felt', 'as', 'strongly', 'in', 'Infield', 'as', 'it', 'is', 'in', 'some', 'other', 'places.', 'The', 'town', 'clerk', 'says', 'Infield', 'is', 'coping', 'fairly', 'well.', 'Harold', 'Williams', 'Action', 'News', '5', 'Infield.', 'First', 'it', 'was', 'the', 'self-service', 'gasoline', 'pump.', 'Do', 'it', 'yourself', 'and', 'save', 'a', 'few', 'cents', 'a', 'gallon.', 'Now', 'the', 'cash', 'discount', 'is', 'the', 'latest', 'way', 'to', 'save', 'money', 'as', 'you', 'fill', 'up.', 'The', 'discount', 'is', 'already', 'used', 'by', 'several', 'oil', 'companies', 'and', 'Exxon', 'is', 'adding', 'its', 'name', 'to', 'the', 'list', 'next', 'month.', \"Here's\", 'how', 'the', 'cash', 'incentive', 'program', 'saves', 'you', 'money.', 'First', 'you', 'gas', 'up', 'like', 'you', 'normally', 'do.', 'When', 'the', 'attendant', 'comes', 'over', 'to', 'collect', 'reach', 'for', 'your', 'cash', 'instead', 'of', 'your', 'credit', 'card.', \"You'll\", 'then', 'get', 'a', 'discount', 'probably', 'amounting', 'to', 'a', 'nickel', 'or', 'so', 'a', 'gallon.', 'When', 'we', 'told', 'some', 'Exxon', 'customers', 'what', \"they're\", 'in', 'for', 'next', 'month', 'their', 'reactions', 'were', 'pretty', 'much', 'the', 'same.', 'You', 'like', 'the', 'idea?', 'Sure.', 'Would', 'you', 'pay', 'cash?', 'I', 'always', 'pay', 'cash.', \"It's\", 'convenient', 'but', 'if', \"there's\", 'a', 'discount', 'well', 'of', 'course', \"you'd\", 'save', 'five', 'percent.', \"They'll\", 'give', 'you', 'so', 'much', 'off', 'the', 'pump', 'price', 'if', 'you', 'pay', 'in', 'cash', 'instead', 'of', 'using', 'your', 'credit', 'card.', 'Exxon', 'retailers', 'on', 'the', 'other', 'hand', 'are', 'looking', 'at', 'the', 'incentive', 'program', 'with', 'a', 'wary', 'eye.', \"That's\", 'because', 'come', 'next', 'month', \"they'll\", 'be', 'paying', 'a', 'little', 'bit', 'less', 'for', 'their', 'gasoline', 'but', 'at', 'the', 'same', 'time', \"they'll\", 'be', 'giving', 'their', 'cash', 'paying', 'customers', 'a', 'substantial', 'discount.', \"It's\", 'to', 'say', 'that', 'we', 'will', 'have', 'more', 'business', 'coming', 'into', 'our', 'service', 'station', 'however', 'this', 'is', 'a', 'trend', 'of', 'every', 'oil', 'company', 'and', 'once', 'all', 'competitors', 'have', 'the', 'same', 'program', 'I', 'do', 'not', 'see', 'how', 'that', 'is', 'an', 'advantage.', 'Upchurch', 'thinks', 'the', 'program', 'signals', 'the', 'beginning', 'of', 'the', 'end', 'for', 'gas', 'credit', 'cards.', 'He', 'says', 'customers', 'will', 'eventually', 'be', 'charged', 'a', 'fee', 'to', 'use', 'their', 'cards', 'and', 'the', 'end', 'result', 'might', 'be', 'that', 'the', 'fantastic', 'plastic', 'will', 'someday', 'disappear', 'from', 'service', 'stations', 'altogether.', 'Jody', 'Davis,', 'Action', 'News', '5,', 'Raleigh.', \"I've\", 'tried', 'to', 'live', 'the', 'best', 'that', 'I', 'could', 'but', 'I', \"haven't\", 'worked', 'in', '19', 'years.', 'For', 'almost', 'two', 'decades', 'Hubert', 'Chapel', 'has', 'had', 'to', 'etch', 'out', 'a', 'living', 'solely', 'on', 'monthly', 'social', 'security', 'disability', 'checks', 'and', 'accident', 'and', 'six', 'back', 'operations', 'have', 'left', 'him', 'totally', 'disabled.', 'Now', 'he', 'suffers', 'with', 'neck', 'pains', 'and', 'stomach', 'problems.', 'For', 'entertainment', 'he', 'crochets.', 'For', 'survival', 'he', 'waits', 'for', 'a', '$435', 'disability', 'check', 'and', 'that', 'will', 'end', 'August', '1st.', 'The', 'president', 'said', 'this', 'would', 'not', 'ever', 'happen', 'when', 'they', 'got', 'on', 'him', 'last', 'year', 'and', 'never', 'before', 'last', 'about', 'the', 'social', 'security', 'thing.', 'He', 'said', 'this', 'would', 'never', 'happen.', 'People', 'in', 'need', 'would', 'never', 'be,', 'this', 'would', 'never', 'happen', 'to', 'him', 'but', 'it', 'is', 'happening.', 'And', \"it's\", 'happening', 'because', 'in', '1980', 'Congress', 'decided', 'all', 'disability', 'cases', 'must', 'be', 'periodically', 'reviewed.', 'The', 'government', 'determines', 'who', 'is', 'disabled,', \"can't\", 'work', 'and', 'entitled', 'to', 'disability', 'payments', 'and', 'the', 'criteria', 'was', 'revised', 'in', '1979.', 'What', 'we', 'do', 'is', 'obtain', 'medical', 'information,', 'the', 'objective', 'findings', 'and', 'base', 'a', 'recommended', 'decision', 'on', 'the', 'federal', 'criteria.', 'In', 'my', 'opinion', 'the', 'criteria', 'itself', 'tightens', 'somewhat.', 'So', 'after', 'years', 'of', 'living', 'on', 'a', 'monthly', 'check', 'hundreds', 'of', 'folks', 'like', 'Chapel', 'are', 'finding', 'themselves', 'suddenly', 'declared', 'fit', 'to', 'work', 'cut', 'off', 'from', 'their', 'only', 'source', 'of', 'income.', 'In', 'March', 'of', '1981', 'more', 'than', '2000', 'cases', 'were', 'reviewed', 'in', 'North', 'Carolina,', '870', 'cases', 'were', 'terminated', 'and', 'during', 'the', 'months', 'between', 'October', 'of', '1981', 'to', 'July', 'of', '1982', '9000', 'cases', 'were', 'reviewed,', 'almost', '4000', 'were', 'kicked', 'out.', 'The', 'only', 'thing', 'I', 'can', 'tell', 'such', 'an', 'individual', 'is', 'that', 'the', 'criteria', 'is', 'established', 'by', 'the', 'federal', 'government.', 'We', 'do', 'try', 'to', 'obtain', 'the', 'necessary', 'findings', 'so', 'that', 'we', 'can', 'get', 'them', 'to', 'think', 'that', \"they're\", 'for', 'doubt.', 'But', \"that's\", 'a', 'little', 'consolation', 'to', 'the', 'hundreds', 'of', 'Hubert', 'Chappals', 'who', 'with', 'a', '10th', 'grade', 'education', 'must', 'somehow', 'go', 'back', 'into', 'the', 'workforce', 'and', 'compete', 'with', 'thousands', 'of', 'other', 'folks', 'looking', 'for', 'a', 'job.', 'Chapel', \"can't\", 'appeal', 'the', 'decision', 'made', 'by', 'the', 'Department', 'of', 'Social', 'Security', 'but', 'says', 'that', 'takes', 'too', 'long', 'and', 'he', \"can't\", 'afford', 'a', 'lawyer.', 'This', 'is', 'the', 'most', 'terrible', 'thing', \"that's\", 'ever', 'happened', 'to', 'me', 'and', 'in', 'fact', 'my', 'world', 'ended.', 'When', 'my', 'check', 'stops', 'I', 'have', 'no', 'way', 'in', 'the', 'world', 'of', 'living.', 'Connie', 'Howard', 'Action', 'News', '5.', 'They', 'call', 'themselves', 'Groups', 'Sacks', 'and', 'jazz', 'is', 'what', 'they', 'specialize', 'in', 'to', 'the', 'delight', 'of', 'many', 'local', 'residents.', 'This', 'music', 'explosion', 'was', 'all', 'part', 'of', 'VINVED,', 'an', 'African', 'cultural', 'festival', 'sponsored', 'each', 'year', 'by', 'the', 'Durham', 'City', 'Parks', 'and', 'Recreation', 'Department,', 'North', 'Carolina', 'Central', 'University,', 'radio', 'station', 'WDUR', 'and', 'Budweiser.', 'The', 'local', 'artists', \"it's\", 'a', 'chance', 'to', 'show', 'off', 'their', 'work', 'and', 'to', 'drum', 'up', 'some', 'business.', 'The', 'economy', 'is', 'bad', 'now', 'and', 'people', \"aren't\", 'buying,', 'this', 'is', 'a', 'luxury', 'item.', 'People', 'are', 'buying', 'the', 'necessities,', 'gas,', 'food,', 'and', 'food.', 'Business', 'was', 'a', 'bit', 'slow', 'today', 'not', 'just', 'for', 'the', 'painters', 'but', 'for', 'those', 'selling', 'lamps', 'too.', 'Some', 'speculated', 'it', 'was', 'probably', 'because', 'most', 'people', 'were', 'trying', 'to', 'find', 'a', 'cool', 'spot', 'where', 'they', 'could', 'take', 'in', 'all', 'the', 'sights', 'and', 'sounds', 'of', 'the', 'festival.', 'What', 'do', 'you', 'like', 'about', 'it?', 'The', 'people,', 'the', 'atmosphere,', 'basically', 'music,', 'a', 'lot', 'of', 'food,', 'a', 'lot', 'of', 'art,', 'stuff', 'like', 'that.', 'This', 'is', 'the', '14th', 'year', 'for', 'the', 'festival', 'and', 'each', 'year', 'it', 'gets', 'bigger', 'and', 'bigger.', 'Connie', 'Howard,', 'Action', 'News', '5.', 'It', 'was', 'shortly', 'after', '2', \"o'clock\", 'this', 'afternoon', 'when', 'the', 'Cessna', '182', 'took', 'off', 'from', 'the', 'Franklin', 'County', 'Sport', 'and', 'Parachute', 'Center,', 'a', 'place', 'where', 'professional', 'and', 'student', 'jumpers', 'can', 'rent', 'a', 'plane', 'and', 'spend', 'the', 'afternoon', 'parachuting.', 'As', 'the', 'Cessna', 'took', 'off,', 'eyewitnesses', 'say', 'there', 'was', 'an', 'eerie', 'feeling', 'something', \"wasn't\", 'right.', 'Ben', 'Curran', 'says', 'the', 'plane', 'only', 'lifted', 'about', '300', 'feet', 'off', 'the', 'ground.', 'I', 'was', 'packing', 'my', 'parachute', 'on', 'a', 'corner', 'to', 'build', 'them', 'and', 'the', 'plane', 'took', 'off', 'up', 'the', 'runway', 'and', 'it', 'never', 'did', 'gain', 'altitude.', 'Something', 'happened', 'and', 'it', 'seemed', 'like', 'it', 'sank', 'out', 'of', 'the', 'sky', 'and', 'within', 'seconds', 'everybody', 'started', 'running', 'towards', 'its', 'direction', 'and', 'most', 'of', 'the', 'jumpers', 'were', 'over', 'here', 'before', 'the', 'rescue', 'people', 'got', 'here.', 'And', 'when', 'they', 'got', 'there', 'what', 'they', 'saw', 'were', 'pieces', 'of', 'the', 'small', 'plane', 'dangling', 'in', 'the', 'trees,', 'nearby', 'three', 'lifeless', 'bodies', 'mutilated', 'and', 'two', 'men', 'in', 'shock', 'seriously', 'injured', 'but', 'alive.', 'They', 'have', 'been', 'identified', 'as', '19', 'year', 'old', 'Mike', 'Balvid.', \"He's\", 'in', 'guarded', 'condition', 'at', 'Wake', 'Medical', 'Center', 'and', '25', 'year', 'old', 'Mike', 'DeSello', 'also', 'at', 'Wake', 'Medical', 'but', 'in', 'stable', 'condition.', 'The', 'two', 'are', 'considered', 'new', 'at', 'parachuting.', 'The', 'dead', 'are', 'Frank', 'Crawford', 'from', 'Cary,', 'an', 'experienced', 'jumper.', 'Joel', 'Bush', 'from', 'Lewisburg,', 'he', 'was', 'the', 'pilot', 'of', 'the', 'downed', 'plane.', 'An', 'identification', 'of', 'the', 'third', 'victim', 'has', 'been', 'withheld', 'pending', 'notification', 'of', 'his', 'family.', 'The', 'owner', 'of', 'the', 'parachute', 'center,', 'Paul', 'Fayard,', 'was', 'nearby', 'as', 'the', 'bodies', 'were', 'carried', 'away', 'and', 'as', 'cleanup', 'crews', 'and', 'state', 'and', 'local', 'police', 'began', 'sifting', 'through', 'the', 'remains', 'of', 'the', 'Cessna.', 'The', 'Federal', 'Aviation', 'Administration', 'is', 'investigating', 'what', 'caused', 'this', 'tragic', 'crash', 'but', 'right', 'now', 'there', 'are', 'no', 'answers', 'and', 'the', 'survivors', 'may', 'be', 'of', 'little', 'help.', 'One', 'of', 'the', 'two', 'survivors', 'told', 'rescue', 'workers', 'the', 'only', 'thing', 'he', 'remembers', 'is', 'someone', 'screaming', 'hold', 'on', \"we're\", 'going', 'down.', 'Connie', 'Howard,', 'Action', 'News', '5.', 'This', 'man', 'has', 'been', 'arrested', 'for', 'a', 'criminal', 'offense.', 'He', \"can't\", 'afford', 'an', 'attorney', 'so', 'the', 'court', 'has', 'appointed', 'an', 'attorney', 'for', 'him', 'but', 'will', 'he', 'get', 'the', 'best', 'protection', 'under', 'the', 'law.', 'UNC', 'Law', 'Professor', 'Norman', 'Lufstein', 'says', 'not', 'necessarily.', 'Lawyers', 'often', 'find', 'themselves', 'in', 'a', 'situation', 'where', 'the', 'amounts', 'they', 'receive', 'is', 'not', 'even', 'enough', 'to', 'cover', 'their', 'office', 'overhead.', 'Do', 'you', 'think', 'that', 'in', 'turn', 'affects', 'the', 'kind', 'of', 'representation', 'that', 'they', 'are', 'giving?', 'I', 'think', 'inevitably', 'it', 'does', 'affect', 'the', 'representation', 'by', 'some', 'lawyers.', 'Lufstein', 'compiled', 'a', 'report', 'for', 'the', 'American', 'Bar', 'Association', 'on', 'criminal', 'defense', 'services', 'for', 'the', 'poor.', 'He', 'says', 'there', 'are', 'not', 'enough', 'lawyers', 'to', 'represent', 'the', 'poor.', 'Ones', 'that', 'are', 'available', 'need', 'more', 'training,', 'supervision', 'and', 'support', 'from', 'the', 'staffs.', 'In', 'fact', 'non-payment', 'for', 'services', 'is', 'one', 'of', 'the', 'biggest', 'reasons', 'court', 'appointed', 'attorneys', \"can't\", 'always', 'give', 'their', 'full', 'attention', 'to', 'indigent', 'defense', 'cases.', 'There', 'are', 'some', 'lawyers', 'who', 'will', 'tell', 'you', 'candidly', 'when', 'you', 'ask', 'them', 'that', 'when', 'they', 'are', 'not', 'being', 'paid', 'and', 'when', 'some', 'other', 'clients', 'are', 'paying', 'them', 'for', 'their', 'representation', 'they', 'are', 'simply', 'not', 'going', 'to', 'be', 'able', 'to', 'do', 'everything', 'on', 'behalf', 'of', 'the', 'poor', 'client', 'that', 'might', 'be', 'required.', 'Since', 'President', \"Reagan's\", 'new', 'federalism', 'has', 'come', 'about', 'federal', 'programs', 'such', 'as', 'public', 'defense', 'and', 'its', 'funding', 'has', 'been', 'pushed', 'back', 'down', 'to', 'the', 'local', 'and', 'state', 'level.', 'A', 'load', 'it', \"hasn't\", 'been', 'able', 'to', 'handle', 'in', 'the', 'past.', 'So', \"what's\", 'the', 'solution?', 'Lufstein', 'says', 'the', 'answer', 'is', 'to', 're-involve', 'the', 'federal', 'government', 'through', 'a', 'program', 'called', 'the', 'Center', 'for', 'Defense', 'Services.', 'The', 'money', 'would', 'still', 'primarily', 'come', 'from', 'the', 'local', 'and', 'state', 'governments', 'but', 'the', 'center', 'would', 'have', 'the', 'power', 'to', 'award', 'matching', 'funds.', 'Clarence', 'Scott,', 'Action', 'News', '5.', 'Tim', \"Valentine's\", 'main', 'campaign', 'headquarters', 'was', 'pretty', 'quiet', 'today', 'in', 'Rocky', 'Mount.', 'Twenty', 'volunteers', 'manned', 'the', 'phones', 'calling', 'registered', 'voters', 'reminding', 'them', 'one', 'last', 'time', 'to', 'make', 'it', 'to', 'the', 'polls', 'and', 'the', 'camp', 'offered', 'other', 'services.', 'Clarence', 'Scott,', 'Action', 'News', '5.', \"We're\", 'offering', 'babysitting', 'but', 'we', \"haven't\", 'had', 'anybody', 'take', 'us', 'up', 'on', 'that.', \"We're\", 'offering', 'rides', 'to', 'the', 'polls', 'and', \"we've\", 'had', 'a', 'lot', 'of', 'people', 'bite', 'at', 'that', 'one.', 'These', 'elderly', 'people', \"can't\", 'get', 'out.', \"We're\", 'doing', 'a', 'lot', 'of', 'things', 'like', 'driving', 'them', 'to', 'the', 'poll', 'and', 'the', 'poll', 'workers', 'will', 'bring', 'the', 'ballot', 'out', 'to', 'them.', 'Mostly', 'though', 'the', 'feeling', 'here', 'was', 'everything', 'that', 'could', 'be', 'done', 'had', 'been', 'done.', 'Now', 'all', 'that', 'was', 'left', 'was', 'just', 'the', 'watching', 'and', 'waiting', 'that', 'would', 'come', 'tonight.', 'At', 'Valentine', 'headquarters', 'in', 'Durham', 'it', 'was', 'much', 'the', 'same', 'scene.', 'Volunteers', 'using', 'the', 'same', 'strategy', 'reviewed', 'voter', 'roles', 'one', 'more', 'time.', 'And', 'where', 'was', 'the', 'candidate', 'in', 'all', 'this?', 'Out', 'campaigning', 'of', 'course', 'for', 'the', 'few', 'last', 'precious', 'hours.', 'Anne', 'Devlin,', 'Action', 'News', '5.', 'Valentine', 'supporters', 'have', 'predicted', 'that', 'he', 'would', 'win', 'this', 'race', 'by', 'a', 'little', 'over', '51%', 'of', 'the', 'vote.', 'Throughout', 'the', 'evening', 'campaign', 'people', 'here', 'have', 'been', 'following', 'that', 'vote', 'total', 'with', 'a', 'computer', 'system.', 'Their', 'formula', 'for', 'victory', 'has', 'included', 'their', 'picking', 'up', 'most', 'of', 'Jim', \"Ramsey's\", 'primary', 'vote', 'and', 'polling', 'well', 'in', 'rural', 'counties', 'like', 'Nash', 'and', 'Wilson.', 'All', 'along', 'both', 'candidates', 'have', 'said', 'that', 'the', 'key', 'to', 'winning', 'is', 'getting', 'the', 'people', 'to', 'the', 'ballot', 'box.', 'Although', 'they', 'were', 'worried', 'about', 'the', 'block', 'vote', 'in', 'Durham,', 'the', 'black', 'voters,', 'the', '40%', 'there', 'that', 'voted', 'for', 'Valentine', 'was', 'about', 'what', 'supporters', 'for', 'Valentine', 'expected', 'to', 'receive.', 'Dr.', 'Marks', 'took', 'his', 'oath', 'for', 'the', 'job.', 'He', 'had', 'the', 'magnet', 'school', 'concept', 'on', 'his', 'mind', 'then.', 'It', 'was', 'one', 'way', 'to', 'achieve', 'racial', 'balance', 'and', 'to', 'put', 'some', 'schools', 'that', 'were', 'underutilized', 'to', 'full', 'use', 'in', 'the', 'county.', 'Marks', 'had', 'put', 'that', 'same', 'system', 'to', 'work', 'in', 'Montclair,', 'New', 'Jersey,', 'but', 'the', 'difference', 'here', 'meant', 'thousands', 'more', 'students', 'would', 'be', 'involved.', 'Did', 'you', 'have', 'any', 'idea', 'that', 'it', 'would', 'work', 'or', 'it', 'would', 'not', 'work', 'here', 'in', 'North', 'Carolina?', 'I', 'believe', 'that', 'it', 'would', 'work', 'or', 'I', 'would', 'never', 'have', 'gone', 'out', 'and', 'promoted', 'it', 'and', 'I', 'would', 'not', 'have', 'stood', 'up', 'and', 'said', 'that', 'it', 'will', 'solve', 'our', 'problems.', 'But', 'it', \"wasn't\", 'easy.', 'Marks', 'met', 'with', 'opposition', 'from', 'parents', 'who', 'had', 'already', 'experienced', 'Way', \"County's\", 'magnet', 'school', 'program', 'as', 'well', 'as', 'school', 'board', 'members.', 'It', 'has', 'no', 'long', 'range', 'stable', 'student', 'assignment', 'plan', 'to', 'it.', 'It', 'costs', 'money', 'that', 'we', 'do', 'not', 'have', 'and', 'we', 'are', 'out', 'begging', 'to', 'private', 'industry.', 'Then', 'yes,', 'I', 'am', 'very', 'negative', 'at', 'this', 'point.', 'But', 'after', \"Marks's\", 'total', 'improvement', 'of', 'the', 'old', 'magnet', 'program,', 'the', 'attitude', 'changed', 'and', 'the', '3000', 'applications', 'needed', 'to', 'get', 'the', 'program', 'going', 'has', 'more', 'than', 'doubled', 'today.', 'I', 'offer', 'my', 'thanks', 'to', 'the', 'people', 'in', 'Way', 'County', 'for', 'believing', 'in', 'us.', 'But', 'the', 'road', \"isn't\", 'smooth', 'yet.', 'The', 'North', 'Carolina', 'Association', 'of', 'Educators', 'tells', 'us', 'that', 'about', '250', 'teachers', 'are', 'still', 'unsure', 'of', 'their', 'assignments', 'today', 'and', 'many', 'of', 'them', 'could', 'be', 'assigned', 'to', 'one', 'of', 'the', 'magnet', 'schools', 'in', 'the', 'county.', 'The', 'system', 'has', 'less', 'than', '30', 'days', 'to', 'straighten', 'that', 'out.', 'Presently,', 'Marks', 'is', 'putting', 'the', 'final', 'touches', 'on', 'plans', 'for', 'the', 'upcoming', 'year.', 'Some', 'programs', 'should', 'involve', 'kindergarten', 'students', 'working', 'with', 'computers.', 'The', 'superintendent', 'believes', 'that', 'Way', 'County', 'should', 'not', 'be', 'satisfied', 'with', 'simply', 'a', 'good', 'school', 'system.', 'Marks', 'says', 'local', 'schools', 'will', 'play', 'a', 'major', 'role', 'if', 'industry', 'is', 'to', 'locate', 'here.', 'Public', 'school', 'system', \"can't\", 'be', 'just', 'adequate.', 'It', 'must', 'be', 'superior', 'and', 'we', 'intend', 'to', 'see', 'to', 'it', 'that', 'it', 'is', 'the', 'center', 'of', 'education.', 'Renee', 'McCoy,', 'Action', 'News', '5.', 'across', 'this', 'country', 'and', 'we', 'plan', 'to', 'promote', 'these', 'programs', 'both.', 'I', 'said', 'that', 'regarding', 'the', 'salary', 'only', 'a', 'portion', 'of', 'it', 'will', 'come', 'out', 'of', 'the', 'center', 'of', 'operating.', 'What', 'is', 'your', 'uh', 'Let', 'me', 'just', 'say', 'that', 'I', 'trust', 'he', 'will', 'support', 'him', 'and', 'I', 'know', 'that', 'they', 'will', 'need', 'to', 'talk', 'and', 'others', 'will', 'need', 'to', 'talk', 'but', 'I', 'uh', 'Mickey', 'Michelle', 'is', 'a', 'good', 'Democrat.', \"He's\", 'worked', 'for', 'this', 'party.', \"He's\", 'represented', 'this', 'part', 'in', 'a', 'lot', 'of', 'different', 'ways', 'and', \"I'm\", 'confident', 'that', 'that', 'will', 'all', 'be', 'worked', 'out', 'and', 'he', 'will', 'support', 'the', 'nominee.', 'The', 'posters', 'and', 'signs', 'tell', 'the', 'story.', 'People', 'concerned', 'about', 'the', 'disposal', 'of', 'hazardous', 'waste', 'and', 'they', 'are', 'people', 'who', 'have', 'immediate', 'concerns', 'some', 'from', 'Warren', 'County', 'where', 'the', 'state', 'is', 'planning', 'to', 'dump', 'PCBs', 'that', 'were', 'sprayed', 'alongside', 'state', 'roadways', 'and', 'Chatham', 'County', 'the', 'site', 'of', 'a', 'proposed', 'chemical', 'dump.', 'They', 'are', 'here', 'in', 'Raleigh', 'because', 'the', 'state', 'is', 'drafting', 'regulations', 'to', 'control', 'the', 'disposal', 'of', 'hazardous', 'waste', 'and', 'the', 'people', 'in', 'the', 'catch', 'coalition', 'feel', 'the', 'regulations', 'are', 'too', 'vague.', 'We', 'feel', 'that', 'most', 'companies', 'looking', 'to', 'come', 'into', 'North', 'Carolina', 'would', 'be', 'being', 'treated', 'unfairly', 'if', 'they', 'try', 'to', 'come', 'into', 'North', 'Carolina', 'with', 'rules', 'and', 'regulations', 'that', 'are', 'so', 'vague', 'that', 'they', 'really', \"don't\", 'know', 'what', 'they', 'can', 'or', \"can't\", 'do', 'when', 'they', 'come', 'into', 'this', 'state.', \"It's\", 'not', 'only', 'unfair', 'to', 'them', 'but', \"it's\", 'unfair', 'to', 'us', 'the', 'people', 'that', 'live', 'in', 'North', 'Carolina.', 'The', 'coalition', 'members', 'are', 'afraid', 'the', 'state', 'could', 'be', 'too', 'lenient', 'with', 'industry', 'but', 'Bill', 'Strickland', 'of', 'the', 'health', 'services', 'hazardous', 'waste', 'branch', 'says', 'there', 'is', 'nothing', 'to', 'fear.', 'Any', 'facility', 'that', 'we', 'propose', 'to', 'permit', 'we', 'will', 'have', 'a', 'draft', 'permit', 'and', 'draft', 'permit', 'conditions', 'and', 'we', 'will', 'go', 'to', 'public', 'hearing', 'in', 'the', 'area', 'in', 'which', 'the', 'facility', 'to', 'be', 'located', 'and', 'we', 'will', 'halve', 'those', 'distances.', 'The', 'members', 'of', 'catch', \"don't\", 'find', 'that', 'response', 'to', 'be', 'satisfactory', 'and', 'they', 'are', 'calling', 'for', 'a', 'statewide', 'moratorium', 'to', 'stop', 'any', 'waste', 'permits', 'from', 'being', 'issued', 'but', 'the', 'deadline', 'is', 'fast', 'approaching.', 'This', 'is', 'the', 'third', 'and', 'last', 'hearing', 'on', 'this', 'matter', 'in', 'less', 'than', 'two', 'weeks', 'the', 'committee', 'for', 'health', 'services', 'will', 'look', 'at', 'the', 'proposals', 'listen', 'to', 'some', 'of', 'the', 'public', 'feedback', 'and', 'then', 'adopt', 'the', 'regulations.', 'Bill', 'Draper,', 'Action', 'News', '5.', 'Farmers', 'say', 'that', 'working', 'the', 'land', 'just', \"isn't\", 'profitable', 'anymore.', 'That', 'production', 'costs', 'have', 'soared', 'and', 'taxes', 'are', 'driving', 'them', 'from', 'their', 'land.', \"That's\", 'why', 'Richard', 'Jink', 'says', 'that', 'this', 'tax', 'adjustment', 'that', 'revalues', 'the', 'worth', 'of', 'his', 'farmland', 'is', 'so', 'important.', \"Jink's\", 'is', 'president', 'of', 'the', 'Wake', 'County', 'Farm', 'Bureau', 'and', 'he', 'says', 'this', 'break', 'for', 'farmers', 'beginning', 'in', '1984', 'could', 'keep', 'them', 'in', 'business.', 'Then', 'it', 'allows', 'the', 'farmer', 'to', 'get', 'the', 'true', 'value', 'of', 'what', 'his', 'land', 'is', 'producing', 'and', 'he', 'pays', 'taxes', 'on', 'that', 'land', 'for', 'what', 'it', 'will', 'produce', 'to', 'him', 'rather', 'than', 'what', 'it', 'would', 'bring', 'on', 'the', 'open', 'market', 'which', 'would', 'be', 'impossible', 'for', 'him', 'to', 'have', 'to', 'pay', 'the', 'taxes', 'on.', 'Unfortunately', 'not', 'everyone', 'will', 'like', 'this', 'new', 'plan.', 'When', 'taxes', 'go', 'down', 'on', 'farmland', 'they', 'will', 'go', 'up', 'on', 'homes.', 'A', 'preliminary', 'check', 'by', 'the', 'county', 'tax', 'office', 'indicates', 'that', 'an', 'average', 'homeowner', 'will', 'pay', '27', 'percent', 'more', 'taxes', 'in', '1984', 'than', 'he', 'does', 'today.', 'Taxes', 'on', 'farmland', 'could', 'decrease', 'anywhere', 'from', 'three', 'to', '22', 'percent.', 'County', 'tax', 'supervisor', 'Lonnie', 'Boss', 'says', 'this', 'change', 'is', 'in', 'step', 'with', 'state', 'guidelines.', 'Is', 'this', 'an', 'unfair', 'burden', 'on', 'the', 'homeowner?', 'I', 'think', \"it's\", 'a', 'question', 'of', 'do', 'you', 'want', 'to', 'preserve', 'your', 'farm', 'interest', 'in', 'your', 'county?', 'If', 'you', 'plus', 'market', 'value', 'price', 'along', 'your', 'farms', 'in', 'your', 'county', 'and', 'you', 'consider', 'the', 'income', 'net', 'income', 'that', 'farmers', 'are', 'saving', 'then', \"you've\", 'got', 'to', 'ask', 'yourself', 'can', 'he', 'continue', 'to', 'operate', 'a', 'farm', 'profitably.', 'Jink', 'says', 'this', 'tax', 'is', 'not', 'money', 'in', 'the', 'pockets', 'of', 'the', 'farmers.', 'After', 'all', \"he's\", 'a', 'homeowner', 'too', 'and', 'while', \"he'll\", 'be', 'paying', 'less', 'tax', 'on', 'the', 'land', 'that', 'he', 'farms', \"he'll\", 'be', 'paying', 'more', 'on', 'the', 'home', 'that', 'he', 'owns.', 'Shelley', 'Coffler', 'action', 'news', 'five.', 'All', 'emergency', 'services', 'in', 'Wilson', 'County', 'are', 'dispatched', 'from', 'separate', 'communication', 'systems', 'of', 'their', 'own.', 'That', 'means', 'citizens', 'in', 'need', 'of', 'those', 'services', 'have', 'to', 'sort', 'through', 'several', 'phone', 'numbers', 'before', 'calling', 'the', 'service', 'they', 'need', 'but', 'officials', 'say', 'that', 'will', 'change', 'next', 'summer', 'when', 'a', 'countywide', '911', 'emergency', 'system', 'goes', 'into', 'place.', 'They', 'believe', 'it', 'will', 'mean', 'better', 'service', 'for', 'Wilson', 'County', 'citizens.', \"It's\", 'easier', 'to', 'dial', 'three', 'numbers', 'than', 'it', 'is', 'to', 'look', 'up', 'a', 'number', 'and', 'dial', 'about', 'four', 'different', 'departments.', \"You're\", 'trying', 'to', 'decide', 'whether', 'you', 'need', 'to', 'dial', 'the', 'Wilson', 'Police', 'Department,', 'the', \"Sheriff's\", 'Department,', 'the', 'Fire', 'Department', 'of', 'the', 'Rescue', 'and', 'you', 'can', 'dial', 'this', 'three', 'numbers', 'and', 'get', 'all', 'four', 'departments', 'at', 'one', 'time.', 'The', '911', 'system', 'will', 'use', 'the', 'same', 'number', 'of', 'dispatchers', 'or', 'telecommunicators', 'as', 'they', 'like', 'to', 'be', 'called', 'as', 'the', 'current', 'separate', 'systems.', \"It's\", 'going', 'to', 'be', 'more', 'work,', 'more', 'intense', 'work', 'for', 'the', 'dispatchers.', \"I'm\", 'looking', 'forward', 'to', 'it.', 'The', 'target', 'date', 'for', 'starting', 'the', '911', 'services', 'next', 'July', 'first.', 'The', 'price', 'tag', 'is', 'estimated', 'at', '$250,000.', 'Harold', 'Williams,', 'Action', 'News', '5,', 'Wilson.', 'This', 'little', 'nine-year-old', 'went', 'through', 'my', 'garden,', 'tore', 'my', 'flowers.', 'Under', 'most', 'circumstances', 'this', 'dispute', 'could', 'easily', 'wind', 'up', 'in', 'court.', 'The', 'mediators', 'will', 'make', 'certain', 'each', 'party', 'has', 'an', 'equal', 'chance', 'to', 'present', 'their', 'case', 'and', 'listens', 'to', 'the', \"other's\", 'point', 'of', 'view.', 'The', 'mediators', 'are', 'all', 'volunteers', 'from', 'the', 'community.', 'About', '56%', 'of', 'all', 'cases', 'that', 'the', 'dispute', 'center', 'hears', 'are', 'referrals', 'from', 'the', 'Orange', 'County', 'District', \"Attorney's\", 'Office.', 'Others', 'find', 'out', 'about', 'the', 'center', 'through', 'the', 'police', 'department', 'or', 'on', 'their', 'own.', 'It', 'appears', 'that', 'in', 'any', 'dispute', 'situation', 'the', 'most', 'that', 'both', 'parties', 'want', 'is', 'to', 'reach', 'an', 'agreeable', 'solution', 'and', 'if', 'those', 'terms', 'can', 'be', 'met', \"that's\", 'the', 'most', 'one', 'can', 'ask.', 'Thank', 'you', 'very', 'much', 'Mr.', 'Rowe.', 'Once', 'the', 'agreement', 'is', 'made', 'a', 'settlement', 'is', 'signed', 'and', \"it's\", 'up', 'to', 'the', 'individuals', 'to', 'carry', 'it', 'out', 'but', 'if', 'it', \"isn't\", 'resolved', 'here', 'court', 'could', 'easily', 'be', 'the', 'only', 'answer.', 'In', 'the', 'past', 'year', '1980-81', 'we', 'had', 'a', '95', 'success', 'rate', 'of', 'the', 'mediations', 'that', 'took', 'place', 'here', 'at', 'the', 'center.', \"We're\", 'very', 'pleased', 'by', 'that.', 'The', 'Orange', 'County', 'Center', 'operates', 'with', 'a', 'combination', 'of', 'funds', 'over', '$7,000', 'from', 'the', 'General', 'Assembly', 'and', 'another', '$27,000', 'from', 'the', \"Governor's\", 'Crime', 'Prevention', 'Commission', 'along', 'with', 'an', 'assortment', 'of', 'other', 'donations', 'but', 'how', 'much', 'does', 'it', 'cost', 'the', 'user?', 'Absolutely', 'nothing.', 'That', 'person', 'and', \"we'll\", 'be', 'opening', 'their', 'doors', 'come', 'September', '1', 'hopefully.', 'What', 'I', 'found', 'is', 'that', 'we', 'and', 'I', 'think', 'that', 'we', 'will', 'need', 'some', 'volunteer', 'attorneys', 'to', 'be', 'counseling.', 'There', 'are', 'a', 'lot', 'of', 'cases', 'that', 'people', 'do', 'take', 'the', 'court', 'that', 'could', 'be', 'settled', 'if', 'someone', 'were', 'to', 'just', 'sit', 'down', 'and', 'let', 'the', 'people', 'talk', 'about', 'it', 'and', 'it', 'will', 'save', 'a', 'lot', 'of', 'people', 'even', 'getting', 'warrants', 'much', 'less', 'going', 'to', 'court.', 'Mrs.', 'Fosler', 'and', 'Mrs.', 'Allen', 'thank', 'you', 'very', 'much', 'for', 'coming', 'to', 'the', 'dispute', 'settlement', 'center', 'out', 'of', 'court', 'then', 'in', 'and', 'that', 'we', 'did.', 'Oh', 'shoot', 'I', \"don't\", 'mind', 'coming', 'and', 'talking', 'to', 'them.', 'Well', 'do', 'you', 'think', 'that?', 'Well', \"I'd\", 'be', 'willing', 'to', 'certainly', 'try', 'to', 'try', 'to', 'solve', 'it', 'but', 'I', 'still', 'think', 'that', 'somebody', 'who', 'hits', 'a', 'child', 'who', 'hits', 'a', 'young.', 'It', 'was', 'Friday', 'it', 'was', 'hot', 'in', 'Raleigh', 'we', 'were', 'working', 'the', 'day', 'watch', 'looking', 'for', 'stories', 'at', 'Crabtree', 'Valley', 'Mall', 'all', 'was', 'status', 'quo', 'then', 'we', 'heard', 'it.', 'It', 'looked', 'like', 'a', 'case', 'of', 'bad', 'blood', 'times', 'three', 'under', 'intense', 'questioning', 'these', 'fellas', 'said', \"they're\", 'from', 'an', 'outfit', 'called', 'California', 'live', 'stunts', 'said', 'they', 'do', 'this', 'sort', 'of', 'thing', 'all', 'the', 'time', 'at', 'malls', 'in', 'the', 'movies', 'and', 'even', 'on', 'TV.', \"It's\", 'tough', 'getting', 'the', 'work', 'once', 'once', 'you', 'get', 'the', 'work', 'then', 'your', 'talent', 'comes', 'through', 'and', 'hopefully', \"you'll\", 'be', 'able', 'to', 'make', 'some', 'money', 'at', 'it', 'we', 'do', 'this', 'you', 'know', 'to', 'keep', 'in', 'shape', 'you', 'know', 'travel', 'on', 'the', 'road', 'and', \"it's\", 'fun', 'to', 'travel', 'you', 'know', 'and', 'see', 'everything', 'see', 'the', 'different', 'people', 'different', 'crowd', 'reactions.', 'What', 'we', 'saw', 'one', 'dude', 'was', 'getting', 'the', 'worst', 'of', 'it', 'he', \"didn't\", 'want', 'to', 'press', 'charges', 'though', 'said', 'it', 'was', 'all', 'in', 'a', \"day's\", 'work.', 'You', 'know', 'it', 'seems', 'like', 'after', 'the', 'actor', 'afraid', 'to', 'talk', 'to', 'me', 'sometimes', 'some', 'of', 'the', 'kids', 'are', 'always', 'mostly', 'talking', 'to', 'John', 'because', \"he's\", 'like', 'the', 'good', 'guy', 'the', 'act', 'but', 'uh', \"it's\", 'kind', 'of', 'evened', 'out.', 'Only', 'one', 'thing', 'I', \"couldn't\", 'understand', 'a', 'lot', 'of', 'good', 'citizens', 'watch', 'the', 'melee', 'but', 'nobody', 'tried', 'to', 'stop', 'it', 'we', 'wanted', 'to', 'haul', 'in', 'the', 'biggest', 'ombre', 'for', 'more', 'questioning', 'but', 'he', 'nicks', 'that', 'idea', 'said', 'something', 'about', 'feeling', 'shot', 'after', 'a', 'hard', \"day's\", 'work.', 'Jody', 'Davis', 'action', 'news', 'five.', 'You.', 'Last', 'month', 'Ernestine', 'Miller', 'was', 'in', 'a', 'bind', 'her', 'welfare', 'check', 'was', 'late', 'and', 'she', 'had', 'bills', 'to', 'pay', 'several', 'thousand', 'other', 'welfare', 'recipients', 'were', 'facing', 'the', 'same', 'problem', 'and', 'this', 'month', 'they', 'are', 'in', 'the', 'same', 'bind', 'again', 'the', 'reason', 'the', 'human', 'resources', 'department', 'is', 'converting', 'to', 'a', 'new', 'computerized', 'system', 'and', 'the', 'workers', 'are', 'encountering', 'a', 'few', 'bugs', 'along', 'the', 'way.', 'Well', \"we've\", 'had', 'uh', 'various', 'problems', 'but', 'the', 'main', 'people', \"we've\", 'had', 'affected', 'all', 'along', 'have', 'been', 'either', 'the', 'new', 'recipients', 'for', 'AFDC', 'or', 'A', 'to', 'Family', 'of', 'Dependent', 'Children', 'or', 'P', 'or', 'uh', 'recipients', 'who', 'already', 'own', 'our', 'computer', 'who', 'might', 'have', 'had', 'their', 'address', 'changed', 'or', 'their', 'family', 'might', 'have', 'changed', 'this', 'sort', 'of', 'thing.', 'Human', 'resources', 'has', '30', 'people', 'working', 'overtime', 'this', 'weekend', 'trying', 'to', 'catch', 'up', 'with', 'the', 'backlog.', 'Officials', 'say', 'the', 'majority', 'of', 'recipients', 'about', '67,000', 'of', 'them', 'will', 'get', 'their', 'checks', 'on', 'time', 'but', 'new', 'applicants', 'and', 'those', 'with', 'the', 'change', 'in', 'status', 'will', 'suffer', 'delays.', 'It', 'could', 'range', 'anywhere', 'from', 'a', 'day', 'or', 'two', 'delay', 'there', 'may', 'have', 'been', 'some', 'people', 'who', 'have', 'gone', 'a', 'month', 'without', 'a', 'check', \"that's\", 'what', \"we're\", 'trying', 'to', 'work', 'on', 'now', 'the', 'people', 'that', 'who', 'have', 'gone', 'who', 'may', 'be', 'a', 'month', 'behind', 'the', 'checks', \"we're\", 'asking', 'the', 'counties', 'to', 'go', 'ahead', 'and', 'issue', 'them', 'to', 'them', 'so', 'they', 'will', 'get', 'their', 'money', 'because', 'we', 'realize', \"they're\", 'in', 'bad', 'need', 'of', 'it.', 'Eventually', 'the', 'new', 'system', 'should', 'speed', 'up', 'the', 'processing', 'of', 'claims', 'and', 'check', 'mailing', 'but', 'right', 'now', 'workers', 'have', 'their', 'hands', 'full', 'and', 'officials', 'estimate', 'it', 'will', 'be', 'several', 'more', 'months', 'before', 'they', 'straighten', 'the', 'system', 'out.', 'Bill', 'Draper,', 'Action', 'News', '5.', 'The', 'Democrats', 'came', 'out', 'shooting.', 'They', 'attacked', 'Republican', 'senators', 'Jesse', 'Helms', 'and', 'John', 'East', 'for', 'voting', 'to', 'double', 'the', 'tax', 'on', 'cigarettes.', 'Speaker', 'after', 'speaker', 'accused', 'the', 'Republican', 'senators', 'of', 'abandoning', 'North', 'Carolina.', 'They', 'said', 'supporting', 'such', 'legislation', 'only', 'takes', 'millions', 'of', 'dollars', 'away', 'from', 'North', 'Carolina.', 'Now', 'not', 'only', 'does', 'this', 'strike', 'at', 'our', 'economic', 'base', 'and', 'hurt', 'us', 'economically', 'and', 'almost', 'to', 'the', 'extent', 'that', 'if', 'they', 'keep', 'trying', 'up', 'that', 'real', 'hard', 'as', 'they', 'have', 'been', 'in', 'the', 'past', 'I', 'think', \"they're\", 'going', 'to', 'bring', 'back', 'Hoover', 'days', 'in', 'the', 'Hoover', 'carts.', 'As', 'the', 'Democrats', 'blasted', 'Helms', 'in', 'East', 'they', 'were', 'being', 'watched', 'by', 'this', 'man.', 'Bailey', 'Williamson', 'says', \"he's\", 'a', 'Democrat', 'but', 'today', 'he', 'says', 'he', 'attended', 'this', 'press', 'conference', 'as', 'an', 'agricultural', 'consultant', 'for', 'Jesse', 'Helms.', 'No', \"I'm\", 'not', 'here', 'to', 'spy', \"I've\", 'always', 'been', 'pretty', 'open', 'and', 'what', \"I've\", 'had', 'to', 'say', 'and', 'I', 'do.', 'The', 'Democrats', 'say', 'they', 'want', 'the', 'Republicans', 'to', 'know', 'what', \"they're\", 'up', 'to', 'which', 'is', 'to', 'unseat', 'as', 'many', 'Republican', 'congressmen', 'in', 'November', 'as', 'they', 'can.', 'Already', 'the', 'Democrats', 'are', 'using', 'computer', 'mailings', 'to', 'get', 'their', 'message', 'out', 'to', 'voters.', 'This', 'ad', 'attacking', 'the', 'Helms', 'East', 'cigarette', 'tax', 'vote', 'appeared', 'in', 'state', 'newspapers', 'over', 'the', 'weekend', 'but', 'even', 'with', 'ads', 'like', 'this', 'and', 'computer', 'mailings', 'Democrats', 'say', 'they', 'are', 'being', 'outspent', 'by', 'quote', 'fat', 'cat', 'Republicans.', \"They're\", 'being', 'demagogues', 'they', 'spend', '10', 'times', 'the', 'money', 'all', 'spent', 'in', 'this', 'office', 'and', 'they', 'try', 'to', 'give', 'the', 'impression', 'to', 'the', 'people', 'that', \"they're\", 'the', 'party', 'that', \"hasn't\", 'any', 'money', 'and', \"they're\", 'worth', 'spending', 'all', 'kinds', 'of', 'money', 'and', \"that's\", 'just', 'not', 'true', 'the', 'records', 'are', 'there.', 'Flaherty', 'admits', 'that', 'certain', 'GOP', 'candidates', 'are', 'getting', 'contributions', 'from', 'the', 'National', 'Congressional', 'Club', 'which', 'is', 'well', 'financed.', 'Flaherty', 'predicts', 'that', 'with', 'the', 'congressional', \"club's\", 'help', 'the', 'GOP', 'will', 'pick', 'up', 'at', 'least', 'two', 'congressional', 'seats', 'in', 'November', 'but', 'the', 'Democrats', 'say', 'they', \"won't\", 'give', 'up', 'those', 'seats', 'without', 'a', 'fight.', 'Don', 'Griffin', 'Action', 'News', '5.', \"Here's\", 'the', 'new', 'schedule', 'all', 'secondary', 'schools', 'will', 'hold', 'classes', 'from', 'eight', 'in', 'the', 'morning', 'till', '2', '30', 'in', 'the', 'afternoon', 'all', 'elementary', 'schools', 'except', 'for', 'three', 'in', 'Raleigh', 'will', 'be', 'open', 'from', 'nine', 'in', 'the', 'morning', 'till', 'three', 'in', 'the', 'afternoon', 'and', 'those', 'three', 'magnet', 'schools', 'in', 'Raleigh', 'will', 'start', '15', 'minutes', 'later', 'at', '9', '15.', 'Ministers', 'acknowledge', 'these', 'changes', 'may', 'be', 'on', 'short', 'notice', 'for', 'some', 'parents', 'to', 'adjust', 'their', 'schedules', 'especially', 'if', \"they're\", 'used', 'to', 'driving', 'their', 'kids', 'to', 'school', 'on', 'the', 'way', 'to', 'work', 'and', 'that', 'same', 'point', 'came', 'up', 'tonight', 'before', 'the', 'board', 'vote.', 'Administrators', 'say', \"they'll\", 'be', 'ready', 'to', 'offer', 'an', 'early', 'morning', 'program', 'to', 'those', 'early', 'arrivals', 'at', 'a', 'cost', 'of', 'two', 'dollars', 'per', 'student', 'per', 'week', 'that', \"didn't\", 'sit', 'well', 'though', 'with', 'some', 'board', 'members.', 'The', 'very', 'families', 'that', \"we're\", 'expecting', 'to', 'pay', 'the', 'two', 'dollars', 'a', 'dollar', 'and', 'a', 'half', 'a', 'graduated', 'fee', 'whatever', 'are', 'the', 'ones', 'that', 'usually', 'have', 'the', 'larger', 'families', 'and', 'the', 'least', 'able', 'to', 'afford.', 'I', 'also', 'am', 'concerned', 'about', 'serving', 'breakfast', 'to', 'these', 'children.', 'Superintendent', 'Walter', 'Marks', 'said', 'financial', 'arrangements', 'could', 'be', 'worked', 'out', 'with', 'families', 'who', \"couldn't\", 'afford', 'early', 'morning', 'programs', 'but', 'still', 'wanted', 'to', 'drop', 'their', 'children', 'off', 'ahead', 'of', 'schedule.', 'A', 'new', 'computerized', 'bus', 'route', 'system', 'is', 'the', 'reason', 'for', 'the', 'new', 'school', 'schedule.', 'That', 'new', 'system', 'is', 'cost', 'late.', 'The', 'district', 'will', 'spend', 'two', 'hundred', 'sixty', 'nine', 'thousand', 'dollars', 'this', 'year', 'on', 'it', 'and', 'approximately', 'one', 'hundred', 'thirty', 'thousand', 'dollars', 'in', 'years', 'to', 'come.', 'But', 'administrators', 'argue', \"they'll\", 'end', 'up', 'saving', 'money', 'in', 'the', 'long', 'run', 'by', 'cutting', 'the', 'number', 'of', 'buses', 'they', 'need', 'by', 'thirty.', 'Even', 'though', 'it', 'may', 'be', 'more', 'efficient', 'though', 'some', 'children', 'will', 'still', 'end', 'up', 'spending', 'up', 'to', 'an', 'hour', 'and', 'a', 'half', 'on', 'a', 'bus', 'to', 'get', 'to', 'school.', 'Parents', 'will', 'find', 'out', 'their', \"child's\", 'particular', 'bus', 'routes', 'and', 'pickup', 'times', 'five', 'to', 'ten', 'days', 'before', 'school', 'starts', 'when', 'the', 'district', 'mails', 'out', 'route', 'assignments', 'for', 'the', 'first', 'time', 'ever', 'and', 'Devlin', 'Action', 'News', 'five.', 'The', 'SPCA', 'needs', 'about', 'two', 'thousand', 'dollars', 'a', 'month.', 'This', 'Fayetteville', 'radio', 'station', 'along', 'with', 'three', 'others', 'have', 'been', 'on', 'the', 'air', 'all', 'day', 'asking', 'for', 'money.', \"It's\", 'part', 'of', 'a', 'city', 'wide', 'radio', 'thawing', 'to', 'save', 'the', 'local', 'SPCA', 'which', 'takes', 'in', 'abused,', 'abandoned', 'and', 'unwanted', 'cats', 'and', 'dogs.', 'The', 'SPCA', 'eats', 'up', 'about', 'two', 'thousand', 'dollars', 'a', 'month', 'and', 'without', 'any', 'steady', 'funds', 'coming', 'in', 'from', 'the', 'county', 'or', 'city', 'the', 'shelter', 'has', 'run', 'up', 'a', 'tap', 'of', 'six', 'thousand', 'dollars.', 'Five', 'weeks', 'ago', 'we', 'almost', 'had', 'to', 'close', 'down', 'but', 'then', 'the', \"people's\", 'faith', 'became', 'true', 'anyway', 'and', 'sent', 'us', 'enough', 'money', 'that', 'we', 'could', 'keep', 'on', 'going', 'but', \"we're\", 'still', 'in', 'a', 'hole', 'with', 'very', 'much.', 'If', 'the', 'shelter', 'does', 'close', 'down', 'many', 'of', 'these', 'animals', 'would', 'still', 'be', 'roaming', 'loose', 'dying', 'of', 'starvation', 'or', 'neglected', 'by', 'their', 'owners.', \"We're\", 'trying', 'to', 'do', 'is', 'to', 'help', 'keep', 'the', 'kids', 'and', 'dogs', 'alive', 'and', 'this', 'is', 'about', 'the', 'best', 'way', 'we', 'could', 'do', 'it', 'just', 'go', 'out', 'to', 'the', 'people', 'and', 'see', 'what', 'they', 'can', 'say.', 'But', 'before', 'the', 'radio', 'thawing', 'went', 'off', 'the', 'air', 'this', 'evening', 'the', 'shelter', 'was', 'only', 'about', 'a', 'thousand', 'dollars', 'better', 'off', 'enough', 'to', 'keep', 'it', 'open', 'just', 'two', 'more', 'weeks.', 'Clarence', 'Scott', 'action', 'news', 'five', 'Fayetteville.']\n",
      "[101, 15001, 1999, 2023, 3698, 3465, 3515, 16653, 1012, 2085, 2008, 1005, 1055, 4583, 16653, 2005, 3652, 1996, 9098, 1010, 5814, 1010, 1998, 20083, 1996, 15001, 1012, 1016, 16653, 2110, 4171, 1010, 1998, 1022, 16653, 2976, 4171, 1012, 1996, 2111, 1999, 1996, 9098, 4249, 4374, 2055, 1037, 15519, 1037, 5308, 1012, 5815, 2178, 1022, 16653, 4171, 2097, 2025, 2507, 2068, 1037, 10647, 2062, 1012, 2027, 3571, 2027, 2097, 2203, 2039, 3974, 1037, 2843, 1012, 2027, 1005, 2222, 2896, 20563, 2015, 2065, 1996, 8192, 7659, 2091, 1012, 1998, 1022, 16653, 2064, 1005, 1056, 2393, 2008, 2151, 1012, 2085, 2065, 2027, 2896, 1037, 20563, 1010, 2054, 1005, 1055, 2008, 2079, 2000, 2017, 1029, 2009, 13416, 1996, 3815, 1997, 9098, 1045, 2064, 4982, 1012, 2004, 2017, 2064, 2425, 1010, 3419, 1998, 5070, 5041, 4381, 2024, 2525, 10320, 2037, 6409, 1012, 2197, 2095, 2037, 20563, 2001, 3590, 4631, 1012, 2023, 2095, 2009, 2003, 2382, 1012, 2061, 2027, 2079, 2025, 6160, 1037, 3976, 3623, 2008, 2071, 3288, 2037, 20563, 2091, 2130, 2062, 1012, 2092, 2009, 1005, 1055, 2042, 2183, 2039, 3492, 11328, 1996, 2197, 2184, 2086, 1998, 8381, 2038, 2908, 2091, 2296, 2095, 1012, 2061, 3398, 1010, 1045, 1005, 1049, 3492, 2469, 2009, 2097, 2031, 1037, 3622, 3466, 2006, 2256, 3006, 1012, 2130, 2295, 2009, 2052, 3465, 2068, 2769, 1010, 3419, 1998, 5070, 2020, 3407, 2000, 4060, 2039, 1996, 21628, 2005, 1996, 2047, 9098, 3976, 2490, 2291, 2138, 2009, 2288, 1996, 2231, 2041, 1997, 1996, 9098, 2449, 1012, 2027, 2134, 1005, 1056, 2933, 2006, 2023, 1012, 2178, 1022, 16653, 1999, 2976, 4171, 2097, 2763, 3298, 1996, 3976, 1997, 15001, 1999, 2023, 3698, 2013, 3515, 2000, 4293, 16653, 1012, 2085, 8519, 10197, 2008, 2004, 2116, 2004, 1021, 3867, 1997, 1996, 5610, 2869, 2052, 2644, 9422, 2004, 1037, 2765, 1997, 2008, 3976, 3623, 1012, 2061, 1996, 6617, 2763, 2031, 3492, 2204, 3114, 2000, 2022, 5191, 1012, 3021, 23641, 1010, 2895, 2739, 1019, 1012, 2058, 1996, 2197, 3232, 1997, 2706, 5581, 7167, 2066, 2023, 2028, 2031, 22057, 2039, 2625, 2084, 1037, 3542, 2013, 1996, 15842, 19568, 3199, 1012, 2027, 2035, 3715, 2055, 1002, 1016, 2566, 2154, 1012, 2021, 2065, 2017, 2681, 2115, 2482, 1999, 16428, 2226, 1005, 1055, 5581, 2843, 1010, 2017, 2064, 5987, 2000, 3477, 1002, 1018, 1012, 2753, 2005, 1996, 2034, 2154, 1999, 2146, 2744, 5581, 1998, 2004, 2172, 2004, 1002, 1022, 2566, 2154, 2005, 2460, 2744, 1012, 2028, 2052, 5987, 2449, 2000, 2693, 2006, 2091, 1996, 2346, 1010, 2021, 2038, 2009, 1029, 2258, 1998, 2089, 1010, 4102, 2007, 2258, 1998, 2089, 1997, 1996, 3025, 2095, 1010, 2256, 28258, 2024, 2039, 1012, 2027, 1005, 2128, 2039, 2055, 1021, 3867, 1998, 2664, 2256, 5467, 2005, 1996, 2168, 2558, 2024, 2039, 1037, 2210, 2104, 1017, 3867, 1012, 2061, 2521, 1010, 2061, 2204, 1012, 2021, 2216, 4481, 2123, 1005, 1056, 2202, 2046, 4070, 2047, 5581, 7167, 2008, 2031, 2275, 2039, 4497, 2247, 3199, 4925, 2144, 2238, 1012, 2028, 1997, 2216, 2047, 7167, 1010, 2957, 2057, 12119, 8751, 1010, 3333, 2010, 3976, 2000, 1002, 1015, 2566, 2154, 2076, 1996, 4343, 1997, 2251, 5353, 2074, 2000, 2896, 2449, 1012, 2010, 2843, 8752, 2015, 17528, 3765, 1010, 2021, 2006, 1996, 2779, 2002, 6328, 2055, 2871, 3765, 2566, 2154, 1012, 1996, 2069, 3291, 2003, 2157, 2085, 2003, 2057, 2064, 1005, 1056, 2031, 2151, 15147, 23875, 1996, 2111, 2006, 1996, 2060, 2217, 1997, 1996, 5536, 2008, 2027, 2064, 2380, 2182, 2005, 2625, 2084, 1037, 3446, 2012, 1996, 5536, 1012, 1996, 16428, 2226, 5581, 7167, 9699, 2062, 2084, 1037, 2454, 6363, 1997, 1996, 3199, 1005, 1055, 2561, 1002, 1021, 2454, 5166, 1998, 4584, 2031, 2053, 3488, 1997, 7510, 1996, 3976, 2000, 5566, 2007, 2060, 7167, 1012, 2023, 2843, 1998, 2500, 2066, 2009, 2247, 3199, 2346, 2097, 2574, 2031, 2000, 2485, 2039, 4497, 2000, 2191, 2282, 2005, 1996, 2810, 1997, 1037, 2047, 9271, 1012, 2021, 2320, 2008, 9271, 2003, 3143, 1010, 2097, 2027, 2022, 2583, 2000, 2709, 1029, 2023, 2194, 2758, 2027, 2933, 2000, 20102, 1010, 2021, 2035, 1997, 2068, 2180, 1005, 1056, 2022, 2004, 19590, 1012, 2057, 12119, 8751, 2763, 2180, 1005, 1056, 4558, 2010, 2843, 2000, 16428, 2226, 2127, 2055, 3106, 1998, 2127, 2059, 2002, 3488, 2000, 2562, 2039, 1996, 2971, 1012, 17400, 16075, 1010, 2895, 2739, 1019, 1012, 12932, 6159, 5637, 2003, 2770, 1037, 2092, 1011, 13790, 3049, 2005, 4267, 1005, 1055, 3537, 6458, 6488, 1012, 7703, 4572, 4202, 2038, 5838, 2007, 6475, 2008, 3980, 1996, 17108, 2369, 2216, 8020, 2000, 5637, 1005, 1055, 3049, 1012, 1996, 12932, 2758, 2008, 1005, 1055, 6530, 4770, 1998, 2002, 1005, 1040, 2066, 2000, 2831, 2055, 2054, 2002, 5927, 2004, 1996, 3314, 1012, 4202, 4202, 1010, 2708, 3237, 2961, 1010, 4202, 1005, 1055, 2436, 1997, 3425, 1045, 5121, 2514, 2008, 18549, 2306, 1996, 2533, 2038, 2000, 2022, 2028, 1997, 1996, 5221, 3314, 1012, 2306, 1996, 2627, 2093, 2086, 2057, 1005, 2310, 2018, 2322, 2111, 2000, 12897, 2013, 1996, 6458, 1005, 1055, 2533, 1012, 2023, 2038, 2042, 2144, 1996, 2343, 1005, 1055, 6458, 2001, 2805, 1012, 4202, 4202, 1010, 2708, 3237, 2961, 1010, 4202, 1005, 1055, 2436, 1997, 3425, 2045, 2031, 2042, 2111, 2975, 2138, 1997, 6695, 2005, 2488, 1011, 7079, 5841, 1010, 2138, 2027, 2333, 2041, 1997, 1996, 2221, 1012, 4202, 2038, 2196, 2448, 2005, 2436, 2077, 1012, 2002, 2001, 2805, 2093, 2086, 3283, 2000, 3926, 1996, 2744, 1997, 1037, 6458, 2040, 2001, 3718, 2013, 2436, 1012, 2076, 2010, 2051, 2004, 6458, 1010, 4202, 3755, 5637, 2013, 6317, 2000, 2708, 6317, 1012, 5637, 5295, 2197, 2281, 2000, 4119, 2010, 5795, 1012, 4202, 2758, 2002, 1005, 1055, 2042, 1037, 2204, 6458, 2005, 4267, 2221, 1010, 2021, 6159, 5637, 2041, 18155, 3709, 2032, 1999, 1996, 3522, 2416, 1011, 2126, 3078, 1012, 2750, 2008, 1010, 4202, 2758, 2002, 1005, 2222, 2079, 2488, 1999, 1996, 9046, 2048, 1011, 2158, 19550, 1012, 2119, 5347, 2360, 2027, 1005, 2310, 3856, 2039, 2794, 2490, 2005, 2279, 9857, 1005, 1055, 10428, 2075, 1012, 7157, 3766, 1010, 2895, 2739, 1019, 1010, 4267, 1012, 2396, 3126, 3557, 2003, 1996, 2034, 2773, 2445, 2000, 2167, 3792, 3077, 3533, 7226, 2368, 12266, 1010, 1037, 1522, 1525, 1037, 1520, 1037, 29652, 2023, 2003, 27333, 15141, 2395, 1012, 2009, 1005, 1055, 1037, 5171, 4895, 4502, 7178, 3905, 2346, 1999, 5256, 2221, 1012, 2009, 1005, 1055, 2025, 2004, 2898, 2004, 2116, 4534, 1010, 2009, 1005, 1055, 2440, 1997, 8962, 19990, 1998, 2009, 2038, 24156, 11987, 1012, 1996, 9210, 1997, 3901, 2008, 2444, 2006, 27333, 15141, 2395, 2031, 2042, 8498, 2009, 2004, 1996, 4633, 1998, 4026, 2038, 2579, 2049, 9565, 1012, 2021, 2085, 2027, 2360, 2009, 1005, 1055, 2205, 17047, 2005, 2068, 2000, 3477, 2005, 1996, 2039, 20553, 2361, 2006, 1996, 2395, 1012, 2028, 6319, 1010, 1048, 24335, 2271, 13672, 1010, 2758, 2002, 2356, 1996, 2110, 2533, 1997, 5193, 2000, 2202, 2058, 1996, 6032, 1012, 11089, 4584, 2234, 2041, 1998, 2246, 2012, 27333, 15141, 2395, 2021, 2196, 2409, 1996, 3901, 2065, 2027, 2071, 2393, 2068, 2007, 2037, 3291, 1012, 2008, 2001, 2093, 2086, 3283, 1012, 2027, 2409, 2033, 2027, 1005, 1040, 2131, 2067, 2007, 2033, 1999, 2416, 2000, 2048, 4228, 2420, 1998, 2009, 1005, 1055, 2042, 2055, 4228, 2706, 1998, 2027, 2910, 1005, 1056, 2288, 2067, 2664, 1012, 11089, 3905, 4925, 2961, 2990, 19954, 2758, 2010, 2436, 2081, 1037, 6707, 2011, 2025, 10739, 1996, 3200, 5608, 1012, 2008, 2001, 2044, 2895, 2739, 2716, 1996, 3291, 2000, 2010, 3086, 1012, 19954, 2758, 2002, 2097, 2175, 2067, 2041, 1998, 2298, 2012, 1996, 2346, 2153, 1012, 2057, 1005, 2310, 2042, 2041, 1999, 1996, 2627, 1012, 2017, 2113, 1010, 2017, 2123, 1005, 1056, 3342, 2000, 4638, 2067, 1998, 1045, 3342, 2720, 1012, 13672, 10537, 2009, 2007, 2032, 2195, 2335, 1998, 2057, 1005, 2222, 2175, 2067, 2041, 1998, 2298, 2012, 2009, 1012, 2144, 4739, 1010, 19954, 2758, 1996, 2110, 7711, 1998, 9319, 3905, 4925, 2714, 2000, 27333, 15141, 2395, 1999, 2035, 2028, 3634, 5721, 1012, 2002, 2758, 2004, 1996, 4925, 2024, 2716, 2000, 2010, 3086, 1010, 1996, 2110, 2097, 16157, 2169, 2028, 2005, 2342, 1010, 1996, 2193, 1997, 3901, 5360, 1998, 2129, 2172, 25925, 2009, 2097, 2202, 2000, 3288, 2009, 2039, 2000, 2110, 4781, 1012, 2021, 2008, 4708, 1999, 2993, 2071, 2202, 5109, 1012, 2045, 2024, 8442, 4595, 2661, 1997, 3905, 4925, 1999, 2167, 3792, 1012, 11805, 3660, 1010, 2895, 2739, 1019, 1012, 2023, 2003, 1996, 10475, 2221, 2237, 1997, 1999, 3790, 1010, 2313, 2048, 4595, 3157, 3634, 12021, 1012, 2045, 2024, 2698, 2610, 3738, 2007, 2019, 3098, 2005, 2028, 2062, 1012, 1996, 2610, 2533, 2758, 2009, 3791, 1037, 2047, 2482, 2021, 2009, 1005, 1055, 2042, 2357, 2091, 2011, 1996, 2237, 2604, 2138, 1997, 2976, 5166, 7659, 1998, 1996, 3861, 3475, 1005, 1056, 2172, 16176, 2005, 1999, 3790, 1005, 1055, 2048, 13044, 9322, 1012, 2027, 1005, 2128, 6069, 2763, 2031, 2000, 2022, 2999, 2279, 2095, 2030, 1996, 2095, 2044, 1012, 2228, 2017, 1005, 2222, 2022, 2583, 2000, 2079, 2009, 1029, 11504, 1012, 11504, 1012, 2065, 1996, 7659, 2123, 1005, 1056, 2175, 1999, 1996, 2896, 2085, 2030, 2085, 1012, 1999, 3790, 2097, 4374, 5659, 2048, 1998, 1037, 2431, 4595, 6363, 2013, 6599, 6631, 2023, 10807, 2095, 2008, 1005, 1055, 2091, 2471, 2702, 4595, 6363, 2013, 2048, 2086, 3283, 1012, 2009, 2089, 3362, 1996, 2391, 2008, 2057, 1005, 2222, 2031, 2000, 2175, 2067, 2000, 2073, 2057, 2020, 3188, 2000, 6599, 6631, 2073, 2057, 2018, 2028, 13044, 4744, 1998, 2028, 3626, 2052, 2320, 1037, 2733, 13044, 15373, 1012, 2057, 2085, 2031, 2048, 9322, 1998, 2048, 10604, 2007, 3807, 1037, 2733, 4398, 28972, 1012, 1999, 3790, 2069, 3594, 2976, 6363, 2005, 3007, 17402, 2066, 13044, 9322, 1998, 2610, 3765, 1012, 20566, 1998, 7552, 3934, 2024, 6787, 2007, 2334, 2769, 1012, 2138, 1997, 2008, 1996, 4254, 1997, 2976, 7659, 3475, 1005, 1056, 2108, 2371, 2004, 6118, 1999, 1999, 3790, 2004, 2009, 2003, 1999, 2070, 2060, 3182, 1012, 1996, 2237, 7805, 2758, 1999, 3790, 2003, 27520, 7199, 2092, 1012, 7157, 3766, 2895, 2739, 1019, 1999, 3790, 1012, 2034, 2009, 2001, 1996, 2969, 1011, 2326, 13753, 10216, 1012, 2079, 2009, 4426, 1998, 3828, 1037, 2261, 16653, 1037, 25234, 1012, 2085, 1996, 5356, 19575, 2003, 1996, 6745, 2126, 2000, 3828, 2769, 2004, 2017, 6039, 2039, 1012, 1996, 19575, 2003, 2525, 2109, 2011, 2195, 3514, 3316, 1998, 4654, 22500, 2003, 5815, 2049, 2171, 2000, 1996, 2862, 2279, 3204, 1012, 2182, 1005, 1055, 2129, 1996, 5356, 20438, 2565, 13169, 2017, 2769, 1012, 2034, 2017, 3806, 2039, 2066, 2017, 5373, 2079, 1012, 2043, 1996, 16742, 3310, 2058, 2000, 8145, 3362, 2005, 2115, 5356, 2612, 1997, 2115, 4923, 4003, 1012, 2017, 1005, 2222, 2059, 2131, 1037, 19575, 2763, 3815, 2075, 2000, 1037, 15519, 2030, 2061, 1037, 25234, 1012, 2043, 2057, 2409, 2070, 4654, 22500, 6304, 2054, 2027, 1005, 2128, 1999, 2005, 2279, 3204, 2037, 9597, 2020, 3492, 2172, 1996, 2168, 1012, 2017, 2066, 1996, 2801, 1029, 2469, 1012, 2052, 2017, 3477, 5356, 1029, 1045, 2467, 3477, 5356, 1012, 2009, 1005, 1055, 14057, 2021, 2065, 2045, 1005, 1055, 1037, 19575, 2092, 1997, 2607, 2017, 1005, 1040, 3828, 2274, 3867, 1012, 2027, 1005, 2222, 2507, 2017, 2061, 2172, 2125, 1996, 10216, 3976, 2065, 2017, 3477, 1999, 5356, 2612, 1997, 2478, 2115, 4923, 4003, 1012, 4654, 22500, 16629, 2006, 1996, 2060, 2192, 2024, 2559, 2012, 1996, 20438, 2565, 2007, 1037, 15705, 3239, 1012, 2008, 1005, 1055, 2138, 2272, 2279, 3204, 2027, 1005, 2222, 2022, 7079, 1037, 2210, 2978, 2625, 2005, 2037, 13753, 2021, 2012, 1996, 2168, 2051, 2027, 1005, 2222, 2022, 3228, 2037, 5356, 7079, 6304, 1037, 6937, 19575, 1012, 2009, 1005, 1055, 2000, 2360, 2008, 2057, 2097, 2031, 2062, 2449, 2746, 2046, 2256, 2326, 2276, 2174, 2023, 2003, 1037, 9874, 1997, 2296, 3514, 2194, 1998, 2320, 2035, 10159, 2031, 1996, 2168, 2565, 1045, 2079, 2025, 2156, 2129, 2008, 2003, 2019, 5056, 1012, 2039, 22743, 6732, 1996, 2565, 7755, 1996, 2927, 1997, 1996, 2203, 2005, 3806, 4923, 5329, 1012, 2002, 2758, 6304, 2097, 2776, 2022, 5338, 1037, 7408, 2000, 2224, 2037, 5329, 1998, 1996, 2203, 2765, 2453, 2022, 2008, 1996, 10392, 6081, 2097, 13834, 10436, 2013, 2326, 3703, 10462, 1012, 27562, 4482, 1010, 2895, 2739, 1019, 1010, 15842, 1012, 1045, 1005, 2310, 2699, 2000, 2444, 1996, 2190, 2008, 1045, 2071, 2021, 1045, 4033, 1005, 1056, 2499, 1999, 2539, 2086, 1012, 2005, 2471, 2048, 5109, 15346, 4970, 2038, 2018, 2000, 4385, 2232, 2041, 1037, 2542, 9578, 2006, 7058, 2591, 3036, 11980, 14148, 1998, 4926, 1998, 2416, 2067, 3136, 2031, 2187, 2032, 6135, 9776, 1012, 2085, 2002, 17567, 2007, 3300, 20398, 1998, 4308, 3471, 1012, 2005, 4024, 2002, 13675, 23555, 3215, 1012, 2005, 7691, 2002, 18074, 2005, 1037, 1002, 24125, 11980, 4638, 1998, 2008, 2097, 2203, 2257, 3083, 1012, 1996, 2343, 2056, 2023, 2052, 2025, 2412, 4148, 2043, 2027, 2288, 2006, 2032, 2197, 2095, 1998, 2196, 2077, 2197, 2055, 1996, 2591, 3036, 2518, 1012, 2002, 2056, 2023, 2052, 2196, 4148, 1012, 2111, 1999, 2342, 2052, 2196, 2022, 1010, 2023, 2052, 2196, 4148, 2000, 2032, 2021, 2009, 2003, 6230, 1012, 1998, 2009, 1005, 1055, 6230, 2138, 1999, 3150, 3519, 2787, 2035, 11980, 3572, 2442, 2022, 18043, 8182, 1012, 1996, 2231, 16463, 2040, 2003, 9776, 1010, 2064, 1005, 1056, 2147, 1998, 4709, 2000, 11980, 10504, 1998, 1996, 9181, 2001, 8001, 1999, 3245, 1012, 2054, 2057, 2079, 2003, 6855, 2966, 2592, 1010, 1996, 7863, 9556, 1998, 2918, 1037, 6749, 3247, 2006, 1996, 2976, 9181, 1012, 1999, 2026, 5448, 1996, 9181, 2993, 21245, 2015, 5399, 1012, 2061, 2044, 2086, 1997, 2542, 2006, 1037, 7058, 4638, 5606, 1997, 12455, 2066, 4970, 2024, 4531, 3209, 3402, 4161, 4906, 2000, 2147, 3013, 2125, 2013, 2037, 2069, 3120, 1997, 3318, 1012, 1999, 2233, 1997, 3261, 2062, 2084, 2456, 3572, 2020, 8182, 1999, 2167, 3792, 1010, 28864, 3572, 2020, 12527, 1998, 2076, 1996, 2706, 2090, 2255, 1997, 3261, 2000, 2251, 1997, 3196, 7706, 2692, 3572, 2020, 8182, 1010, 2471, 20143, 2020, 6476, 2041, 1012, 1996, 2069, 2518, 1045, 2064, 2425, 2107, 2019, 3265, 2003, 2008, 1996, 9181, 2003, 2511, 2011, 1996, 2976, 2231, 1012, 2057, 2079, 3046, 2000, 6855, 1996, 4072, 9556, 2061, 2008, 2057, 2064, 2131, 2068, 2000, 2228, 2008, 2027, 1005, 2128, 2005, 4797, 1012, 2021, 2008, 1005, 1055, 1037, 2210, 24831, 2000, 1996, 5606, 1997, 15346, 15775, 13944, 4877, 2040, 2007, 1037, 6049, 3694, 2495, 2442, 5064, 2175, 2067, 2046, 1996, 14877, 1998, 5566, 2007, 5190, 1997, 2060, 12455, 2559, 2005, 1037, 3105, 1012, 4970, 2064, 1005, 1056, 5574, 1996, 3247, 2081, 2011, 1996, 2533, 1997, 2591, 3036, 2021, 2758, 2008, 3138, 2205, 2146, 1998, 2002, 2064, 1005, 1056, 8984, 1037, 5160, 1012, 2023, 2003, 1996, 2087, 6659, 2518, 2008, 1005, 1055, 2412, 3047, 2000, 2033, 1998, 1999, 2755, 2026, 2088, 3092, 1012, 2043, 2026, 4638, 6762, 1045, 2031, 2053, 2126, 1999, 1996, 2088, 1997, 2542, 1012, 16560, 4922, 2895, 2739, 1019, 1012, 2027, 2655, 3209, 2967, 14918, 1998, 4166, 2003, 2054, 2027, 2569, 4697, 1999, 2000, 1996, 12208, 1997, 2116, 2334, 3901, 1012, 2023, 2189, 7738, 2001, 2035, 2112, 1997, 19354, 7178, 1010, 2019, 3060, 3451, 2782, 6485, 2169, 2095, 2011, 1996, 9296, 2103, 6328, 1998, 8640, 2533, 1010, 2167, 3792, 2430, 2118, 1010, 2557, 2276, 1059, 24979, 1998, 13007, 19845, 8043, 1012, 1996, 2334, 3324, 2009, 1005, 1055, 1037, 3382, 2000, 2265, 2125, 2037, 2147, 1998, 2000, 6943, 2039, 2070, 2449, 1012, 1996, 4610, 2003, 2919, 2085, 1998, 2111, 4995, 1005, 1056, 9343, 1010, 2023, 2003, 1037, 9542, 8875, 1012, 2111, 2024, 9343, 1996, 26785, 7971, 6447, 1010, 3806, 1010, 2833, 1010, 1998, 2833, 1012, 2449, 2001, 1037, 2978, 4030, 2651, 2025, 2074, 2005, 1996, 12499, 2021, 2005, 2216, 4855, 14186, 2205, 1012, 2070, 15520, 2009, 2001, 2763, 2138, 2087, 2111, 2020, 2667, 2000, 2424, 1037, 4658, 3962, 2073, 2027, 2071, 2202, 1999, 2035, 1996, 15925, 1998, 4165, 1997, 1996, 2782, 1012, 2054, 2079, 2017, 2066, 2055, 2009, 1029, 1996, 2111, 1010, 1996, 7224, 1010, 10468, 2189, 1010, 1037, 2843, 1997, 2833, 1010, 1037, 2843, 1997, 2396, 1010, 4933, 2066, 2008, 1012, 2023, 2003, 1996, 6400, 2095, 2005, 1996, 2782, 1998, 2169, 2095, 2009, 4152, 7046, 1998, 7046, 1012, 16560, 4922, 1010, 2895, 2739, 1019, 1012, 2009, 2001, 3859, 2044, 1016, 1051, 1005, 5119, 2023, 5027, 2043, 1996, 27664, 17691, 2165, 2125, 2013, 1996, 5951, 2221, 4368, 1998, 13561, 2415, 1010, 1037, 2173, 2073, 2658, 1998, 3076, 21097, 2015, 2064, 9278, 1037, 4946, 1998, 5247, 1996, 5027, 11498, 20760, 3436, 1012, 2004, 1996, 27664, 2165, 2125, 1010, 3239, 9148, 27401, 2229, 2360, 2045, 2001, 2019, 18823, 3110, 2242, 2347, 1005, 1056, 2157, 1012, 3841, 19649, 2758, 1996, 4946, 2069, 4196, 2055, 3998, 2519, 2125, 1996, 2598, 1012, 1045, 2001, 14743, 2026, 13561, 2006, 1037, 3420, 2000, 3857, 2068, 1998, 1996, 4946, 2165, 2125, 2039, 1996, 9271, 1998, 2009, 2196, 2106, 5114, 7998, 1012, 2242, 3047, 1998, 2009, 2790, 2066, 2009, 7569, 2041, 1997, 1996, 3712, 1998, 2306, 3823, 7955, 2318, 2770, 2875, 2049, 3257, 1998, 2087, 1997, 1996, 21097, 2015, 2020, 2058, 2182, 2077, 1996, 5343, 2111, 2288, 2182, 1012, 1998, 2043, 2027, 2288, 2045, 2054, 2027, 2387, 2020, 4109, 1997, 1996, 2235, 4946, 18737, 1999, 1996, 3628, 1010, 3518, 2093, 22185, 4230, 14163, 26065, 3064, 1998, 2048, 2273, 1999, 5213, 5667, 5229, 2021, 4142, 1012, 2027, 2031, 2042, 4453, 2004, 2539, 2095, 2214, 3505, 28352, 17258, 1012, 2002, 1005, 1055, 1999, 13802, 4650, 2012, 5256, 2966, 2415, 1998, 2423, 2095, 2214, 3505, 4078, 15350, 2036, 2012, 5256, 2966, 2021, 1999, 6540, 4650, 1012, 1996, 2048, 2024, 2641, 2047, 2012, 11498, 20760, 3436, 1012, 1996, 2757, 2024, 3581, 10554, 2013, 20533, 1010, 2019, 5281, 21097, 1012, 8963, 5747, 2013, 4572, 4645, 1010, 2002, 2001, 1996, 4405, 1997, 1996, 20164, 4946, 1012, 2019, 8720, 1997, 1996, 2353, 6778, 2038, 2042, 2007, 24850, 14223, 26828, 1997, 2010, 2155, 1012, 1996, 3954, 1997, 1996, 13561, 2415, 1010, 2703, 23201, 4232, 1010, 2001, 3518, 2004, 1996, 4230, 2020, 3344, 2185, 1998, 2004, 27686, 10604, 1998, 2110, 1998, 2334, 2610, 2211, 9033, 26169, 2083, 1996, 3464, 1997, 1996, 27664, 1012, 1996, 2976, 5734, 3447, 2003, 11538, 2054, 3303, 2023, 13800, 5823, 2021, 2157, 2085, 2045, 2024, 2053, 6998, 1998, 1996, 8643, 2089, 2022, 1997, 2210, 2393, 1012, 2028, 1997, 1996, 2048, 8643, 2409, 5343, 3667, 1996, 2069, 2518, 2002, 17749, 2003, 2619, 7491, 2907, 2006, 2057, 1005, 2128, 2183, 2091, 1012, 16560, 4922, 1010, 2895, 2739, 1019, 1012, 2023, 2158, 2038, 2042, 4727, 2005, 1037, 4735, 10048, 1012, 2002, 2064, 1005, 1056, 8984, 2019, 4905, 2061, 1996, 2457, 2038, 2805, 2019, 4905, 2005, 2032, 2021, 2097, 2002, 2131, 1996, 2190, 3860, 2104, 1996, 2375, 1012, 4895, 2278, 2375, 2934, 5879, 11320, 10343, 9589, 2758, 2025, 9352, 1012, 9559, 2411, 2424, 3209, 1999, 1037, 3663, 2073, 1996, 8310, 2027, 4374, 2003, 2025, 2130, 2438, 2000, 3104, 2037, 2436, 8964, 1012, 2079, 2017, 2228, 2008, 1999, 2735, 13531, 1996, 2785, 1997, 6630, 2008, 2027, 2024, 3228, 1029, 1045, 2228, 21268, 2009, 2515, 7461, 1996, 6630, 2011, 2070, 9559, 1012, 11320, 10343, 9589, 9227, 1037, 3189, 2005, 1996, 2137, 3347, 2523, 2006, 4735, 3639, 2578, 2005, 1996, 3532, 1012, 2002, 2758, 2045, 2024, 2025, 2438, 9559, 2000, 5050, 1996, 3532, 1012, 3924, 2008, 2024, 2800, 2342, 2062, 2731, 1010, 10429, 1998, 2490, 2013, 1996, 3095, 2015, 1012, 1999, 2755, 2512, 1011, 7909, 2005, 2578, 2003, 2028, 1997, 1996, 5221, 4436, 2457, 2805, 16214, 2064, 1005, 1056, 2467, 2507, 2037, 2440, 3086, 2000, 27427, 29206, 2102, 3639, 3572, 1012, 2045, 2024, 2070, 9559, 2040, 2097, 2425, 2017, 27467, 18718, 2043, 2017, 3198, 2068, 2008, 2043, 2027, 2024, 2025, 2108, 3825, 1998, 2043, 2070, 2060, 7846, 2024, 7079, 2068, 2005, 2037, 6630, 2027, 2024, 3432, 2025, 2183, 2000, 2022, 2583, 2000, 2079, 2673, 2006, 6852, 1997, 1996, 3532, 7396, 2008, 2453, 2022, 3223, 1012, 2144, 2343, 11531, 1005, 1055, 2047, 2976, 2964, 2038, 2272, 2055, 2976, 3454, 2107, 2004, 2270, 3639, 1998, 2049, 4804, 2038, 2042, 3724, 2067, 2091, 2000, 1996, 2334, 1998, 2110, 2504, 1012, 1037, 7170, 2009, 8440, 1005, 1056, 2042, 2583, 2000, 5047, 1999, 1996, 2627, 1012, 2061, 2054, 1005, 1055, 1996, 5576, 1029, 11320, 10343, 9589, 2758, 1996, 3437, 2003, 2000, 2128, 1011, 9125, 1996, 2976, 2231, 2083, 1037, 2565, 2170, 1996, 2415, 2005, 3639, 2578, 1012, 1996, 2769, 2052, 2145, 3952, 2272, 2013, 1996, 2334, 1998, 2110, 6867, 2021, 1996, 2415, 2052, 2031, 1996, 2373, 2000, 2400, 9844, 5029, 1012, 11805, 3660, 1010, 2895, 2739, 1019, 1012, 5199, 10113, 1005, 1055, 2364, 3049, 4075, 2001, 3492, 4251, 2651, 1999, 6857, 4057, 1012, 3174, 7314, 15371, 1996, 11640, 4214, 5068, 7206, 15906, 2068, 2028, 2197, 2051, 2000, 2191, 2009, 2000, 1996, 14592, 1998, 1996, 3409, 3253, 2060, 2578, 1012, 11805, 3660, 1010, 2895, 2739, 1019, 1012, 2057, 1005, 2128, 5378, 3336, 28032, 3436, 2021, 2057, 4033, 1005, 1056, 2018, 10334, 2202, 2149, 2039, 2006, 2008, 1012, 2057, 1005, 2128, 5378, 12271, 2000, 1996, 14592, 1998, 2057, 1005, 2310, 2018, 1037, 2843, 1997, 2111, 6805, 2012, 2008, 2028, 1012, 2122, 9750, 2111, 2064, 1005, 1056, 2131, 2041, 1012, 2057, 1005, 2128, 2725, 1037, 2843, 1997, 2477, 2066, 4439, 2068, 2000, 1996, 8554, 1998, 1996, 8554, 3667, 2097, 3288, 1996, 10428, 2041, 2000, 2068, 1012, 3262, 2295, 1996, 3110, 2182, 2001, 2673, 2008, 2071, 2022, 2589, 2018, 2042, 2589, 1012, 2085, 2035, 2008, 2001, 2187, 2001, 2074, 1996, 3666, 1998, 3403, 2008, 2052, 2272, 3892, 1012, 2012, 10113, 4075, 1999, 9296, 2009, 2001, 2172, 1996, 2168, 3496, 1012, 7314, 2478, 1996, 2168, 5656, 8182, 14303, 4395, 2028, 2062, 2051, 1012, 1998, 2073, 2001, 1996, 4018, 1999, 2035, 2023, 1029, 2041, 18524, 1997, 2607, 2005, 1996, 2261, 2197, 9062, 2847, 1012, 4776, 24389, 1010, 2895, 2739, 1019, 1012, 10113, 6793, 2031, 10173, 2008, 2002, 2052, 2663, 2023, 2679, 2011, 1037, 2210, 2058, 4868, 1003, 1997, 1996, 3789, 1012, 2802, 1996, 3944, 3049, 2111, 2182, 2031, 2042, 2206, 2008, 3789, 2561, 2007, 1037, 3274, 2291, 1012, 2037, 5675, 2005, 3377, 2038, 2443, 2037, 8130, 2039, 2087, 1997, 3958, 15092, 1005, 1055, 3078, 3789, 1998, 17888, 2092, 1999, 3541, 5721, 2066, 10594, 1998, 4267, 1012, 2035, 2247, 2119, 5347, 2031, 2056, 2008, 1996, 3145, 2000, 3045, 2003, 2893, 1996, 2111, 2000, 1996, 10428, 3482, 1012, 2348, 2027, 2020, 5191, 2055, 1996, 3796, 3789, 1999, 9296, 1010, 1996, 2304, 7206, 1010, 1996, 2871, 1003, 2045, 2008, 5444, 2005, 10113, 2001, 2055, 2054, 6793, 2005, 10113, 3517, 2000, 4374, 1012, 2852, 1012, 6017, 2165, 2010, 11292, 2005, 1996, 3105, 1012, 2002, 2018, 1996, 16853, 2082, 4145, 2006, 2010, 2568, 2059, 1012, 2009, 2001, 2028, 2126, 2000, 6162, 5762, 5703, 1998, 2000, 2404, 2070, 2816, 2008, 2020, 2104, 21823, 28931, 2000, 2440, 2224, 1999, 1996, 2221, 1012, 6017, 2018, 2404, 2008, 2168, 2291, 2000, 2147, 1999, 18318, 20464, 11215, 1010, 2047, 3933, 1010, 2021, 1996, 4489, 2182, 3214, 5190, 2062, 2493, 2052, 2022, 2920, 1012, 2106, 2017, 2031, 2151, 2801, 2008, 2009, 2052, 2147, 2030, 2009, 2052, 2025, 2147, 2182, 1999, 2167, 3792, 1029, 1045, 2903, 2008, 2009, 2052, 2147, 2030, 1045, 2052, 2196, 2031, 2908, 2041, 1998, 3755, 2009, 1998, 1045, 2052, 2025, 2031, 2768, 2039, 1998, 2056, 2008, 2009, 2097, 9611, 2256, 3471, 1012, 2021, 2009, 2347, 1005, 1056, 3733, 1012, 6017, 2777, 2007, 4559, 2013, 3008, 2040, 2018, 2525, 5281, 2126, 2221, 1005, 1055, 16853, 2082, 2565, 2004, 2092, 2004, 2082, 2604, 2372, 1012, 2009, 2038, 2053, 2146, 2846, 6540, 3076, 8775, 2933, 2000, 2009, 1012, 2009, 5366, 2769, 2008, 2057, 2079, 2025, 2031, 1998, 2057, 2024, 2041, 12858, 2000, 2797, 3068, 1012, 2059, 2748, 1010, 1045, 2572, 2200, 4997, 2012, 2023, 2391, 1012, 2021, 2044, 6017, 1005, 1055, 2561, 7620, 1997, 1996, 2214, 16853, 2565, 1010, 1996, 7729, 2904, 1998, 1996, 11910, 5097, 2734, 2000, 2131, 1996, 2565, 2183, 2038, 2062, 2084, 11515, 2651, 1012, 1045, 3749, 2026, 4283, 2000, 1996, 2111, 1999, 2126, 2221, 2005, 8929, 1999, 2149, 1012, 2021, 1996, 2346, 3475, 1005, 1056, 5744, 2664, 1012, 1996, 2167, 3792, 2523, 1997, 19156, 4136, 2149, 2008, 2055, 5539, 5089, 2024, 2145, 12422, 1997, 2037, 14799, 2651, 1998, 2116, 1997, 2068, 2071, 2022, 4137, 2000, 2028, 1997, 1996, 16853, 2816, 1999, 1996, 2221, 1012, 1996, 2291, 2038, 2625, 2084, 2382, 2420, 2000, 28568, 2008, 2041, 1012, 12825, 1010, 6017, 2003, 5128, 1996, 2345, 12817, 2006, 3488, 2005, 1996, 9046, 2095, 1012, 2070, 3454, 2323, 9125, 11793, 2493, 2551, 2007, 7588, 1012, 1996, 9133, 7164, 2008, 2126, 2221, 2323, 2025, 2022, 8510, 2007, 3432, 1037, 2204, 2082, 2291, 1012, 6017, 2758, 2334, 2816, 2097, 2377, 1037, 2350, 2535, 2065, 3068, 2003, 2000, 12453, 2182, 1012, 2270, 2082, 2291, 2064, 1005, 1056, 2022, 2074, 11706, 1012, 2009, 2442, 2022, 6020, 1998, 2057, 13566, 2000, 2156, 2000, 2009, 2008, 2009, 2003, 1996, 2415, 1997, 2495, 1012, 17400, 16075, 1010, 2895, 2739, 1019, 1012, 2408, 2023, 2406, 1998, 2057, 2933, 2000, 5326, 2122, 3454, 2119, 1012, 1045, 2056, 2008, 4953, 1996, 10300, 2069, 1037, 4664, 1997, 2009, 2097, 2272, 2041, 1997, 1996, 2415, 1997, 4082, 1012, 2054, 2003, 2115, 7910, 2292, 2033, 2074, 2360, 2008, 1045, 3404, 2002, 2097, 2490, 2032, 1998, 1045, 2113, 2008, 2027, 2097, 2342, 2000, 2831, 1998, 2500, 2097, 2342, 2000, 2831, 2021, 1045, 7910, 11021, 9393, 2003, 1037, 2204, 7672, 1012, 2002, 1005, 1055, 2499, 2005, 2023, 2283, 1012, 2002, 1005, 1055, 3421, 2023, 2112, 1999, 1037, 2843, 1997, 2367, 3971, 1998, 1045, 1005, 1049, 9657, 2008, 2008, 2097, 2035, 2022, 2499, 2041, 1998, 2002, 2097, 2490, 1996, 9773, 1012, 1996, 14921, 1998, 5751, 2425, 1996, 2466, 1012, 2111, 4986, 2055, 1996, 13148, 1997, 17760, 5949, 1998, 2027, 2024, 2111, 2040, 2031, 6234, 5936, 2070, 2013, 6031, 2221, 2073, 1996, 2110, 2003, 4041, 2000, 15653, 7473, 5910, 2008, 2020, 25401, 4077, 2110, 18799, 2015, 1998, 16727, 2221, 1996, 2609, 1997, 1037, 3818, 5072, 15653, 1012, 2027, 2024, 2182, 1999, 15842, 2138, 1996, 2110, 2003, 21168, 7040, 2000, 2491, 1996, 13148, 1997, 17760, 5949, 1998, 1996, 2111, 1999, 1996, 4608, 6056, 2514, 1996, 7040, 2024, 2205, 13727, 1012, 2057, 2514, 2008, 2087, 3316, 2559, 2000, 2272, 2046, 2167, 3792, 2052, 2022, 2108, 5845, 15571, 2135, 2065, 2027, 3046, 2000, 2272, 2046, 2167, 3792, 2007, 3513, 1998, 7040, 2008, 2024, 2061, 13727, 2008, 2027, 2428, 2123, 1005, 1056, 2113, 2054, 2027, 2064, 2030, 2064, 1005, 1056, 2079, 2043, 2027, 2272, 2046, 2023, 2110, 1012, 2009, 1005, 1055, 2025, 2069, 15571, 2000, 2068, 2021, 2009, 1005, 1055, 15571, 2000, 2149, 1996, 2111, 2008, 2444, 1999, 2167, 3792, 1012, 1996, 6056, 2372, 2024, 4452, 1996, 2110, 2071, 2022, 2205, 18798, 11638, 2007, 3068, 2021, 3021, 2358, 11285, 3122, 1997, 1996, 2740, 2578, 17760, 5949, 3589, 2758, 2045, 2003, 2498, 2000, 3571, 1012, 2151, 4322, 2008, 2057, 16599, 2000, 9146, 2057, 2097, 2031, 1037, 4433, 9146, 1998, 4433, 9146, 3785, 1998, 2057, 2097, 2175, 2000, 2270, 4994, 1999, 1996, 2181, 1999, 2029, 1996, 4322, 2000, 2022, 2284, 1998, 2057, 2097, 11085, 3726, 2216, 12103, 1012, 1996, 2372, 1997, 4608, 2123, 1005, 1056, 2424, 2008, 3433, 2000, 2022, 23045, 1998, 2027, 2024, 4214, 2005, 1037, 13486, 26821, 24390, 2000, 2644, 2151, 5949, 14245, 2013, 2108, 3843, 2021, 1996, 15117, 2003, 3435, 8455, 1012, 2023, 2003, 1996, 2353, 1998, 2197, 4994, 2006, 2023, 3043, 1999, 2625, 2084, 2048, 3134, 1996, 2837, 2005, 2740, 2578, 2097, 2298, 2012, 1996, 10340, 4952, 2000, 2070, 1997, 1996, 2270, 12247, 1998, 2059, 11092, 1996, 7040, 1012, 3021, 23641, 1010, 2895, 2739, 1019, 1012, 6617, 2360, 2008, 2551, 1996, 2455, 2074, 3475, 1005, 1056, 15282, 4902, 1012, 2008, 2537, 5366, 2031, 29127, 1998, 7773, 2024, 4439, 2068, 2013, 2037, 2455, 1012, 2008, 1005, 1055, 2339, 2957, 9743, 2243, 2758, 2008, 2023, 4171, 19037, 2008, 7065, 2389, 15808, 1996, 4276, 1997, 2010, 16439, 2003, 2061, 2590, 1012, 9743, 2243, 1005, 1055, 2003, 2343, 1997, 1996, 5256, 2221, 3888, 4879, 1998, 2002, 2758, 2023, 3338, 2005, 6617, 2927, 1999, 3118, 2071, 2562, 2068, 1999, 2449, 1012, 2059, 2009, 4473, 1996, 7500, 2000, 2131, 1996, 2995, 3643, 1997, 2054, 2010, 2455, 2003, 5155, 1998, 2002, 12778, 7773, 2006, 2008, 2455, 2005, 2054, 2009, 2097, 3965, 2000, 2032, 2738, 2084, 2054, 2009, 2052, 3288, 2006, 1996, 2330, 3006, 2029, 2052, 2022, 5263, 2005, 2032, 2000, 2031, 2000, 3477, 1996, 7773, 2006, 1012, 6854, 2025, 3071, 2097, 2066, 2023, 2047, 2933, 1012, 2043, 7773, 2175, 2091, 2006, 16439, 2027, 2097, 2175, 2039, 2006, 5014, 1012, 1037, 8824, 4638, 2011, 1996, 2221, 4171, 2436, 7127, 2008, 2019, 2779, 2188, 12384, 2121, 2097, 3477, 2676, 3867, 2062, 7773, 1999, 3118, 2084, 2002, 2515, 2651, 1012, 7773, 2006, 16439, 2071, 9885, 5973, 2013, 2093, 2000, 2570, 3867, 1012, 2221, 4171, 12366, 8840, 23500, 2063, 5795, 2758, 2023, 2689, 2003, 1999, 3357, 2007, 2110, 11594, 1012, 2003, 2023, 2019, 15571, 10859, 2006, 1996, 2188, 12384, 2121, 1029, 1045, 2228, 2009, 1005, 1055, 1037, 3160, 1997, 2079, 2017, 2215, 2000, 7969, 2115, 3888, 3037, 1999, 2115, 2221, 1029, 2065, 2017, 4606, 3006, 3643, 3976, 2247, 2115, 8623, 1999, 2115, 2221, 1998, 2017, 5136, 1996, 3318, 5658, 3318, 2008, 6617, 2024, 7494, 2059, 2017, 1005, 2310, 2288, 2000, 3198, 4426, 2064, 2002, 3613, 2000, 5452, 1037, 3888, 5618, 8231, 1012, 9743, 2243, 2758, 2023, 4171, 2003, 2025, 2769, 1999, 1996, 10306, 1997, 1996, 6617, 1012, 2044, 2035, 2002, 1005, 1055, 1037, 2188, 12384, 2121, 2205, 1998, 2096, 2002, 1005, 2222, 2022, 7079, 2625, 4171, 2006, 1996, 2455, 2008, 2002, 8623, 2002, 1005, 2222, 2022, 7079, 2062, 2006, 1996, 2188, 2008, 2002, 8617, 1012, 15828, 2522, 18142, 2099, 2895, 2739, 2274, 1012, 2035, 5057, 2578, 1999, 4267, 2221, 2024, 14501, 2013, 3584, 4807, 3001, 1997, 2037, 2219, 1012, 2008, 2965, 4480, 1999, 2342, 1997, 2216, 2578, 2031, 2000, 4066, 2083, 2195, 3042, 3616, 2077, 4214, 1996, 2326, 2027, 2342, 2021, 4584, 2360, 2008, 2097, 2689, 2279, 2621, 2043, 1037, 2221, 22517, 19989, 5057, 2291, 3632, 2046, 2173, 1012, 2027, 2903, 2009, 2097, 2812, 2488, 2326, 2005, 4267, 2221, 4480, 1012, 2009, 1005, 1055, 6082, 2000, 13764, 2093, 3616, 2084, 2009, 2003, 2000, 2298, 2039, 1037, 2193, 1998, 13764, 2055, 2176, 2367, 7640, 1012, 2017, 1005, 2128, 2667, 2000, 5630, 3251, 2017, 2342, 2000, 13764, 1996, 4267, 2610, 2533, 1010, 1996, 6458, 1005, 1055, 2533, 1010, 1996, 2543, 2533, 1997, 1996, 5343, 1998, 2017, 2064, 13764, 2023, 2093, 3616, 1998, 2131, 2035, 2176, 7640, 2012, 2028, 2051, 1012, 1996, 19989, 2291, 2097, 2224, 1996, 2168, 2193, 1997, 18365, 2545, 2030, 18126, 23041, 5555, 6591, 2004, 2027, 2066, 2000, 2022, 2170, 2004, 1996, 2783, 3584, 3001, 1012, 2009, 1005, 1055, 2183, 2000, 2022, 2062, 2147, 1010, 2062, 6387, 2147, 2005, 1996, 18365, 2545, 1012, 1045, 1005, 1049, 2559, 2830, 2000, 2009, 1012, 1996, 4539, 3058, 2005, 3225, 1996, 19989, 2578, 2279, 2251, 2034, 1012, 1996, 3976, 6415, 2003, 4358, 2012, 1002, 5539, 1010, 2199, 1012, 7157, 3766, 1010, 2895, 2739, 1019, 1010, 4267, 1012, 2023, 2210, 3157, 1011, 2095, 1011, 2214, 2253, 2083, 2026, 3871, 1010, 9538, 2026, 4870, 1012, 2104, 2087, 6214, 2023, 7593, 2071, 4089, 3612, 2039, 1999, 2457, 1012, 1996, 2865, 6591, 2097, 2191, 3056, 2169, 2283, 2038, 2019, 5020, 3382, 2000, 2556, 2037, 2553, 1998, 4952, 2015, 2000, 1996, 2060, 1005, 1055, 2391, 1997, 3193, 1012, 1996, 2865, 6591, 2024, 2035, 7314, 2013, 1996, 2451, 1012, 2055, 5179, 1003, 1997, 2035, 3572, 2008, 1996, 7593, 2415, 14994, 2024, 6523, 7941, 2015, 2013, 1996, 4589, 2221, 2212, 4905, 1005, 1055, 2436, 1012, 2500, 2424, 2041, 2055, 1996, 2415, 2083, 1996, 2610, 2533, 2030, 2006, 2037, 2219, 1012, 2009, 3544, 2008, 1999, 2151, 7593, 3663, 1996, 2087, 2008, 2119, 4243, 2215, 2003, 2000, 3362, 2019, 5993, 3085, 5576, 1998, 2065, 2216, 3408, 2064, 2022, 2777, 2008, 1005, 1055, 1996, 2087, 2028, 2064, 3198, 1012, 4067, 2017, 2200, 2172, 2720, 1012, 20538, 1012, 2320, 1996, 3820, 2003, 2081, 1037, 4093, 2003, 2772, 1998, 2009, 1005, 1055, 2039, 2000, 1996, 3633, 2000, 4287, 2009, 2041, 2021, 2065, 2009, 3475, 1005, 1056, 10395, 2182, 2457, 2071, 4089, 2022, 1996, 2069, 3437, 1012, 1999, 1996, 2627, 2095, 3150, 1011, 6282, 2057, 2018, 1037, 5345, 3112, 3446, 1997, 1996, 26435, 2015, 2008, 2165, 2173, 2182, 2012, 1996, 2415, 1012, 2057, 1005, 2128, 2200, 7537, 2011, 2008, 1012, 1996, 4589, 2221, 2415, 5748, 2007, 1037, 5257, 1997, 5029, 2058, 1002, 1021, 1010, 2199, 2013, 1996, 2236, 3320, 1998, 2178, 1002, 2676, 1010, 2199, 2013, 1996, 3099, 1005, 1055, 4126, 9740, 3222, 2247, 2007, 2019, 26285, 1997, 2060, 11440, 2021, 2129, 2172, 2515, 2009, 3465, 1996, 5310, 1029, 7078, 2498, 1012, 2008, 2711, 1998, 2057, 1005, 2222, 2022, 3098, 2037, 4303, 2272, 2244, 1015, 11504, 1012, 2054, 1045, 2179, 2003, 2008, 2057, 1998, 1045, 2228, 2008, 2057, 2097, 2342, 2070, 6951, 16214, 2000, 2022, 17041, 1012, 2045, 2024, 1037, 2843, 1997, 3572, 2008, 2111, 2079, 2202, 1996, 2457, 2008, 2071, 2022, 3876, 2065, 2619, 2020, 2000, 2074, 4133, 2091, 1998, 2292, 1996, 2111, 2831, 2055, 2009, 1998, 2009, 2097, 3828, 1037, 2843, 1997, 2111, 2130, 2893, 10943, 2015, 2172, 2625, 2183, 2000, 2457, 1012, 3680, 1012, 1042, 2891, 3917, 1998, 3680, 1012, 5297, 4067, 2017, 2200, 2172, 2005, 2746, 2000, 1996, 7593, 4093, 2415, 2041, 1997, 2457, 2059, 1999, 1998, 2008, 2057, 2106, 1012, 2821, 5607, 1045, 2123, 1005, 1056, 2568, 2746, 1998, 3331, 2000, 2068, 1012, 2092, 2079, 2017, 2228, 2008, 1029, 2092, 1045, 1005, 1040, 2022, 5627, 2000, 5121, 3046, 2000, 3046, 2000, 9611, 2009, 2021, 1045, 2145, 2228, 2008, 8307, 2040, 4978, 1037, 2775, 2040, 4978, 1037, 2402, 1012, 2009, 2001, 5958, 2009, 2001, 2980, 1999, 15842, 2057, 2020, 2551, 1996, 2154, 3422, 2559, 2005, 3441, 2012, 18081, 13334, 3028, 6670, 2035, 2001, 3570, 22035, 2059, 2057, 2657, 2009, 1012, 2009, 2246, 2066, 1037, 2553, 1997, 2919, 2668, 2335, 2093, 2104, 6387, 11242, 2122, 3062, 3022, 2056, 2027, 1005, 2128, 2013, 2019, 11018, 2170, 2662, 2444, 28465, 2056, 2027, 2079, 2023, 4066, 1997, 2518, 2035, 1996, 2051, 2012, 25943, 1999, 1996, 5691, 1998, 2130, 2006, 2694, 1012, 2009, 1005, 1055, 7823, 2893, 1996, 2147, 2320, 2320, 2017, 2131, 1996, 2147, 2059, 2115, 5848, 3310, 2083, 1998, 11504, 2017, 1005, 2222, 2022, 2583, 2000, 2191, 2070, 2769, 2012, 2009, 2057, 2079, 2023, 2017, 2113, 2000, 2562, 1999, 4338, 2017, 2113, 3604, 2006, 1996, 2346, 1998, 2009, 1005, 1055, 4569, 2000, 3604, 2017, 2113, 1998, 2156, 2673, 2156, 1996, 2367, 2111, 2367, 4306, 9597, 1012, 2054, 2057, 2387, 2028, 12043, 2001, 2893, 1996, 5409, 1997, 2009, 2002, 2134, 1005, 1056, 2215, 2000, 2811, 5571, 2295, 2056, 2009, 2001, 2035, 1999, 1037, 2154, 1005, 1055, 2147, 1012, 2017, 2113, 2009, 3849, 2066, 2044, 1996, 3364, 4452, 2000, 2831, 2000, 2033, 2823, 2070, 1997, 1996, 4268, 2024, 2467, 3262, 3331, 2000, 2198, 2138, 2002, 1005, 1055, 2066, 1996, 2204, 3124, 1996, 2552, 2021, 7910, 2009, 1005, 1055, 2785, 1997, 2130, 2098, 2041, 1012, 2069, 2028, 2518, 1045, 2481, 1005, 1056, 3305, 1037, 2843, 1997, 2204, 4480, 3422, 1996, 27868, 2021, 6343, 2699, 2000, 2644, 2009, 2057, 2359, 2000, 14655, 1999, 1996, 5221, 18168, 13578, 2005, 2062, 11242, 2021, 2002, 4172, 2015, 2008, 2801, 2056, 2242, 2055, 3110, 2915, 2044, 1037, 2524, 2154, 1005, 1055, 2147, 1012, 27562, 4482, 2895, 2739, 2274, 1012, 2017, 1012, 2197, 3204, 8471, 3170, 4679, 2001, 1999, 1037, 14187, 2014, 7574, 4638, 2001, 2397, 1998, 2016, 2018, 8236, 2000, 3477, 2195, 4595, 2060, 7574, 15991, 2020, 5307, 1996, 2168, 3291, 1998, 2023, 3204, 2027, 2024, 1999, 1996, 2168, 14187, 2153, 1996, 3114, 1996, 2529, 4219, 2533, 2003, 16401, 2000, 1037, 2047, 3274, 3550, 2291, 1998, 1996, 3667, 2024, 8087, 2075, 1037, 2261, 12883, 2247, 1996, 2126, 1012, 2092, 2057, 1005, 2310, 2018, 7910, 2536, 3471, 2021, 1996, 2364, 2111, 2057, 1005, 2310, 2018, 5360, 2035, 2247, 2031, 2042, 2593, 1996, 2047, 15991, 2005, 21358, 16409, 2030, 1037, 2000, 2155, 1997, 7790, 2336, 2030, 1052, 2030, 7910, 15991, 2040, 2525, 2219, 2256, 3274, 2040, 2453, 2031, 2018, 2037, 4769, 2904, 2030, 2037, 2155, 2453, 2031, 2904, 2023, 4066, 1997, 2518, 1012, 2529, 4219, 2038, 2382, 2111, 2551, 12253, 2023, 5353, 2667, 2000, 4608, 2039, 2007, 1996, 2067, 21197, 1012, 4584, 2360, 1996, 3484, 1997, 15991, 2055, 6163, 1010, 2199, 1997, 2068, 2097, 2131, 2037, 14148, 2006, 2051, 2021, 2047, 17362, 1998, 2216, 2007, 1996, 2689, 1999, 3570, 2097, 9015, 14350, 1012, 2009, 2071, 2846, 5973, 2013, 1037, 2154, 2030, 2048, 8536, 2045, 2089, 2031, 2042, 2070, 2111, 2040, 2031, 2908, 1037, 3204, 2302, 1037, 4638, 2008, 1005, 1055, 2054, 2057, 1005, 2128, 2667, 2000, 2147, 2006, 2085, 1996, 2111, 2008, 2040, 2031, 2908, 2040, 2089, 2022, 1037, 3204, 2369, 1996, 14148, 2057, 1005, 2128, 4851, 1996, 5721, 2000, 2175, 3805, 1998, 3277, 2068, 2000, 2068, 2061, 2027, 2097, 2131, 2037, 2769, 2138, 2057, 5382, 2027, 1005, 2128, 1999, 2919, 2342, 1997, 2009, 1012, 2776, 1996, 2047, 2291, 2323, 3177, 2039, 1996, 6364, 1997, 4447, 1998, 4638, 5653, 2075, 2021, 2157, 2085, 3667, 2031, 2037, 2398, 2440, 1998, 4584, 10197, 2009, 2097, 2022, 2195, 2062, 2706, 2077, 2027, 28568, 1996, 2291, 2041, 1012, 3021, 23641, 1010, 2895, 2739, 1019, 1012, 1996, 8037, 2234, 2041, 5008, 1012, 2027, 4457, 3951, 10153, 7627, 16254, 2015, 1998, 2198, 2264, 2005, 6830, 2000, 3313, 1996, 4171, 2006, 15001, 1012, 5882, 2044, 5882, 5496, 1996, 3951, 10153, 1997, 19816, 2167, 3792, 1012, 2027, 2056, 4637, 2107, 6094, 2069, 3138, 8817, 1997, 6363, 2185, 2013, 2167, 3792, 1012, 2085, 2025, 2069, 2515, 2023, 4894, 2012, 2256, 3171, 2918, 1998, 3480, 2149, 15318, 1998, 2471, 2000, 1996, 6698, 2008, 2065, 2027, 2562, 2667, 2039, 2008, 2613, 2524, 2004, 2027, 2031, 2042, 1999, 1996, 2627, 1045, 2228, 2027, 1005, 2128, 2183, 2000, 3288, 2067, 17443, 2420, 1999, 1996, 17443, 25568, 1012, 2004, 1996, 8037, 18461, 16254, 2015, 1999, 2264, 2027, 2020, 2108, 3427, 2011, 2023, 2158, 1012, 8925, 14333, 2758, 2002, 1005, 1055, 1037, 7672, 2021, 2651, 2002, 2758, 2002, 3230, 2023, 2811, 3034, 2004, 2019, 4910, 8930, 2005, 7627, 16254, 2015, 1012, 2053, 1045, 1005, 1049, 2025, 2182, 2000, 8645, 1045, 1005, 2310, 2467, 2042, 3492, 2330, 1998, 2054, 1045, 1005, 2310, 2018, 2000, 2360, 1998, 1045, 2079, 1012, 1996, 8037, 2360, 2027, 2215, 1996, 10643, 2000, 2113, 2054, 2027, 1005, 2128, 2039, 2000, 2029, 2003, 2000, 4895, 17310, 2102, 2004, 2116, 3951, 3519, 3549, 1999, 2281, 2004, 2027, 2064, 1012, 2525, 1996, 8037, 2024, 2478, 3274, 5653, 8613, 2000, 2131, 2037, 4471, 2041, 2000, 7206, 1012, 2023, 4748, 7866, 1996, 16254, 2015, 2264, 9907, 4171, 3789, 2596, 1999, 2110, 6399, 2058, 1996, 5353, 2021, 2130, 2007, 14997, 2066, 2023, 1998, 3274, 5653, 8613, 8037, 2360, 2027, 2024, 2108, 21100, 11837, 2102, 2011, 14686, 6638, 4937, 10643, 1012, 2027, 1005, 2128, 2108, 17183, 23692, 22967, 2027, 5247, 2184, 2335, 1996, 2769, 2035, 2985, 1999, 2023, 2436, 1998, 2027, 3046, 2000, 2507, 1996, 8605, 2000, 1996, 2111, 2008, 2027, 1005, 2128, 1996, 2283, 2008, 8440, 1005, 1056, 2151, 2769, 1998, 2027, 1005, 2128, 4276, 5938, 2035, 7957, 1997, 2769, 1998, 2008, 1005, 1055, 2074, 2025, 2995, 1996, 2636, 2024, 2045, 1012, 13109, 4430, 15010, 14456, 2008, 3056, 2175, 2361, 5347, 2024, 2893, 5857, 2013, 1996, 2120, 7740, 2252, 2029, 2003, 2092, 13790, 1012, 13109, 4430, 15010, 16014, 2015, 2008, 2007, 1996, 7740, 2252, 1005, 1055, 2393, 1996, 2175, 2361, 2097, 4060, 2039, 2012, 2560, 2048, 7740, 4272, 1999, 2281, 2021, 1996, 8037, 2360, 2027, 2180, 1005, 1056, 2507, 2039, 2216, 4272, 2302, 1037, 2954, 1012, 2123, 9258, 2895, 2739, 1019, 1012, 2182, 1005, 1055, 1996, 2047, 6134, 2035, 3905, 2816, 2097, 2907, 4280, 2013, 2809, 1999, 1996, 2851, 6229, 1016, 2382, 1999, 1996, 5027, 2035, 4732, 2816, 3272, 2005, 2093, 1999, 15842, 2097, 2022, 2330, 2013, 3157, 1999, 1996, 2851, 6229, 2093, 1999, 1996, 5027, 1998, 2216, 2093, 16853, 2816, 1999, 15842, 2097, 2707, 2321, 2781, 2101, 2012, 1023, 2321, 1012, 7767, 13399, 2122, 3431, 2089, 2022, 2006, 2460, 5060, 2005, 2070, 3008, 2000, 14171, 2037, 20283, 2926, 2065, 2027, 1005, 2128, 2109, 2000, 4439, 2037, 4268, 2000, 2082, 2006, 1996, 2126, 2000, 2147, 1998, 2008, 2168, 2391, 2234, 2039, 3892, 2077, 1996, 2604, 3789, 1012, 15631, 2360, 2027, 1005, 2222, 2022, 3201, 2000, 3749, 2019, 2220, 2851, 2565, 2000, 2216, 2220, 25470, 2012, 1037, 3465, 1997, 2048, 6363, 2566, 3076, 2566, 2733, 2008, 2134, 1005, 1056, 4133, 2092, 2295, 2007, 2070, 2604, 2372, 1012, 1996, 2200, 2945, 2008, 2057, 1005, 2128, 8074, 2000, 3477, 1996, 2048, 6363, 1037, 7922, 1998, 1037, 2431, 1037, 3852, 7408, 3649, 2024, 1996, 3924, 2008, 2788, 2031, 1996, 3469, 2945, 1998, 1996, 2560, 2583, 2000, 8984, 1012, 1045, 2036, 2572, 4986, 2055, 3529, 6350, 2000, 2122, 2336, 1012, 9133, 4787, 6017, 2056, 3361, 7565, 2071, 2022, 2499, 2041, 2007, 2945, 2040, 2481, 1005, 1056, 8984, 2220, 2851, 3454, 2021, 2145, 2359, 2000, 4530, 2037, 2336, 2125, 3805, 1997, 6134, 1012, 1037, 2047, 3274, 3550, 3902, 2799, 2291, 2003, 1996, 3114, 2005, 1996, 2047, 2082, 6134, 1012, 2008, 2047, 2291, 2003, 3465, 2397, 1012, 1996, 2212, 2097, 5247, 2048, 3634, 8442, 3157, 4595, 6363, 2023, 2095, 2006, 2009, 1998, 3155, 2028, 3634, 4228, 4595, 6363, 1999, 2086, 2000, 2272, 1012, 2021, 15631, 7475, 2027, 1005, 2222, 2203, 2039, 7494, 2769, 1999, 1996, 2146, 2448, 2011, 6276, 1996, 2193, 1997, 7793, 2027, 2342, 2011, 4228, 1012, 2130, 2295, 2009, 2089, 2022, 2062, 8114, 2295, 2070, 2336, 2097, 2145, 2203, 2039, 5938, 2039, 2000, 2019, 3178, 1998, 1037, 2431, 2006, 1037, 3902, 2000, 2131, 2000, 2082, 1012, 3008, 2097, 2424, 2041, 2037, 2775, 1005, 1055, 3327, 3902, 5847, 1998, 15373, 2335, 2274, 2000, 2702, 2420, 2077, 2082, 4627, 2043, 1996, 2212, 5653, 2015, 2041, 2799, 14799, 2005, 1996, 2034, 2051, 2412, 1998, 24389, 2895, 2739, 2274, 1012, 1996, 11867, 3540, 3791, 2055, 2048, 4595, 6363, 1037, 3204, 1012, 2023, 19243, 4674, 3077, 2557, 2276, 2247, 2007, 2093, 2500, 2031, 2042, 2006, 1996, 2250, 2035, 2154, 4851, 2005, 2769, 1012, 2009, 1005, 1055, 2112, 1997, 1037, 2103, 2898, 2557, 22794, 9328, 2000, 3828, 1996, 2334, 11867, 3540, 2029, 3138, 1999, 16999, 1010, 4704, 1998, 18162, 8870, 1998, 6077, 1012, 1996, 11867, 3540, 20323, 2039, 2055, 2048, 4595, 6363, 1037, 3204, 1998, 2302, 2151, 6706, 5029, 2746, 1999, 2013, 1996, 2221, 2030, 2103, 1996, 7713, 2038, 2448, 2039, 1037, 11112, 1997, 2416, 4595, 6363, 1012, 2274, 3134, 3283, 2057, 2471, 2018, 2000, 2485, 2091, 2021, 2059, 1996, 2111, 1005, 1055, 4752, 2150, 2995, 4312, 1998, 2741, 2149, 2438, 2769, 2008, 2057, 2071, 2562, 2006, 2183, 2021, 2057, 1005, 2128, 2145, 1999, 1037, 4920, 2007, 2200, 2172, 1012, 2065, 1996, 7713, 2515, 2485, 2091, 2116, 1997, 2122, 4176, 2052, 2145, 2022, 24430, 6065, 5996, 1997, 22611, 2030, 15486, 2011, 2037, 5608, 1012, 2057, 1005, 2128, 2667, 2000, 2079, 2003, 2000, 2393, 2562, 1996, 4268, 1998, 6077, 4142, 1998, 2023, 2003, 2055, 1996, 2190, 2126, 2057, 2071, 2079, 2009, 2074, 2175, 2041, 2000, 1996, 2111, 1998, 2156, 2054, 2027, 2064, 2360, 1012, 2021, 2077, 1996, 2557, 22794, 9328, 2253, 2125, 1996, 2250, 2023, 3944, 1996, 7713, 2001, 2069, 2055, 1037, 4595, 6363, 2488, 2125, 2438, 2000, 2562, 2009, 2330, 2074, 2048, 2062, 3134, 1012, 11805, 3660, 2895, 2739, 2274, 19243, 4674, 3077, 1012, 102]\n",
      "['B-art' 'O' 'O' 'O' 'O' 'O' 'O' 'O' 'O' 'O' 'O' 'O' 'O' 'O' 'O' 'O' 'O'\n",
      " 'O' 'O' 'O' 'O' 'O' 'O' 'O' 'O' 'O' 'O' 'O' 'O' 'O' 'O' 'O' 'O' 'O' 'O'\n",
      " 'O' 'O' 'O' 'O' 'O' 'O' 'O' 'O' 'O' 'O' 'O' 'O' 'O' 'O' 'O' 'O' 'O' 'O'\n",
      " 'O' 'O' 'O' 'O' 'O' 'O' 'O' 'O' 'O' 'O' 'O' 'O' 'O' 'O' 'O' 'O' 'O' 'O'\n",
      " 'O' 'O' 'O' 'O' 'O' 'O' 'O' 'O' 'O' 'O' 'O' 'O' 'O' 'O' 'O' 'O' 'O' 'O'\n",
      " 'O' 'O' 'O' 'O' 'O' 'O' 'O' 'O' 'O' 'O' 'O' 'O' 'O' 'O' 'O' 'O' 'O' 'O'\n",
      " 'O' 'O' 'O' 'O' 'O' 'O' 'O' 'O' 'O' 'O' 'O' 'O' 'O' 'O' 'O' 'O' 'O' 'O'\n",
      " 'O' 'B-per' 'B-art']\n",
      "['$' 'NNS' 'IN' 'DT' 'NN' 'VBD' 'CD' 'NNS' '.' 'RB' 'DT' 'VBZ' 'VBZ' 'CD'\n",
      " 'NNS' 'IN' 'VBG' 'DT' 'NN' ',' 'NN' ',' 'CC' 'VBG' 'DT' 'NNS' '.' 'CD'\n",
      " 'NNS' 'NN' 'NN' ',' 'CC' 'CD' 'NNS' 'JJ' 'NN' '.' 'DT' 'NNS' 'IN' 'DT'\n",
      " 'NN' 'NNS' 'VBP' 'IN' 'DT' 'NN' 'DT' 'NN' '.' 'VBG' 'DT' 'CD' 'NNS' 'NN'\n",
      " 'MD' 'RB' 'VB' 'PRP' 'DT' 'NN' 'JJR' '.' 'PRP' 'VBP' 'PRP' 'MD' 'VB' 'RP'\n",
      " 'VBG' 'DT' 'NN' '.' 'PRP' 'VBZ' 'MD' 'VB' 'NNS' 'NNS' 'IN' 'DT' 'NN'\n",
      " 'VBZ' 'RB' '.' 'CC' 'CD' 'NNS' 'MD' 'RB' 'RB' 'VB' 'DT' 'DT' '.' 'RB'\n",
      " 'IN' 'PRP' 'VBP' 'DT' 'NN' ',' 'WP' 'VBZ' 'VBZ' 'DT' 'VB' 'TO' 'PRP' '.'\n",
      " 'PRP' 'VBZ' 'DT' 'NN' 'IN' 'NN' 'PRP' 'MD' 'VB' '.' 'IN' 'PRP' 'MD' 'VB'\n",
      " ',' 'NNP' '$']\n"
     ]
    }
   ],
   "source": [
    "import re\n",
    "\n",
    "meta_data = joblib.load(\"meta.bin\")\n",
    "enc_pos = meta_data[\"enc_pos\"]\n",
    "enc_tag = meta_data[\"enc_tag\"]\n",
    "\n",
    "num_pos = len(list(enc_pos.classes_))\n",
    "num_tag = len(list(enc_tag.classes_))\n",
    "\n",
    "sentence = \"It's easier to dial three numbers than it is to look up a number and dial about four different departments. You're trying to decide whether you need to dial the Wilson Police Department, the Sheriff's Department, the Fire Department of the Rescue and you can dial this three numbers and get all four departments at one time. The 911 system will use the same number of dispatchers or telecommunicators as they like to be called as the current separate systems. \"\n",
    "tokenized_sentence = TOKENIZER.encode(sentence)\n",
    "sentence = sentence.split()\n",
    "print(sentence)\n",
    "print(tokenized_sentence)\n",
    "\n",
    "test_dataset = EntityDataset(\n",
    "    texts=[sentence], \n",
    "    pos=[[0] * len(sentence)], \n",
    "    tags=[[0] * len(sentence)]\n",
    ")\n",
    "\n",
    "device = torch.device(\"cuda\") if torch.cuda.is_available() else torch.device(\"cpu\")\n",
    "model = EntityModel(num_tag=num_tag, num_pos=num_pos)\n",
    "model.load_state_dict(torch.load(MODEL_PATH))\n",
    "model.to(device)\n",
    "\n",
    "with torch.no_grad():\n",
    "    data = test_dataset[0]\n",
    "    for k, v in data.items():\n",
    "        data[k] = v.to(device).unsqueeze(0)\n",
    "    tag, pos, _ = model(**data)\n",
    "\n",
    "    print(\n",
    "        enc_tag.inverse_transform(\n",
    "            tag.argmax(2).cpu().numpy().reshape(-1)\n",
    "        )[:len(tokenized_sentence)]\n",
    "    )\n",
    "    print(\n",
    "        enc_pos.inverse_transform(\n",
    "            pos.argmax(2).cpu().numpy().reshape(-1)\n",
    "        )[:len(tokenized_sentence)]\n",
    "    )\n",
    "       # print(tokenized_sentence[i])"
   ]
  }
 ],
 "metadata": {
  "kernelspec": {
   "display_name": "Python 3",
   "language": "python",
   "name": "python3"
  },
  "language_info": {
   "codemirror_mode": {
    "name": "ipython",
    "version": 3
   },
   "file_extension": ".py",
   "mimetype": "text/x-python",
   "name": "python",
   "nbconvert_exporter": "python",
   "pygments_lexer": "ipython3",
   "version": "3.7.6"
  },
  "papermill": {
   "duration": 578.889954,
   "end_time": "2023-02-09T06:40:43.674881",
   "environment_variables": {},
   "exception": null,
   "input_path": "__notebook__.ipynb",
   "output_path": "__notebook__.ipynb",
   "parameters": {},
   "start_time": "2023-02-09T06:31:04.784927",
   "version": "2.1.0"
  }
 },
 "nbformat": 4,
 "nbformat_minor": 4
}
